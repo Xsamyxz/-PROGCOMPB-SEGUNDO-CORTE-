{
  "nbformat": 4,
  "nbformat_minor": 0,
  "metadata": {
    "colab": {
      "provenance": []
    },
    "kernelspec": {
      "name": "python3",
      "display_name": "Python 3"
    },
    "language_info": {
      "name": "python"
    }
  },
  "cells": [
    {
      "cell_type": "code",
      "execution_count": 6,
      "metadata": {
        "id": "Uu1pGsoqh7x-"
      },
      "outputs": [],
      "source": [
        "class Humano():\n",
        "  def __init_(self,nombre,sexo,brazos, piernas, cabello, ojos, estatura, peso,boca,orejas,rh):\n",
        "    self.nombre=nombre\n",
        "    self.sexo=sexo\n",
        "    self.brazos=brazos\n",
        "    self.piernas=piernas\n",
        "    self.cabello=cabello\n",
        "    self.ojos=ojos\n",
        "    self.estatura=estatura\n",
        "    self.peso=peso\n",
        "    self.boca=boca\n",
        "    self.orejas=orejas\n",
        "    self.rh=rh\n",
        "\n",
        "  def movilizarse(self,vel):\n",
        "    if vel<0:\n",
        "      print({self.nombre}, 'está retrocediendo')\n",
        "      vel=-vel\n",
        "      return vel\n",
        "    else:\n",
        "        print({self.nombre}, 'va pa´lante ')\n",
        "    if vel==0 :\n",
        "      return f\"{self.nombre} está en estado de reposo\"\n",
        "    elif 0>vel<=4:\n",
        "      return f\"{self.nombre} está caminando\"\n",
        "    elif 4>vel<=10:\n",
        "      return f'{self.nombre} está trotando'\n",
        "    elif 10>vel<=14:\n",
        "      return f\"{self.nombre} está corriendo\"\n",
        "    elif vel>14:\n",
        "      return f'{self.nombre} está volando'\n",
        "\n",
        "  def trabajo(self,trabajo):\n",
        "    trabajo=self.trabajo\n",
        "    if trabajo==0:\n",
        "      return f'{self.nombre} está desempleado'\n",
        "    elif trabajo !=0:\n",
        "      return f'{self.nombre} está trabajando'\n",
        "      if trabajo ==1:\n",
        "        return f'{self.nombre} trabaja de agricultor'\n",
        "      elif trabajo==2:\n",
        "        return f'{self.nombre} trabja como luchador'\n",
        "      elif trabajo==3:\n",
        "        return f'{self.nombre} trabaja  en el gobierno'\n",
        "      elif trabajo ==4:\n",
        "        return f'{self.nombre} trabaja como periodista'\n",
        "      elif trabajo == 5:\n",
        "        return f'{self.nombre} trabaja en la poli'\n",
        "\n",
        "\n",
        "  \n",
        "\n",
        "\n"
      ]
    },
    {
      "cell_type": "code",
      "source": [
        "class Sayajin():\n",
        "  def __init_(self,nombre,sexo,brazos, piernas, cabello, ojos, estatura, peso,boca,orejas,rh,cola_de_mono):\n",
        "    self.nombre=nombre\n",
        "    self.sexo=sexo\n",
        "    self.brazos=brazos\n",
        "    self.piernas=piernas\n",
        "    self.cabello=cabello\n",
        "    self.ojos=ojos\n",
        "    self.estatura=estatura\n",
        "    self.peso=peso\n",
        "    self.boca=boca\n",
        "    self.orejas=orejas\n",
        "    self.rh=rh\n",
        "    self.cola_de_mono=True\n",
        "\n",
        "  def movilizarse(self,vel):\n",
        "    if vel<0:\n",
        "      print({self.nombre}, 'está retrocediendo')\n",
        "      vel=-vel\n",
        "      return vel\n",
        "    else:\n",
        "        print({self.nombre}, 'va pa´lante ')\n",
        "    if vel==0 :\n",
        "      return f\"{self.nombre} está en estado de reposo\"\n",
        "    elif 0>vel<=4:\n",
        "      return f\"{self.nombre} está caminando\"\n",
        "    elif 4>vel<=10:\n",
        "      return f'{self.nombre} está trotando'\n",
        "    elif 10>vel<=14:\n",
        "      return f\"{self.nombre} está corriendo\"\n",
        "    elif vel>14:\n",
        "      return f'{self.nombre} está volando'\n",
        "\n",
        "  def trabajo(self,trabajo):\n",
        "    trabajo=self.trabajo\n",
        "    if trabajo==0:\n",
        "      return f'{self.nombre} está desempleado'\n",
        "    elif trabajo !=0:\n",
        "      return f'{self.nombre} está trabajando'\n",
        "      if trabajo ==1:\n",
        "        return f'{self.nombre} trabaja de agricultor'\n",
        "      elif trabajo==2:\n",
        "        return f'{self.nombre} trabja como guerrero'\n",
        "      elif trabajo==3:\n",
        "        return f'{self.nombre} es rey'\n",
        "      elif trabajo ==4:\n",
        "        return f'{self.nombre} trabaja como caza recompenza'\n",
        "      elif trabajo == 5:\n",
        "        return f'{self.nombre} es principe'\n",
        "\n",
        "  def transforma(self,moon):\n",
        "    if self.cola_de_mono and moon:\n",
        "      print('se va a transformar en mono gicante')\n",
        "    elif moon and self.cola_de_mono==False:\n",
        "      print('no se va a transformar')\n",
        "    elif moon==False and self.cola_de_mono==True:\n",
        "      print('no se va a transformar')\n",
        "    else:\n",
        "       print('no se va a transformar')\n",
        "\n",
        "\n",
        "\n",
        "\n"
      ],
      "metadata": {
        "id": "kO3lm12NsJtZ"
      },
      "execution_count": 10,
      "outputs": []
    },
    {
      "cell_type": "code",
      "source": [
        "class Hibrido(Sayajin,Humano): #herencia multiple\n",
        "  def poderes():\n",
        "    print((self.nombre), \"puede trnasformarse en modo bestia\")\n",
        "  "
      ],
      "metadata": {
        "id": "8FS11e53vQSM"
      },
      "execution_count": 17,
      "outputs": []
    },
    {
      "cell_type": "code",
      "source": [
        "gohan=Hibrido('gohan','m',2,2,'blanco',2,1.80,70,1,2,'o+',True)"
      ],
      "metadata": {
        "colab": {
          "base_uri": "https://localhost:8080/",
          "height": 171
        },
        "id": "l7Kjjeq5xYfw",
        "outputId": "bdc0f66a-b649-4107-dcf1-448e4f382189"
      },
      "execution_count": 18,
      "outputs": [
        {
          "output_type": "error",
          "ename": "TypeError",
          "evalue": "ignored",
          "traceback": [
            "\u001b[0;31m---------------------------------------------------------------------------\u001b[0m",
            "\u001b[0;31mTypeError\u001b[0m                                 Traceback (most recent call last)",
            "\u001b[0;32m<ipython-input-18-010d402409d3>\u001b[0m in \u001b[0;36m<module>\u001b[0;34m\u001b[0m\n\u001b[0;32m----> 1\u001b[0;31m \u001b[0mgohan\u001b[0m\u001b[0;34m=\u001b[0m\u001b[0mHibrido\u001b[0m\u001b[0;34m(\u001b[0m\u001b[0;34m'gohan'\u001b[0m\u001b[0;34m,\u001b[0m\u001b[0;34m'm'\u001b[0m\u001b[0;34m,\u001b[0m\u001b[0;36m2\u001b[0m\u001b[0;34m,\u001b[0m\u001b[0;36m2\u001b[0m\u001b[0;34m,\u001b[0m\u001b[0;34m'blanco'\u001b[0m\u001b[0;34m,\u001b[0m\u001b[0;36m2\u001b[0m\u001b[0;34m,\u001b[0m\u001b[0;36m1.80\u001b[0m\u001b[0;34m,\u001b[0m\u001b[0;36m70\u001b[0m\u001b[0;34m,\u001b[0m\u001b[0;36m1\u001b[0m\u001b[0;34m,\u001b[0m\u001b[0;36m2\u001b[0m\u001b[0;34m,\u001b[0m\u001b[0;34m'o+'\u001b[0m\u001b[0;34m,\u001b[0m\u001b[0;32mTrue\u001b[0m\u001b[0;34m)\u001b[0m\u001b[0;34m\u001b[0m\u001b[0;34m\u001b[0m\u001b[0m\n\u001b[0m",
            "\u001b[0;31mTypeError\u001b[0m: Hibrido() takes no arguments"
          ]
        }
      ]
    },
    {
      "cell_type": "code",
      "source": [
        "gohan.moon(True)"
      ],
      "metadata": {
        "colab": {
          "base_uri": "https://localhost:8080/",
          "height": 171
        },
        "id": "JOeFtUdDxxy_",
        "outputId": "ff11f039-5d92-4b18-9a47-d4ecb4f6096e"
      },
      "execution_count": 15,
      "outputs": [
        {
          "output_type": "error",
          "ename": "NameError",
          "evalue": "ignored",
          "traceback": [
            "\u001b[0;31m---------------------------------------------------------------------------\u001b[0m",
            "\u001b[0;31mNameError\u001b[0m                                 Traceback (most recent call last)",
            "\u001b[0;32m<ipython-input-15-216b2e636b63>\u001b[0m in \u001b[0;36m<module>\u001b[0;34m\u001b[0m\n\u001b[0;32m----> 1\u001b[0;31m \u001b[0mgohan\u001b[0m\u001b[0;34m.\u001b[0m\u001b[0mmoon\u001b[0m\u001b[0;34m(\u001b[0m\u001b[0;32mTrue\u001b[0m\u001b[0;34m)\u001b[0m\u001b[0;34m\u001b[0m\u001b[0;34m\u001b[0m\u001b[0m\n\u001b[0m",
            "\u001b[0;31mNameError\u001b[0m: name 'gohan' is not defined"
          ]
        }
      ]
    }
  ]
}