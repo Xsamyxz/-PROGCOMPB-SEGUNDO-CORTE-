{
  "nbformat": 4,
  "nbformat_minor": 0,
  "metadata": {
    "colab": {
      "provenance": [],
      "collapsed_sections": [
        "vhCU42RUk0Bs"
      ]
    },
    "kernelspec": {
      "name": "python3",
      "display_name": "Python 3"
    },
    "language_info": {
      "name": "python"
    }
  },
  "cells": [
    {
      "cell_type": "markdown",
      "source": [
        "#Operaciones por listas\n"
      ],
      "metadata": {
        "id": "vhCU42RUk0Bs"
      }
    },
    {
      "cell_type": "markdown",
      "source": [
        "las listas pueden contener una combinación de tipos de datos como strings, tuplas, listas, dictionarios, funciones, objetos, etc."
      ],
      "metadata": {
        "id": "QPwEsOCyl2CM"
      }
    },
    {
      "cell_type": "code",
      "source": [
        "from re import M\n",
        "#operaciones aplicables a una lista\n",
        "\n",
        "\n",
        "#Operaciones de definición  --->  []  \n",
        "\n",
        "x=[]\n",
        "\n",
        "\n",
        "#Operaciones mutables:\n",
        "\n",
        "#-Estas operaciones nos permiten trabajar con listas alterando o modificando su definición previa.\n",
        "\n",
        "# append ---> lista.append     Añade un único elemento al final de la lista.\n",
        "\n",
        "x = [1, 2]\n",
        "\n",
        "x.append('h')\n",
        "\n",
        "print(x)\n",
        "\n",
        "\n",
        "#  2) extend  ----> lista.extend    Añade otra lista al final de una lista.\n",
        "\n",
        "\n",
        "x.extend([3, 4])\n",
        "\n",
        "print(x)\n",
        "\n",
        "\n",
        "# 3) insert ----> lista.insert     Inserta un nuevo elemento en una posición determinada de la lista\n",
        "\n",
        "x.insert(0, 'y')\n",
        "\n",
        "\n",
        "\n",
        "# 4)  del      Elimina el elemento ubicado en el indice descrito     ['y'] o [:2]\n",
        "\n",
        "del x['y']\n",
        "\n",
        "\n",
        "\n",
        "# 5)  remove ----> lista.remove    Remueve la primer coincidencia del elemento especificado.\n",
        "\n",
        "x.remove(3)\n",
        "\n",
        "\n",
        "\n",
        "# 6) reverse ---->  lista.reverse     Invierte el orden de los elementos de la lista\n",
        "\n",
        "x.reverse()\n",
        "\n",
        "\n",
        "\n",
        "\n",
        "# 7) sort ------> lista.sort     ordena los elementos de la lista de menor a mayor\n",
        "\n",
        "x.sort()\n",
        "\n",
        "y = ['R', 'C', 'Python', 'Java', 'R']\n",
        "\n",
        "y.sort(reverse=True)\n",
        "\n",
        "\n",
        "\n",
        "#OPERACIONES INMUTABLES: Estas operaciones nos permiten trabajar con listas sin alterar o modificar su definición previa.\n",
        "\n",
        "# 1) sorted       rdenar los elementos de una lista de menor a mayor, al igual que el método sort, este comportamiento puede modificarse mediante el parámetro reverse=True\n",
        "\n",
        "m = [10, 30, 20]\n",
        "\n",
        "print(sorted(m))\n",
        "\n",
        "print(m)\n",
        "\n",
        "\n",
        "# 2) +    permite concatenar o unir dos listas diferentes en nueva lista.\n",
        "\n",
        "w = [40, 50, 60]\n",
        "\n",
        "\n",
        "print(m + w)\n",
        "\n",
        "# 3) * \n",
        "\n",
        "# 4) min\n",
        "\n",
        "# 5) max\n",
        "\n",
        "# 6) index\n",
        "\n",
        "# 7) count\n",
        "\n",
        "# 8) sum\n",
        "\n",
        "# 9) in"
      ],
      "metadata": {
        "id": "rA5UNhm-lRAG"
      },
      "execution_count": null,
      "outputs": []
    },
    {
      "cell_type": "code",
      "source": [],
      "metadata": {
        "id": "z4_ERlq-kwmu"
      },
      "execution_count": null,
      "outputs": []
    },
    {
      "cell_type": "markdown",
      "source": [
        "#Listas por compresión "
      ],
      "metadata": {
        "id": "8VBGzUdJeR_r"
      }
    },
    {
      "cell_type": "markdown",
      "source": [
        "La lista por comprensión es una construcción sintáctica disponible en Python con la que se pueden crear lista a partir de otros elementos iterables. Siendo una de las contracciones más elegantes del lenguaje. A continuación, se mostrará la sintaxis básica para trabajar con las listas por comprensión."
      ],
      "metadata": {
        "id": "0AkgjJSieiEv"
      }
    },
    {
      "cell_type": "code",
      "execution_count": null,
      "metadata": {
        "id": "pCu98DTBePY9"
      },
      "outputs": [],
      "source": [
        "#Los tipos de datos mutables son todos aquellos a los que es posible cambiar, modificar o actualizar su contenido. \n",
        "#Los objetos mutables más comunes son las listas, diccionarios y conjuntos que sirven para guardar colecciones de datos.\n",
        "\n",
        "#SINTAXIS DE LISTAS POR COMPRENSIÓN \n",
        "\n",
        "nueva_lista=[expresion bucle_for condiciones]\n",
        "\n",
        "\n",
        "#Entre corchetes se escribe una expresión seguida de un bucle for sobre el que se itera, para finalmente escribir unas condiciones\n",
        "\n"
      ]
    },
    {
      "cell_type": "code",
      "source": [
        "#EJEMPLO\n",
        "\n",
        "\n",
        "numbers = [1, 2, 3, 4]\n",
        "results = []\n",
        "for n in numbers:\n",
        "    results.append(n + 1)\n",
        "    \n",
        "results"
      ],
      "metadata": {
        "colab": {
          "base_uri": "https://localhost:8080/"
        },
        "id": "fHzZXm5JiLWN",
        "outputId": "5f91de2f-68cb-418f-d0d6-2b76a74c9911"
      },
      "execution_count": 7,
      "outputs": [
        {
          "output_type": "execute_result",
          "data": {
            "text/plain": [
              "[2, 3, 4, 5]"
            ]
          },
          "metadata": {},
          "execution_count": 7
        }
      ]
    },
    {
      "cell_type": "markdown",
      "source": [
        "**Condiciones en las listas por comprensión:**\n",
        "\n",
        "Es posible añadir condiciones a las listas por comprensión en Python. Para lo que se tiene que agregar un **if** al final con la condición. "
      ],
      "metadata": {
        "id": "AxfCdDvYjFRh"
      }
    },
    {
      "cell_type": "code",
      "source": [
        "numbers = [1, 2, 3, 4]\n",
        "results = [n + 1 for n in numbers if n < 5]\n",
        "results"
      ],
      "metadata": {
        "colab": {
          "base_uri": "https://localhost:8080/"
        },
        "id": "3TTYvUHyiSaE",
        "outputId": "c805601e-a1e5-4bca-9850-d27b33f205c1"
      },
      "execution_count": 3,
      "outputs": [
        {
          "output_type": "execute_result",
          "data": {
            "text/plain": [
              "[2, 3, 4, 5]"
            ]
          },
          "metadata": {},
          "execution_count": 3
        }
      ]
    },
    {
      "cell_type": "code",
      "source": [
        "results2=lambda numbers:results\n",
        "print(results2(numbers))"
      ],
      "metadata": {
        "colab": {
          "base_uri": "https://localhost:8080/"
        },
        "id": "pweV8x7YXHIW",
        "outputId": "22ff92c1-a675-43ef-d26e-dbac782ad86d"
      },
      "execution_count": 8,
      "outputs": [
        {
          "output_type": "stream",
          "name": "stdout",
          "text": [
            "[2, 3, 4, 5]\n"
          ]
        }
      ]
    },
    {
      "cell_type": "code",
      "source": [
        "n=int(input(\"Hasta que número quieres imprimir los pares e impares: \"))\n",
        "pares=[número for número in range(0,n+1) if número%2==0]\n",
        "print(pares)\n",
        "impares=[número for número in range(0,n+1) if número%2!=0]\n",
        "print(impares)"
      ],
      "metadata": {
        "colab": {
          "base_uri": "https://localhost:8080/"
        },
        "id": "vBRZC7Q_hwq9",
        "outputId": "46221ab0-3446-475c-e209-4695d9662006"
      },
      "execution_count": 9,
      "outputs": [
        {
          "output_type": "stream",
          "name": "stdout",
          "text": [
            "Hasta que número quieres imprimir los pares e impares: 20\n",
            "[0, 2, 4, 6, 8, 10, 12, 14, 16, 18, 20]\n",
            "[1, 3, 5, 7, 9, 11, 13, 15, 17, 19]\n"
          ]
        }
      ]
    },
    {
      "cell_type": "code",
      "source": [
        "num=int(input(\"Hasta que número quieres imprimir los pares e impares: \"))\n",
        "def hola(n):\n",
        "  pares=[número for número in range(0,n+1) if número%2==0]\n",
        "  print(pares)\n",
        "  impares=[número for número in range(0,n+1) if número%2!=0]\n",
        "  print(impares)\n",
        "hola(num)"
      ],
      "metadata": {
        "colab": {
          "base_uri": "https://localhost:8080/"
        },
        "id": "DAdEyuMfiO_U",
        "outputId": "3a3f9b02-086b-40cc-faf6-e36cb2b4772e"
      },
      "execution_count": 10,
      "outputs": [
        {
          "output_type": "stream",
          "name": "stdout",
          "text": [
            "Hasta que número quieres imprimir los pares e impares: 20\n",
            "[0, 2, 4, 6, 8, 10, 12, 14, 16, 18, 20]\n",
            "[1, 3, 5, 7, 9, 11, 13, 15, 17, 19]\n"
          ]
        }
      ]
    },
    {
      "cell_type": "code",
      "source": [
        "num=int(input(\"Hasta que número quieres imprimir los pares e impares: \"))\n",
        "mi_lista=[n for n in range(0,num+1)]\n",
        "impares=list(filter(lambda num:num%2!=0,mi_lista))\n",
        "print(impares)\n",
        "pares=list(filter(lambda num:num%2==0,mi_lista))\n",
        "print(pares)"
      ],
      "metadata": {
        "colab": {
          "base_uri": "https://localhost:8080/"
        },
        "id": "xT3oT9lKidqE",
        "outputId": "0e6445c8-6bee-45af-9048-a4fc022bda0f"
      },
      "execution_count": 11,
      "outputs": [
        {
          "output_type": "stream",
          "name": "stdout",
          "text": [
            "Hasta que número quieres imprimir los pares e impares: 20\n",
            "[1, 3, 5, 7, 9, 11, 13, 15, 17, 19]\n",
            "[0, 2, 4, 6, 8, 10, 12, 14, 16, 18, 20]\n"
          ]
        }
      ]
    },
    {
      "cell_type": "code",
      "source": [
        "#numero perfecto\n",
        "\n",
        "def perfecto(numero):\n",
        "  perf=0\n",
        "  for i in range (1,numero):\n",
        "    if numero %i==0:\n",
        "      perf+=i\n",
        "  if perf ==numero:\n",
        "    print('es numero perfecto')\n",
        "    return True\n",
        "  else:\n",
        "     print('no es numero perfecto')\n",
        "numero=6\n",
        "perfecto (numero)\n"
      ],
      "metadata": {
        "colab": {
          "base_uri": "https://localhost:8080/"
        },
        "id": "qWsjNWqglr3i",
        "outputId": "15780c26-6a3b-425e-9869-ecf8be4161da"
      },
      "execution_count": 1,
      "outputs": [
        {
          "output_type": "stream",
          "name": "stdout",
          "text": [
            "es numero perfecto\n"
          ]
        },
        {
          "output_type": "execute_result",
          "data": {
            "text/plain": [
              "True"
            ]
          },
          "metadata": {},
          "execution_count": 1
        }
      ]
    },
    {
      "cell_type": "code",
      "source": [
        "def numeros():\n",
        "  a=int(input('ingresa un número'))\n",
        "  b=int(input('ingresa un número'))\n",
        "  c=int(input('ingresa un número'))\n",
        "  d=int(input('ingresa un número'))\n",
        "  perfect=[a,b,c,d]\n",
        "\n",
        "  perfect1=[elemento for elemento in perfect if perfecto(elemento)==True ]\n",
        "numeros()\n"
      ],
      "metadata": {
        "colab": {
          "base_uri": "https://localhost:8080/"
        },
        "id": "Z3FnCX_3lrwT",
        "outputId": "90d52c8e-ba0c-4aad-9445-d07844825a35"
      },
      "execution_count": 2,
      "outputs": [
        {
          "output_type": "stream",
          "name": "stdout",
          "text": [
            "ingresa un número1\n",
            "ingresa un número2\n",
            "ingresa un número3\n",
            "ingresa un número6\n",
            "no es numero perfecto\n",
            "no es numero perfecto\n",
            "no es numero perfecto\n",
            "es numero perfecto\n"
          ]
        }
      ]
    },
    {
      "cell_type": "code",
      "source": [
        "lista=[2,3,6,4]\n",
        "#lambda y map\n",
        "perfect2=list(map(lambda elemento:perfecto(elemento)==True,lista))\n",
        "perfect2\n"
      ],
      "metadata": {
        "colab": {
          "base_uri": "https://localhost:8080/"
        },
        "id": "fmaYHk46lroU",
        "outputId": "8f18edc5-b2fe-43de-c907-155742433ca5"
      },
      "execution_count": 3,
      "outputs": [
        {
          "output_type": "stream",
          "name": "stdout",
          "text": [
            "no es numero perfecto\n",
            "no es numero perfecto\n",
            "es numero perfecto\n",
            "no es numero perfecto\n"
          ]
        },
        {
          "output_type": "execute_result",
          "data": {
            "text/plain": [
              "[False, False, True, False]"
            ]
          },
          "metadata": {},
          "execution_count": 3
        }
      ]
    },
    {
      "cell_type": "code",
      "source": [
        "##metodo clasico\n",
        "numero1= [random.randint(0,2000) for x in range(100)]\n",
        "numero2= [random.randint(0,2000) for x in range(100)]\n",
        "comun=[]\n",
        "for a in numero1:\n",
        "  for b in numero2:\n",
        "    if a == b:\n",
        "      comun.append(a)\n",
        "print(comun)"
      ],
      "metadata": {
        "colab": {
          "base_uri": "https://localhost:8080/"
        },
        "id": "zk35BloTpWBs",
        "outputId": "617eb763-0868-4046-843b-c301558a71f0"
      },
      "execution_count": 10,
      "outputs": [
        {
          "output_type": "stream",
          "name": "stdout",
          "text": [
            "[538, 624, 624, 949, 1666, 483]\n"
          ]
        }
      ]
    },
    {
      "cell_type": "code",
      "source": [
        "##lamdba y filter\n",
        "import random\n",
        "numero1= [random.randint(0,2000) for x in range(100)]\n",
        "numero2= [random.randint(0,2000) for x in range(100)]\n",
        "comun=[]\n",
        "comun=list(filter(lambda num:num in numero1,numero2))\n",
        "print(comun)"
      ],
      "metadata": {
        "colab": {
          "base_uri": "https://localhost:8080/"
        },
        "id": "XrRthgYfniEg",
        "outputId": "da103ac9-73d0-41fd-ecc6-9c933adf5f09"
      },
      "execution_count": 9,
      "outputs": [
        {
          "output_type": "stream",
          "name": "stdout",
          "text": [
            "[1564, 570, 696, 900]\n"
          ]
        }
      ]
    }
  ]
}