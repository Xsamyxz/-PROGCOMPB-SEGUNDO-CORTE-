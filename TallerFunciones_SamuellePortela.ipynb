{
  "nbformat": 4,
  "nbformat_minor": 0,
  "metadata": {
    "colab": {
      "provenance": []
    },
    "kernelspec": {
      "name": "python3",
      "display_name": "Python 3"
    },
    "language_info": {
      "name": "python"
    }
  },
  "cells": [
    {
      "cell_type": "code",
      "execution_count": 2,
      "metadata": {
        "id": "dsKALskGqs7s",
        "colab": {
          "base_uri": "https://localhost:8080/"
        },
        "outputId": "009038f5-970f-47ce-a9f9-ad76bcf4dd60"
      },
      "outputs": [
        {
          "output_type": "stream",
          "name": "stdout",
          "text": [
            "ingrese un primer número: 9\n",
            "ingrese un segundo número: 20\n",
            "el segundo número es mayor que el primero.\n"
          ]
        }
      ],
      "source": [
        "#1. Determine el mayor de dos números.\n",
        "\n",
        "n1=int(input(\"ingrese un primer número: \"))\n",
        "n2=int(input(\"ingrese un segundo número: \"))\n",
        "\n",
        "if n1>n2:\n",
        "  print(\"el primer número es mayor que el segundo.\")\n",
        "elif n1==n2:\n",
        "  print(\"son iguales.\")\n",
        "else:\n",
        "  print(\"el segundo número es mayor que el primero.\")\n"
      ]
    },
    {
      "cell_type": "code",
      "source": [
        "#2. Determine el mayor de tres números (empleando la función anterior)\n",
        "\n",
        "print('ingrese números diferentes.')\n",
        "n3=int(input(\"ingrese un primer número: \"))\n",
        "n4=int(input(\"ingrese un segundo número: \"))\n",
        "n5=int(input(\"ingrese un tercer número: \"))\n",
        "\n",
        "if n3>n4 and n4>n5:\n",
        "  print(\"el primer número es el mayor.\")\n",
        "elif n3==n4==n5:\n",
        "  print(\"son iguales.\")\n",
        "elif n4>n3 and n3>n5:\n",
        "  print(\"el segundo número es el mayor.\")\n",
        "elif n5>n4 and n4>n3:\n",
        "  print(\"el tercer número es el mayor.\")"
      ],
      "metadata": {
        "id": "W8lMmm7QrYRZ",
        "colab": {
          "base_uri": "https://localhost:8080/"
        },
        "outputId": "0fcab62e-aee7-40c7-83bf-e83b23c1f26b"
      },
      "execution_count": 5,
      "outputs": [
        {
          "output_type": "stream",
          "name": "stdout",
          "text": [
            "ingrese números diferentes.\n",
            "ingrese un primer número: 4\n",
            "ingrese un segundo número: 6\n",
            "ingrese un tercer número: 3\n",
            "el segundo número es el mayor.\n"
          ]
        }
      ]
    },
    {
      "cell_type": "code",
      "source": [
        "#3. Sumar los números de una lista de 3 elementos. Ejemplo [3,4,5]. Salida: 12\n",
        "\n",
        "lista=[3,4,5]\n",
        "x=lista[0]\n",
        "y=lista[1]\n",
        "z=lista[2]\n",
        "\n",
        "suma=(x+y+z)\n",
        "\n",
        "print('los números de la lista son:',lista)\n",
        "print('la suma es:',suma)"
      ],
      "metadata": {
        "id": "1t2gOhfkrgEr",
        "colab": {
          "base_uri": "https://localhost:8080/"
        },
        "outputId": "51e9d051-3442-49fc-d07c-52f0befdb7e2"
      },
      "execution_count": 7,
      "outputs": [
        {
          "output_type": "stream",
          "name": "stdout",
          "text": [
            "los números de la lista son: [3, 4, 5]\n",
            "la suma es: 12\n"
          ]
        }
      ]
    },
    {
      "cell_type": "code",
      "source": [
        "#4. Sumar los números de una lista de 4 elementos. Ejemplo [3,4,5,6]. Salida: 18\n",
        "\n",
        "lista=[3,4,5,6]\n",
        "x=lista[0]\n",
        "y=lista[1]\n",
        "z=lista[2]\n",
        "w=lista[3]\n",
        "\n",
        "suma=(x+y+z+w)\n",
        "\n",
        "print('los números de la lista son:',lista)\n",
        "print('la suma es:',suma)"
      ],
      "metadata": {
        "id": "bUC2B9qwsT7n",
        "colab": {
          "base_uri": "https://localhost:8080/"
        },
        "outputId": "a254cbab-450f-4170-866d-a4bdb96d115e"
      },
      "execution_count": 8,
      "outputs": [
        {
          "output_type": "stream",
          "name": "stdout",
          "text": [
            "los números de la lista son: [3, 4, 5, 6]\n",
            "la suma es: 18\n"
          ]
        }
      ]
    },
    {
      "cell_type": "code",
      "source": [
        "#5. Sumar todos los números de una lista. Ejemplo: (8,5,3,1). Salida: 17\n",
        "\n",
        "lista=[8,5,3,1]\n",
        "sumanúmeros=0\n",
        "for sumanúmeros in lista:\n",
        "  sumanúmeros=sum(lista)\n",
        "\n",
        "\n",
        "\n",
        "print('los números de la lista son:',lista)\n",
        "print('la suma es:',sumanúmeros)"
      ],
      "metadata": {
        "id": "vL6WrEhtsZMN",
        "colab": {
          "base_uri": "https://localhost:8080/"
        },
        "outputId": "84096e75-90e0-4ff4-fa9e-3e965c72c507"
      },
      "execution_count": 10,
      "outputs": [
        {
          "output_type": "stream",
          "name": "stdout",
          "text": [
            "los números de la lista son: [8, 5, 3, 1]\n",
            "la suma es: 17\n"
          ]
        }
      ]
    },
    {
      "cell_type": "code",
      "source": [
        "#6. Multiplicar los números de una lista de 3 elementos. Ejemplo [0,4,5]. Salida: 0\n",
        "\n",
        "lista=[0,4,5]\n",
        "x=lista[0]\n",
        "y=lista[1]\n",
        "z=lista[2]\n",
        "\n",
        "multiplicaión=(x*y*z)\n",
        "\n",
        "print('los números de la lista son:',lista)\n",
        "print('el resultado es:',multiplicaión)"
      ],
      "metadata": {
        "id": "cKI0SYtosbfH",
        "colab": {
          "base_uri": "https://localhost:8080/"
        },
        "outputId": "0845477e-4b28-4dc9-fada-d175106fea9f"
      },
      "execution_count": 11,
      "outputs": [
        {
          "output_type": "stream",
          "name": "stdout",
          "text": [
            "los números de la lista son: [0, 4, 5]\n",
            "el resultado es: 0\n"
          ]
        }
      ]
    },
    {
      "cell_type": "code",
      "source": [
        "#7. Multiplicar los números de una lista de 4 elementos. Ejemplo [3,4,5,1]. Salida: 60\n",
        "\n",
        "lista=[3,4,5,1]\n",
        "x=lista[0]\n",
        "y=lista[1]\n",
        "z=lista[2]\n",
        "w=lista[3]\n",
        "\n",
        "multiplicaión=(x*y*z*w)\n",
        "\n",
        "print('los números de la lista son:',lista)\n",
        "print('el resultado es:',multiplicaión)"
      ],
      "metadata": {
        "id": "LClHvW6ksdGy",
        "colab": {
          "base_uri": "https://localhost:8080/"
        },
        "outputId": "648dfaa9-6fd8-4d4c-fdca-ce689f51b624"
      },
      "execution_count": 12,
      "outputs": [
        {
          "output_type": "stream",
          "name": "stdout",
          "text": [
            "los números de la lista son: [3, 4, 5, 1]\n",
            "el resultado es: 60\n"
          ]
        }
      ]
    },
    {
      "cell_type": "code",
      "source": [
        "#8. Multiplicar todos los números de una lista. Ejemplo: (1,2,3,-1). Salida: -6\n",
        "\n",
        "def multiplyList(myList) :\n",
        "     \n",
        "    result = 1\n",
        "    for x in myList:\n",
        "         result = result * x \n",
        "    return result\n",
        "myList=[1,2,3,-1]\n",
        "\n",
        "print(multiplyList(myList))"
      ],
      "metadata": {
        "id": "cfwVheB_tAWA",
        "colab": {
          "base_uri": "https://localhost:8080/"
        },
        "outputId": "0fac31d4-2dc4-425a-bfc7-1944ca0dccf6"
      },
      "execution_count": 15,
      "outputs": [
        {
          "output_type": "stream",
          "name": "stdout",
          "text": [
            "-6\n"
          ]
        }
      ]
    },
    {
      "cell_type": "code",
      "source": [
        "#9. Invierta un String. Ejemplo: ingresa Hola y retorna aloH\n",
        "\n",
        "texto=str(input('ingrese una palabra: '))\n",
        "\n",
        "textoinvrt=texto[::-1]\n",
        "\n",
        "print(textoinvrt)"
      ],
      "metadata": {
        "id": "NCqNY_zdtA1P",
        "colab": {
          "base_uri": "https://localhost:8080/"
        },
        "outputId": "76c702de-f820-4036-f65e-b5805a205bed"
      },
      "execution_count": 19,
      "outputs": [
        {
          "output_type": "stream",
          "name": "stdout",
          "text": [
            "ingrese una palabra: Hola\n",
            "aloH\n"
          ]
        }
      ]
    },
    {
      "cell_type": "code",
      "source": [
        "#10. Calcular el factorial de un número\n",
        "from math import factorial\n",
        "\n",
        "\n",
        "x=input('ingrese un número: ')\n",
        "n=int(x)\n",
        "fac=math.factorial(n)\n",
        "\n",
        "print('la factorial de', n, 'es: ', fac)"
      ],
      "metadata": {
        "id": "NIp8sDIKtBNO",
        "colab": {
          "base_uri": "https://localhost:8080/"
        },
        "outputId": "806fba39-91a8-4bb7-d5a1-230d1d00a387"
      },
      "execution_count": 48,
      "outputs": [
        {
          "output_type": "stream",
          "name": "stdout",
          "text": [
            "ingrese un número: 5\n",
            "la factorial de 5 es:  120\n"
          ]
        }
      ]
    },
    {
      "cell_type": "code",
      "source": [
        "#11. Si un número está dentro de un rango.\n",
        "\n",
        "y=int(input('ingrese el número a buscar: '))\n",
        "\n",
        "if y in range(0,100,1):\n",
        "  print('si está')"
      ],
      "metadata": {
        "id": "usXgwhLEtBaw",
        "colab": {
          "base_uri": "https://localhost:8080/"
        },
        "outputId": "8996c861-025f-4e4c-b6bb-5285160485d9"
      },
      "execution_count": 49,
      "outputs": [
        {
          "output_type": "stream",
          "name": "stdout",
          "text": [
            "ingrese el número a buscar: 26\n",
            "si está\n"
          ]
        }
      ]
    },
    {
      "cell_type": "code",
      "source": [
        "#12. Capture el número de mayúsculas y minúsculas en una oración.\n",
        "\n",
        "import re\n",
        "\n",
        "string = input(\"Ingrese una oración: \")\n",
        "\n",
        "textoSoloMayusculas= re.sub('[^A-Z]', '', string)\n",
        "\n",
        "textoSoloMinusculas= re.sub('[^a-z]', '', string)\n",
        "\n",
        "\n",
        "print(\"Mayusculas: \" + str(len(textoSoloMayusculas)))\n",
        "\n",
        "print(\"Minusculas: \" + str(len(textoSoloMinusculas)))\n"
      ],
      "metadata": {
        "colab": {
          "base_uri": "https://localhost:8080/"
        },
        "id": "eUViOK9HMzML",
        "outputId": "b9a41c94-89d1-4325-c6bc-8e741ed04b22"
      },
      "execution_count": 56,
      "outputs": [
        {
          "output_type": "stream",
          "name": "stdout",
          "text": [
            "Ingrese una oración: MadrE MIa DEl AMOR hermosO\n",
            "Mayusculas: 11\n",
            "Minusculas: 11\n"
          ]
        }
      ]
    },
    {
      "cell_type": "code",
      "source": [
        "#12.1. Capture el número de mayúsculas y minúsculas en una oración.\n",
        "\n",
        "string = input(\"Ingrese una oración: \")\n",
        "\n",
        "\n",
        "mayusculas = len([c for c in string if c.isupper()])\n",
        "minusculas = len([c for c in string if c.islower()])\n",
        "\n",
        "print(mayusculas)\n",
        "print(minusculas)"
      ],
      "metadata": {
        "colab": {
          "base_uri": "https://localhost:8080/"
        },
        "id": "eFMLpIJkN0j-",
        "outputId": "3a24e0f4-d7f0-4ef2-9016-42cbf9260a8f"
      },
      "execution_count": 59,
      "outputs": [
        {
          "output_type": "stream",
          "name": "stdout",
          "text": [
            "Ingrese una oración: MadrE MIa DEl AMOR hermos\n",
            "10\n",
            "11\n"
          ]
        }
      ]
    },
    {
      "cell_type": "code",
      "source": [
        "#13. El ejercicio anterior, pero almacene los resultados en un diccionario.\n",
        "\n",
        "string2 = input(\"Ingrese una oración: \")\n",
        "\n",
        "\n",
        "mayusculas = len([c for c in string2 if c.isupper()])\n",
        "minusculas = len([c for c in string2 if c.islower()])\n",
        "\n",
        "total={'mayusculas','minusculas'}\n",
        "\n",
        "print(mayusculas)\n",
        "print(minusculas)\n",
        "print(total)"
      ],
      "metadata": {
        "id": "MHeLO7CItCAW",
        "colab": {
          "base_uri": "https://localhost:8080/"
        },
        "outputId": "326ab381-b06e-4922-c807-3408b475f776"
      },
      "execution_count": 60,
      "outputs": [
        {
          "output_type": "stream",
          "name": "stdout",
          "text": [
            "Ingrese una oración: Amor Mio DE mi vida\n",
            "4\n",
            "11\n",
            "{'mayusculas', 'minusculas'}\n"
          ]
        }
      ]
    },
    {
      "cell_type": "code",
      "source": [
        "#14. Reciba una lista y retorne sólo los elementos pares\n",
        "\n",
        "pares=[1,2,3,4,5,6,7,8,9,10,11,12,13,14,15,16,17,18,19,20,21,22,23,24,25,26,27,28,29,30]\n",
        "\n",
        "for i in pares:\n",
        "  if i%2==0:\n",
        "    \n",
        "    print(i , end=\"-\")"
      ],
      "metadata": {
        "id": "pbftl2ITtbIc",
        "colab": {
          "base_uri": "https://localhost:8080/"
        },
        "outputId": "ed96001e-424f-4d44-bd17-bf4a8e94fec7"
      },
      "execution_count": 66,
      "outputs": [
        {
          "output_type": "stream",
          "name": "stdout",
          "text": [
            "2-4-6-8-10-12-14-16-18-20-22-24-26-28-30-"
          ]
        }
      ]
    },
    {
      "cell_type": "code",
      "source": [
        "#14.1. Reciba una lista y retorne sólo los elementos  impares\n",
        "\n",
        "impares=[1,2,3,4,5,6,7,8,9,10,11,12,13,14,15,16,17,18,19,20,21,22,23,24,25,26,27,28,29,30]\n",
        "\n",
        "for i in pares:\n",
        "  if i%2!=0:\n",
        "    \n",
        "    print(i , end=\"-\")"
      ],
      "metadata": {
        "id": "hGFsEYlttdH2",
        "colab": {
          "base_uri": "https://localhost:8080/"
        },
        "outputId": "f60ba34f-32c8-4723-b670-b191ad26b132"
      },
      "execution_count": 80,
      "outputs": [
        {
          "output_type": "stream",
          "name": "stdout",
          "text": [
            "1-3-5-7-9-11-13-15-17-19-21-23-25-27-29-"
          ]
        }
      ]
    },
    {
      "cell_type": "code",
      "source": [
        "#15. Reciba una lista y retorne sólo los elementos de posición impar\n",
        "\n",
        "impares=[1,2,3,4,5,6,7,8,9,10,11,12,13,14,15,16,17,18,19,20,21,22,23,24,25,26,27,28,29,30]\n",
        "\n",
        "imp=impares[1:29:2]\n",
        "\n",
        "imp"
      ],
      "metadata": {
        "colab": {
          "base_uri": "https://localhost:8080/"
        },
        "id": "w1n9WkSaq0Fq",
        "outputId": "ab9910d4-ab34-40ed-b9dc-8e92fe3f804f"
      },
      "execution_count": 99,
      "outputs": [
        {
          "output_type": "execute_result",
          "data": {
            "text/plain": [
              "[2, 4, 6, 8, 10, 12, 14, 16, 18, 20, 22, 24, 26, 28]"
            ]
          },
          "metadata": {},
          "execution_count": 99
        }
      ]
    },
    {
      "cell_type": "code",
      "source": [
        "#16. Recibir un número y decir si es perfecto o no. Ejemplo: 6 es perfecto, porque la suma de sus divisores es 6 (1+2+3)\n",
        "\n",
        "def NumeroPerfecto(num):\n",
        "  suma = 0\n",
        "  for i in range(1,num):\n",
        "    if (num % i == 0):\n",
        "      suma += i\n",
        " \n",
        "  if num == suma:\n",
        "    return True\n",
        "  else:\n",
        "    return False\n",
        " \n",
        "num = int(input(\"introduzca un numero:\"))\n",
        " \n",
        "if NumeroPerfecto(num):\n",
        "  print(\"%s es un numero perfecto\" % num)\n",
        "else:\n",
        "  print(\"%s NO es un numero perfecto\" % num)"
      ],
      "metadata": {
        "id": "QBl8lzMttdRs",
        "colab": {
          "base_uri": "https://localhost:8080/"
        },
        "outputId": "772b23f2-7968-4cab-e95a-a033abe780f0"
      },
      "execution_count": 91,
      "outputs": [
        {
          "output_type": "stream",
          "name": "stdout",
          "text": [
            "introduzca un numero:496\n",
            "496 es un numero perfecto\n"
          ]
        }
      ]
    },
    {
      "cell_type": "code",
      "source": [
        "#17. Chequear si una palabra es palíndromo o no. Ejemplo: “Ana” es un palíndromo\n",
        "\n",
        "palabra= input('ingrese una palabra: ')\n",
        "print(palabra)\n",
        "if str(palabra) == \"\".join(reversed(palabra)) :\n",
        "    print(\"it´s Palindrome\")\n",
        "else:\n",
        "    print(\"it´s not Palindrome\")\n"
      ],
      "metadata": {
        "id": "ZZpv9IDHtd9Q",
        "colab": {
          "base_uri": "https://localhost:8080/"
        },
        "outputId": "b2995f1b-948f-4613-ef78-e675aa308f3b"
      },
      "execution_count": 95,
      "outputs": [
        {
          "output_type": "stream",
          "name": "stdout",
          "text": [
            "ingrese una palabra: sam\n",
            "sam\n",
            "it´s not Palindrome\n"
          ]
        }
      ]
    },
    {
      "cell_type": "code",
      "source": [
        "#18. Imprimir la fila n del triángulo de pascal.\n",
        "\n",
        "from math import factorial \n",
        "  \n",
        "n = 5\n",
        "for i in range(n): \n",
        "    for j in range(n-i+1): \n",
        "  \n",
        "        \n",
        "        print(end=\" \") \n",
        "  \n",
        "    for j in range(i+1): \n",
        "  \n",
        "        \n",
        "        print(factorial(i)//(factorial(j)*factorial(i-j)), end=\" \") \n",
        "  \n",
        "    \n",
        "    print() "
      ],
      "metadata": {
        "id": "_ejSrDazteQa",
        "colab": {
          "base_uri": "https://localhost:8080/"
        },
        "outputId": "420dce2f-da99-4215-b59f-2df8cebe5675"
      },
      "execution_count": 98,
      "outputs": [
        {
          "output_type": "stream",
          "name": "stdout",
          "text": [
            "      1 \n",
            "     1 1 \n",
            "    1 2 1 \n",
            "   1 3 3 1 \n",
            "  1 4 6 4 1 \n"
          ]
        }
      ]
    },
    {
      "cell_type": "code",
      "source": [
        "#19. Imprimir una frase tipo oración. Ejemplo: Ingresa: esta es una oración e imprime Esta es una oración.\n",
        "\n",
        "frase=str(\"esta es una oración\")\n",
        "oración=frase.capitalize()\n",
        "\n",
        "oración"
      ],
      "metadata": {
        "id": "757cH-MNtelP",
        "colab": {
          "base_uri": "https://localhost:8080/",
          "height": 35
        },
        "outputId": "0edcbb79-1b09-4267-b8df-160c52ace497"
      },
      "execution_count": 102,
      "outputs": [
        {
          "output_type": "execute_result",
          "data": {
            "text/plain": [
              "'Esta es una oración'"
            ],
            "application/vnd.google.colaboratory.intrinsic+json": {
              "type": "string"
            }
          },
          "metadata": {},
          "execution_count": 102
        }
      ]
    },
    {
      "cell_type": "code",
      "source": [
        "#20. Acepte palabras separadas por – y las ordene alfabéticamente.\n",
        "#Ejemplo: ingresa verde-rojo-amarillo-blanco-negro\n",
        "#regresa: amarillo-blanco-negro-rojo-verde\n",
        "\n",
        "\n",
        "palabras=input('ingrese las palabras: ')\n",
        "\n",
        "orde=palabras.split(sep='-')\n",
        "\n",
        "jum=sorted(orde)\n",
        "print(jum)\n",
        "\n",
        "separador ='-'\n",
        "\n",
        "orga=separador.join(jum)\n",
        "\n",
        "print(orga)\n"
      ],
      "metadata": {
        "id": "BkJdCuXAte1-",
        "colab": {
          "base_uri": "https://localhost:8080/"
        },
        "outputId": "54eef917-6091-44d8-bc57-e38de316661e"
      },
      "execution_count": 113,
      "outputs": [
        {
          "output_type": "stream",
          "name": "stdout",
          "text": [
            "ingrese las palabras: verde-rojo-amarillo-blanco-negro\n",
            "['amarillo', 'blanco', 'negro', 'rojo', 'verde']\n",
            "amarillo-blanco-negro-rojo-verde\n"
          ]
        }
      ]
    }
  ]
}