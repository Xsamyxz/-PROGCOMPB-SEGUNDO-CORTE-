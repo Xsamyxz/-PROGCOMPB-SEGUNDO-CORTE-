{
  "nbformat": 4,
  "nbformat_minor": 0,
  "metadata": {
    "colab": {
      "provenance": []
    },
    "kernelspec": {
      "name": "python3",
      "display_name": "Python 3"
    },
    "language_info": {
      "name": "python"
    }
  },
  "cells": [
    {
      "cell_type": "code",
      "execution_count": 1,
      "metadata": {
        "colab": {
          "base_uri": "https://localhost:8080/"
        },
        "id": "OVObgllqWH5-",
        "outputId": "681d68fa-2ace-46bf-8734-f072e4c58f92"
      },
      "outputs": [
        {
          "output_type": "stream",
          "name": "stdout",
          "text": [
            "año actual: 2022\n",
            "año de nacimiento: 1994\n",
            "año actual: 2022\n",
            "año de nacimiento: 2000\n",
            "Tengo 28 años y mi mejor amigo tiene  22 años\n"
          ]
        }
      ],
      "source": [
        "#la función 'calcularedad' calcula la edad de una persona \n",
        "#lo hace restando el año actual menos el año de naciemiento\n",
        "\n",
        "def calcularedad(añoactual, añodenacimiento):\n",
        "  edad=(añoactual - añodenacimiento)\n",
        "  return edad\n",
        "\n",
        "#agregar una linea en la función que devalua la variable 'edad'\n",
        "#luego, afuera de la función, llamala con el año actual y tu año de nacimiento\n",
        "#guardar el valor de llamar a esa función en la variable 'miedad'\n",
        "#vuelve a llamar la función con el año actual y el año de nacimiento de tu mejor amigo\n",
        "\n",
        "#guardar el valor de llamar a esta funcion en la variable 'edadmiamigo'\n",
        "\n",
        "#imprime el siguiente texto:\n",
        "\n",
        "#  ' Tengo X años y mi mejor amigo tiene Y años '\n",
        "#donde X es tu edad guardada en la variable 'miedad'\n",
        "#donde Y es la edad de tu mejor amigo en la variable 'edaddemiamigo'\n",
        "\n",
        "añoactual= int(input('año actual: '))\n",
        "añodenacimiento= int(input('año de nacimiento: '))\n",
        "añoactual1= int(input('año actual: '))\n",
        "añodenacimiento2= int(input('año de nacimiento: '))\n",
        "\n",
        "miedad=calcularedad(añoactual, añodenacimiento)\n",
        "\n",
        "edaddemiamigo=calcularedad(añoactual1, añodenacimiento2)\n",
        "print('Tengo', miedad,  'años y mi mejor amigo tiene ', edaddemiamigo,  'años')\n"
      ]
    },
    {
      "cell_type": "code",
      "source": [
        "#la función 'informaciónpersonal' recoge la información personal de una persona\n",
        "\n",
        "def informaciónpersonal():\n",
        "    nombre='Juana de Arco'\n",
        "    edad=19\n",
        "    país='Francia'\n",
        "\n",
        "    return (nombre,edad,país)\n",
        "\n",
        "(nombre,edad,país)=informaciónpersonal()\n",
        "\n",
        "print(nombre+', de ' + país +', tiene ' + str(edad) + ' años de edad.')\n",
        "\n",
        "#agrega una linea en la función que devuelva las variables 'nombre','edad', 'país'.\n",
        "\n",
        "#luego, afuera de la función, en la linea 8, llámala\n",
        "\n",
        "#guarda el valor de llamar a esa función en las variables 'nombre', 'edad', 'país'.\n",
        "\n",
        "#corre el programa. Debería  imprimir el siguiente texto:\n",
        "\n",
        "#Juana de Arco, de Francia, tiene 20 años de edad."
      ],
      "metadata": {
        "colab": {
          "base_uri": "https://localhost:8080/"
        },
        "id": "Duddubu9WZt8",
        "outputId": "3053be24-adef-4650-fa5f-bb5248b1c33d"
      },
      "execution_count": 4,
      "outputs": [
        {
          "output_type": "stream",
          "name": "stdout",
          "text": [
            "Juana de Arco, de Francia, tiene 19 años de edad.\n"
          ]
        }
      ]
    }
  ]
}