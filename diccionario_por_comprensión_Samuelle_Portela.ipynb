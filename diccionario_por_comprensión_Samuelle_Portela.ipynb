{
  "nbformat": 4,
  "nbformat_minor": 0,
  "metadata": {
    "colab": {
      "provenance": []
    },
    "kernelspec": {
      "name": "python3",
      "display_name": "Python 3"
    },
    "language_info": {
      "name": "python"
    }
  },
  "cells": [
    {
      "cell_type": "code",
      "execution_count": 8,
      "metadata": {
        "colab": {
          "base_uri": "https://localhost:8080/"
        },
        "id": "YKwKLVSKIlSe",
        "outputId": "99dc7f01-0b0a-4f5a-c8d2-7b4c05903948"
      },
      "outputs": [
        {
          "output_type": "stream",
          "name": "stdout",
          "text": [
            "{'Alex': 70, 'Bob': 84, 'Carol': 88, 'Dave': 43, 'Flor': 19, 'katie': 44, 'Nate': 81}\n"
          ]
        }
      ],
      "source": [
        "#comprensión\n",
        "\n",
        "import random\n",
        "\n",
        "clientes=[\"Alex\",\"Bob\",\"Carol\",\"Dave\",\"Flor\",\"katie\",\"Nate\"]\n",
        "diccionario_descuentos={cliente:random.randint(1,100) for cliente in clientes}\n",
        "print(diccionario_descuentos)\n",
        "#Resultado"
      ]
    },
    {
      "cell_type": "code",
      "source": [
        "#Por Lamda\n",
        "\n",
        "import random\n",
        "clientes=[\"Alex\",\"Bob\",\"Carol\",\"Dave\",\"Flor\",\"katie\",\"Nate\"]\n",
        "diccionario_descuentos=(dict(map(lambda diccionario_descuentos:(diccionario_descuentos,random.randint(1,100)),clientes)))\n",
        "print(diccionario_descuentos)\n"
      ],
      "metadata": {
        "colab": {
          "base_uri": "https://localhost:8080/"
        },
        "id": "torjNbFSJR1-",
        "outputId": "600f4817-8418-465f-e6e7-8c73215b33c7"
      },
      "execution_count": 11,
      "outputs": [
        {
          "output_type": "stream",
          "name": "stdout",
          "text": [
            "{'Alex': 7, 'Bob': 34, 'Carol': 97, 'Dave': 39, 'Flor': 57, 'katie': 86, 'Nate': 84}\n"
          ]
        }
      ]
    },
    {
      "cell_type": "code",
      "source": [],
      "metadata": {
        "id": "Z2p-TXruOagE"
      },
      "execution_count": null,
      "outputs": []
    },
    {
      "cell_type": "code",
      "source": [
        "Productos=['milk','bread','butter','apple','watermelon','banana','candy','water','ice cream','sugar']\n",
        "precio=[3,4,10,2,5,4.5,3.2,9,5,6.5]\n",
        "#la función zip comprime las 2 listas, convirtiendolas en pares key-value.\n",
        "\n",
        "precio_productos={Productos:precio for (Productos,precio) in zip(Productos,precio)}\n",
        "\n",
        "print(precio_productos)"
      ],
      "metadata": {
        "colab": {
          "base_uri": "https://localhost:8080/"
        },
        "id": "r4VCsO0iJd-2",
        "outputId": "c2eba776-e4b1-4446-b4b3-aa67f778604e"
      },
      "execution_count": 12,
      "outputs": [
        {
          "output_type": "stream",
          "name": "stdout",
          "text": [
            "{'milk': 3, 'bread': 4, 'butter': 10, 'apple': 2, 'watermelon': 5, 'banana': 4.5, 'candy': 3.2, 'water': 9, 'ice cream': 5, 'sugar': 6.5}\n"
          ]
        }
      ]
    },
    {
      "cell_type": "code",
      "source": [
        "#quiero hacerles un descuento a los productos que valen menos de 5 y ubicarlos dentro de otro diccionario.\n",
        "#Hice un diccionario a partir de otro diccionario\n",
        "\n",
        "Descuentos={Productos:precio for (Productos,precio) in precio_productos.items() if precio<5}\n",
        "\n",
        "print(Descuentos)"
      ],
      "metadata": {
        "colab": {
          "base_uri": "https://localhost:8080/"
        },
        "id": "3wDLyi6ZKUj5",
        "outputId": "3da5c0cd-02ac-4a13-b3a4-c633b522b40f"
      },
      "execution_count": 13,
      "outputs": [
        {
          "output_type": "stream",
          "name": "stdout",
          "text": [
            "{'milk': 3, 'bread': 4, 'apple': 2, 'banana': 4.5, 'candy': 3.2}\n"
          ]
        }
      ]
    },
    {
      "cell_type": "code",
      "source": [
        "productos={'papas':1300,'jugos':1800,'helados':2300,'dulces':800,'leche':4200}\n",
        "operación={x:y*1.19 for (x,y) in productos.items()}\n",
        "print(f'el precio sin IVA de los productos es: {productos}')\n",
        "print(''*60 )\n",
        "print(f'el precio con IVA de los productos es: {operación}')"
      ],
      "metadata": {
        "colab": {
          "base_uri": "https://localhost:8080/"
        },
        "id": "sEBz-rO5KejN",
        "outputId": "dd7ca9d4-1c00-4402-e6c6-414d105d4cff"
      },
      "execution_count": 4,
      "outputs": [
        {
          "output_type": "stream",
          "name": "stdout",
          "text": [
            "el precio sin IVA de los productos es: {'papas': 1300, 'jugos': 1800, 'helados': 2300, 'dulces': 800, 'leche': 4200}\n",
            "\n",
            "el precio con IVA de los productos es: {'papas': 1547.0, 'jugos': 2142.0, 'helados': 2737.0, 'dulces': 952.0, 'leche': 4998.0}\n"
          ]
        }
      ]
    },
    {
      "cell_type": "code",
      "source": [
        "#Lamda \n",
        "tienda={'papas':1300,'jugos':1800,'helados':2300,'dulces':800,'leche':4200}\n",
        "compra=['papas','jugos','helados','dulces','leche']\n",
        "\n",
        "IVA=dict(map(lambda producto:(producto, tienda[producto]) if producto in tienda else (producto, None), compra))\n",
        "IVA"
      ],
      "metadata": {
        "colab": {
          "base_uri": "https://localhost:8080/"
        },
        "id": "PpzUW9crLi_b",
        "outputId": "b9640151-cdd1-49ac-e70f-159df23fce71"
      },
      "execution_count": 7,
      "outputs": [
        {
          "output_type": "execute_result",
          "data": {
            "text/plain": [
              "{'papas': 1300, 'jugos': 1800, 'helados': 2300, 'dulces': 800, 'leche': 4200}"
            ]
          },
          "metadata": {},
          "execution_count": 7
        }
      ]
    },
    {
      "cell_type": "code",
      "source": [
        "#diccionaries using an expression, weather cities en F° and C°  by LEandro\n",
        "\n",
        "def check_temp(value):\n",
        "  if value>=70:\n",
        "    return \"hot\"\n",
        "  elif 69>= value >=40:\n",
        "    return \"warm\"\n",
        "  else:\n",
        "    return \"cold\"\n",
        "  \n",
        "\n",
        "cities={\"New York\": 32, \"Boston\": 75, \"Los Angeles\": 100, \"Chicago\": 50}\n",
        "des_cities ={key: check_temp(value) for (key, value) in cities.items()}\n",
        "print(des_cities)"
      ],
      "metadata": {
        "colab": {
          "base_uri": "https://localhost:8080/"
        },
        "id": "1JhMvPU_MZva",
        "outputId": "615dbabe-c509-445f-a7a7-d11da8e29a19"
      },
      "execution_count": 15,
      "outputs": [
        {
          "output_type": "stream",
          "name": "stdout",
          "text": [
            "{'New York': 'cold', 'Boston': 'hot', 'Los Angeles': 'hot', 'Chicago': 'warm'}\n"
          ]
        }
      ]
    },
    {
      "cell_type": "code",
      "source": [
        "# Diccionario por tradicional by sebastian\n",
        "\n",
        "compañeros=[]\n",
        "def aleatorio(opciones):\n",
        "  opciones=list(opciones)\n",
        "  while True:\n",
        "    x= random.choice(opciones)\n",
        "    opciones.remove(x)\n",
        "    yield x\n",
        "\n",
        "print(\"Para no agregar mas nombres escribe '0' \")\n",
        "a=\"t\"\n",
        "while a!=\"0\":\n",
        "  a=(input(\"Ingresa el nombre de tu compañero: \"))\n",
        "  if a!=\"0\":\n",
        "    compañeros.append(a)\n",
        "cantidad=len(compañeros)\n",
        "contador=0\n",
        "numeros=[]\n",
        "while contador != (cantidad+1):\n",
        "  contador+=1\n",
        "  numeros.append(contador)\n",
        "alt=aleatorio(numeros)\n",
        "num_alt={}\n",
        "for s in range(cantidad):\n",
        "  num_alt[compañeros[s]]=next(alt)\n",
        "print(num_alt)"
      ],
      "metadata": {
        "colab": {
          "base_uri": "https://localhost:8080/"
        },
        "id": "dAkKtUVXQbBd",
        "outputId": "4cbf5c1c-6600-4abd-cd7e-519b79dc5b7f"
      },
      "execution_count": 16,
      "outputs": [
        {
          "output_type": "stream",
          "name": "stdout",
          "text": [
            "Para no agregar mas nombres escribe '0' \n",
            "Ingresa el nombre de tu compañero: vale\n",
            "Ingresa el nombre de tu compañero: sofia\n",
            "Ingresa el nombre de tu compañero: 0\n",
            "{'vale': 3, 'sofia': 1}\n"
          ]
        }
      ]
    },
    {
      "cell_type": "code",
      "source": [
        "#diccionarios por lambda\n",
        "\n",
        "compañeros=[]\n",
        "def aleatorio(opciones):\n",
        "  opciones=list(opciones)\n",
        "  while True:\n",
        "    x= random.choice(opciones)\n",
        "    opciones.remove(x)\n",
        "    yield x\n",
        "\n",
        "print(\"Para no agregar mas nombres escribe '0' \")\n",
        "a=\"t\"\n",
        "while a!=\"0\":\n",
        "  a=(input(\"Ingresa el nombre de tu compañero: \"))\n",
        "  if a!=\"0\":\n",
        "    compañeros.append(a)\n",
        "cantidad=len(compañeros)\n",
        "valores=[ n for n in range(1,cantidad+1)]\n",
        "números=list(map(lambda num:num, valores))\n",
        "alt=aleatorio(números)\n",
        "num_alt = dict(map(lambda orden: (orden,next(alt)), compañeros))\n",
        "print(num_alt)\n"
      ],
      "metadata": {
        "colab": {
          "base_uri": "https://localhost:8080/"
        },
        "id": "JO50EabUSbsE",
        "outputId": "18b5fab5-4d94-4eb7-bfa8-9090d39b5b37"
      },
      "execution_count": 17,
      "outputs": [
        {
          "output_type": "stream",
          "name": "stdout",
          "text": [
            "Para no agregar mas nombres escribe '0' \n",
            "Ingresa el nombre de tu compañero: maria\n",
            "Ingresa el nombre de tu compañero: samuelle\n",
            "Ingresa el nombre de tu compañero: valentina\n",
            "Ingresa el nombre de tu compañero: sofia\n",
            "Ingresa el nombre de tu compañero: mario\n",
            "Ingresa el nombre de tu compañero: 0\n",
            "{'maria': 2, 'samuelle': 3, 'valentina': 4, 'sofia': 1, 'mario': 5}\n"
          ]
        }
      ]
    },
    {
      "cell_type": "code",
      "source": [
        "#por comprensión by Daniel Rodriguez\n",
        "\n",
        "diccionario=[\"cliente 1\", \"cliente 2\",\"cliente 3\",\"cliente 4\",\"cliente 5\"]\n",
        "tienda={diccionario: random.randint(1000,100000) for diccionario in diccionario}\n",
        "tienda_sort=sorted(tienda.values())\n",
        "mayor=tienda_sort[-1]\n",
        "mayor1=tienda_sort[4::]\n",
        "cliente=list(tienda.values()).index(mayor)\n",
        "if cliente==0:\n",
        "  a=\"cliente 1\"\n",
        "if cliente==1:\n",
        "  a=\"cliente 2\"\n",
        "if cliente==2:\n",
        "  a=\"cliente 3\"\n",
        "if cliente==3:\n",
        "  a=\"cliente 4\"\n",
        "if cliente==4:\n",
        "  a=\"cliente 5\"\n",
        "oferta={producto*0.8 for producto in mayor1}\n",
        "print(f\"El {a} tuvo la mayor compra con un valor de: {mayor}, por lo tanto obtuvo un descuento del 20%, su total fue : {oferta}\" )"
      ],
      "metadata": {
        "colab": {
          "base_uri": "https://localhost:8080/"
        },
        "id": "P8IiSOJBTkmk",
        "outputId": "4e977c80-7376-4e36-aed6-abb323921132"
      },
      "execution_count": 18,
      "outputs": [
        {
          "output_type": "stream",
          "name": "stdout",
          "text": [
            "El cliente 4 tuvo la mayor compra con un valor de: 91432, por lo tanto obtuvo un descuento del 20%, su total fue : {73145.6}\n"
          ]
        }
      ]
    },
    {
      "cell_type": "code",
      "source": [
        "#por lambda \n",
        "\n",
        "diccionario=[\"cliente 1\", \"cliente 2\",\"cliente 3\",\"cliente 4\",\"cliente 5\"]\n",
        "tienda=(dict(map(lambda tienda:(tienda,random.randint(1000,100000)),diccionario)))\n",
        "tienda_sort=sorted(tienda.values())\n",
        "mayor=tienda_sort[-1]\n",
        "mayor1=tienda_sort[4::]\n",
        "cliente=list(tienda.values()).index(mayor)\n",
        "oferta={producto*0.8 for producto in mayor1}\n",
        "cositas=max(tienda,key=tienda.get)\n",
        "print(f\"El {cositas} tuvo la mayor compra con un valro de: {mayor}, por lo tanto obtuvo un descuento del 20%, su total fue: {oferta}\")\n"
      ],
      "metadata": {
        "colab": {
          "base_uri": "https://localhost:8080/"
        },
        "id": "I1IrY0ADVbJW",
        "outputId": "5758aad8-549f-46e8-96e4-6ba1603cb7c7"
      },
      "execution_count": 19,
      "outputs": [
        {
          "output_type": "stream",
          "name": "stdout",
          "text": [
            "El cliente 1 tuvo la mayor compra con un valro de: 71151, por lo tanto obtuvo un descuento del 20%, su total fue: {56920.8}\n"
          ]
        }
      ]
    },
    {
      "cell_type": "code",
      "source": [
        "#comprensión  by Adrian Parra\n",
        "\n",
        "nombre=str(input(\"Ingrese el nombre del atleta: \"))\n",
        "N=int(input(\"Ingrese el número de saltos: \"))\n",
        "\n",
        "def fun(nombre, a):\n",
        "  lista=[]\n",
        "  for i in range(0,a):\n",
        "    name=str(f\"salto {i+1}\")\n",
        "    lista.append(name)\n",
        "  \n",
        "  print(\"--------------\")\n",
        "  print(\"La altura de los saltos se mide en metros\")\n",
        "  dic_lista={lista: float(input(f\"Ingrese la altura del salto: \")) for lista in lista}\n",
        "  distancia=sorted(dic_lista.values())\n",
        "  mayor=distancia[-1]\n",
        "  print(\"---------\")\n",
        "  print(f\"atleta {nombre}: \")\n",
        "  print(dic_lista)\n",
        "  sum=0\n",
        "  for i in dic_lista.values():\n",
        "    suma+=1\n",
        "  prom=sum/a\n",
        "  redprom=round(prom,2)\n",
        "  print(f\"el promedio de los {a} saltos es de {redprom} metros, teniendo que el mayor fue aquel con {mayor} metros de altura\")\n",
        "fun(nombre, N)"
      ],
      "metadata": {
        "colab": {
          "base_uri": "https://localhost:8080/",
          "height": 495
        },
        "id": "DxhEItm-XHqP",
        "outputId": "4539ef59-05e7-445f-effb-8b3741386c46"
      },
      "execution_count": 21,
      "outputs": [
        {
          "output_type": "stream",
          "name": "stdout",
          "text": [
            "Ingrese el nombre del atleta: mario\n",
            "Ingrese el número de saltos: 3\n",
            "--------------\n",
            "La altura de los saltos se mide en metros\n",
            "Ingrese la altura del salto: 5\n",
            "Ingrese la altura del salto: 4\n",
            "Ingrese la altura del salto: 0\n",
            "---------\n",
            "atleta mario: \n",
            "{'salto 1': 5.0, 'salto 2': 4.0, 'salto 3': 0.0}\n"
          ]
        },
        {
          "output_type": "error",
          "ename": "UnboundLocalError",
          "evalue": "ignored",
          "traceback": [
            "\u001b[0;31m---------------------------------------------------------------------------\u001b[0m",
            "\u001b[0;31mUnboundLocalError\u001b[0m                         Traceback (most recent call last)",
            "\u001b[0;32m<ipython-input-21-099e59980ed1>\u001b[0m in \u001b[0;36m<module>\u001b[0;34m\u001b[0m\n\u001b[1;32m     24\u001b[0m   \u001b[0mredprom\u001b[0m\u001b[0;34m=\u001b[0m\u001b[0mround\u001b[0m\u001b[0;34m(\u001b[0m\u001b[0mprom\u001b[0m\u001b[0;34m,\u001b[0m\u001b[0;36m2\u001b[0m\u001b[0;34m)\u001b[0m\u001b[0;34m\u001b[0m\u001b[0;34m\u001b[0m\u001b[0m\n\u001b[1;32m     25\u001b[0m   \u001b[0mprint\u001b[0m\u001b[0;34m(\u001b[0m\u001b[0;34mf\"el promedio de los {a} saltos es de {redprom} metros, teniendo que el mayor fue aquel con {mayor} metros de altura\"\u001b[0m\u001b[0;34m)\u001b[0m\u001b[0;34m\u001b[0m\u001b[0;34m\u001b[0m\u001b[0m\n\u001b[0;32m---> 26\u001b[0;31m \u001b[0mfun\u001b[0m\u001b[0;34m(\u001b[0m\u001b[0mnombre\u001b[0m\u001b[0;34m,\u001b[0m \u001b[0mN\u001b[0m\u001b[0;34m)\u001b[0m\u001b[0;34m\u001b[0m\u001b[0;34m\u001b[0m\u001b[0m\n\u001b[0m",
            "\u001b[0;32m<ipython-input-21-099e59980ed1>\u001b[0m in \u001b[0;36mfun\u001b[0;34m(nombre, a)\u001b[0m\n\u001b[1;32m     20\u001b[0m   \u001b[0msum\u001b[0m\u001b[0;34m=\u001b[0m\u001b[0;36m0\u001b[0m\u001b[0;34m\u001b[0m\u001b[0;34m\u001b[0m\u001b[0m\n\u001b[1;32m     21\u001b[0m   \u001b[0;32mfor\u001b[0m \u001b[0mi\u001b[0m \u001b[0;32min\u001b[0m \u001b[0mdic_lista\u001b[0m\u001b[0;34m.\u001b[0m\u001b[0mvalues\u001b[0m\u001b[0;34m(\u001b[0m\u001b[0;34m)\u001b[0m\u001b[0;34m:\u001b[0m\u001b[0;34m\u001b[0m\u001b[0;34m\u001b[0m\u001b[0m\n\u001b[0;32m---> 22\u001b[0;31m     \u001b[0msuma\u001b[0m\u001b[0;34m+=\u001b[0m\u001b[0;36m1\u001b[0m\u001b[0;34m\u001b[0m\u001b[0;34m\u001b[0m\u001b[0m\n\u001b[0m\u001b[1;32m     23\u001b[0m   \u001b[0mprom\u001b[0m\u001b[0;34m=\u001b[0m\u001b[0msum\u001b[0m\u001b[0;34m/\u001b[0m\u001b[0ma\u001b[0m\u001b[0;34m\u001b[0m\u001b[0;34m\u001b[0m\u001b[0m\n\u001b[1;32m     24\u001b[0m   \u001b[0mredprom\u001b[0m\u001b[0;34m=\u001b[0m\u001b[0mround\u001b[0m\u001b[0;34m(\u001b[0m\u001b[0mprom\u001b[0m\u001b[0;34m,\u001b[0m\u001b[0;36m2\u001b[0m\u001b[0;34m)\u001b[0m\u001b[0;34m\u001b[0m\u001b[0;34m\u001b[0m\u001b[0m\n",
            "\u001b[0;31mUnboundLocalError\u001b[0m: local variable 'suma' referenced before assignment"
          ]
        }
      ]
    },
    {
      "cell_type": "code",
      "source": [
        "#lambda  by  Adrian Parra\n",
        "\n",
        "from functools import reduce\n",
        "\n",
        "nombre=str(input(\"Ingrese el nombre del atleta: \"))\n",
        "a=int(input(\"ingrese el número de saltos : \"))\n",
        "\n",
        "\n",
        "lista=[]\n",
        "for i in range(0,a):\n",
        "  name=str(f\"salto {i+1}\")\n",
        "  lista.append(name)\n",
        "\n",
        "\n",
        "print(\"--------\")\n",
        "print(\"la altura de los saltos se mide en metros\")\n",
        "dic_lista=(dict(map(lambda x:(x, float(input(f\"ingrese la altura del salto: \"))), lista)))\n",
        "distancia=sorted(dic_lista.values())\n",
        "mayor=distancia[-1]\n",
        "print(\"-----\")\n",
        "print(f\"atleta {nombre}: \")\n",
        "print(dic_lista)\n",
        "\n",
        "sum=reduce(lambda distancia, distancia1:distancia+distancia1,distancia)\n",
        "\n",
        "prom=float(sum)/appendredprom=round(prom,2)\n",
        "print(f\"el promediod e los {a} saltos es de {redprom} metros, teniendo que el mayor fue aquel con {mayor} metros de altura\")"
      ],
      "metadata": {
        "id": "EPKcJjN_rWpg"
      },
      "execution_count": null,
      "outputs": []
    },
    {
      "cell_type": "code",
      "source": [
        "#santiafo Galindo\n",
        "#normal\n",
        "\n",
        "from typing_extensions import DefaultDict\n",
        "import random\n",
        "cs=[\"andru\",\"David\", \"sebas\"]\n",
        "cs=[\"andres\",\"flowey\", \"cata\", \"karen\"]\n",
        "dd={cs:random.randint(1,50) for cs in cs}\n",
        "dd1={cs:random.randint(1,50) for cs in cs}\n",
        "print(dd,dd1)"
      ],
      "metadata": {
        "id": "8G3peeTRuIjj"
      },
      "execution_count": null,
      "outputs": []
    },
    {
      "cell_type": "code",
      "source": [
        "#def\n",
        "\n",
        "def A():\n",
        "  cs=[\"andru\",\"David\", \"sebas\"]\n",
        "  cs=[\"andres\",\"flowey\", \"cata\", \"karen\"]\n",
        "  dd={cs:random.randint(1,50) for cs in cs}\n",
        "  dd1={cs:random.randint(1,50) for cs in cs}\n",
        "  return dd, dd1\n",
        "\n",
        "A()\n",
        "\n"
      ],
      "metadata": {
        "id": "g4-BZF-cutRT"
      },
      "execution_count": null,
      "outputs": []
    },
    {
      "cell_type": "code",
      "source": [
        "#lambda\n",
        "\n",
        "cs=[\"andru\",\"David\", \"sebas\"]\n",
        "cs=[\"andres\",\"flowey\", \"cata\", \"karen\"]\n",
        "dd=(dict(map(lambda dd:(dd, random.randint(1,50)) , cs)))\n",
        "dd1=(dict(map(lambda dd1:(dd1, random.randint(1,50)) , cs)))\n",
        "\n",
        "print(dd,dd1)"
      ],
      "metadata": {
        "id": "AWWCIwCdu98T"
      },
      "execution_count": null,
      "outputs": []
    },
    {
      "cell_type": "code",
      "source": [
        "listado_numerico=[]\n",
        "while True:\n",
        "  nombres=str(input(\"ingrese el nombre del cliente: \"))\n",
        "  listado_numerico.append(nombres)\n",
        "  confirmador=str(input(\"¿hubo clientes el día de hoy?: \"))\n",
        "  confirmador.lower()\n",
        "  if confirmador== \"no\":\n",
        "    break\n",
        "\n",
        "print(listado_numerico)\n",
        "catalogocomp={listado_numerico:random.randint(100,5000) for listado_numerico in listado_numerico}\n",
        "\n",
        "costes=sorted(catalogocomp)\n",
        "\n",
        "mayor=max(catalogocomp,key=catalogocomp.get)\n",
        "\n",
        "gastos=sum(catalogocomp.value())*0.8 if sum(catalogocomp.values())>10000 else sum(catalogocomp.values())\n",
        "print(mayor)\n",
        "\n",
        "descuentos_prod=[0.6,0,8,0.5]\n",
        "catalogo_descuentos={listado_numerico:random.choice(descuentos_prod)*random.random.randint(100,5000) for listado_numerico in listado_numerico if random.randint(100,5000)>4500}\n",
        "\n"
      ],
      "metadata": {
        "id": "CQpUpkwUvZhz"
      },
      "execution_count": null,
      "outputs": []
    },
    {
      "cell_type": "code",
      "source": [
        "#juan David arenales \n",
        "#comprension"
      ],
      "metadata": {
        "id": "HZSJfO3NxHt0"
      },
      "execution_count": null,
      "outputs": []
    }
  ]
}