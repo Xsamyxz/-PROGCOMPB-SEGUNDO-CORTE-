{
  "nbformat": 4,
  "nbformat_minor": 0,
  "metadata": {
    "colab": {
      "provenance": []
    },
    "kernelspec": {
      "name": "python3",
      "display_name": "Python 3"
    },
    "language_info": {
      "name": "python"
    }
  },
  "cells": [
    {
      "cell_type": "markdown",
      "source": [
        "#Operaciones por listas\n"
      ],
      "metadata": {
        "id": "vhCU42RUk0Bs"
      }
    },
    {
      "cell_type": "markdown",
      "source": [
        "las listas pueden contener una combinación de tipos de datos como strings, tuplas, listas, dictionarios, funciones, objetos, etc."
      ],
      "metadata": {
        "id": "QPwEsOCyl2CM"
      }
    },
    {
      "cell_type": "code",
      "source": [
        "from re import M\n",
        "#operaciones aplicables a una lista\n",
        "\n",
        "\n",
        "#Operaciones de definición  --->  []  \n",
        "\n",
        "x=[]\n",
        "\n",
        "\n",
        "#Operaciones mutables:\n",
        "\n",
        "#-Estas operaciones nos permiten trabajar con listas alterando o modificando su definición previa.\n",
        "\n",
        "# append ---> lista.append     Añade un único elemento al final de la lista.\n",
        "\n",
        "x = [1, 2]\n",
        "\n",
        "x.append('h')\n",
        "\n",
        "print(x)\n",
        "\n",
        "\n",
        "#  2) extend  ----> lista.extend    Añade otra lista al final de una lista.\n",
        "\n",
        "\n",
        "x.extend([3, 4])\n",
        "\n",
        "print(x)\n",
        "\n",
        "\n",
        "# 3) insert ----> lista.insert     Inserta un nuevo elemento en una posición determinada de la lista\n",
        "\n",
        "x.insert(0, 'y')\n",
        "\n",
        "\n",
        "\n",
        "# 4)  del      Elimina el elemento ubicado en el indice descrito     ['y'] o [:2]\n",
        "\n",
        "del x['y']\n",
        "\n",
        "\n",
        "\n",
        "# 5)  remove ----> lista.remove    Remueve la primer coincidencia del elemento especificado.\n",
        "\n",
        "x.remove(3)\n",
        "\n",
        "\n",
        "\n",
        "# 6) reverse ---->  lista.reverse     Invierte el orden de los elementos de la lista\n",
        "\n",
        "x.reverse()\n",
        "\n",
        "\n",
        "\n",
        "\n",
        "# 7) sort ------> lista.sort     ordena los elementos de la lista de menor a mayor\n",
        "\n",
        "x.sort()\n",
        "\n",
        "y = ['R', 'C', 'Python', 'Java', 'R']\n",
        "\n",
        "y.sort(reverse=True)\n",
        "\n",
        "\n",
        "\n",
        "#OPERACIONES INMUTABLES: Estas operaciones nos permiten trabajar con listas sin alterar o modificar su definición previa.\n",
        "\n",
        "# 1) sorted       rdenar los elementos de una lista de menor a mayor, al igual que el método sort, este comportamiento puede modificarse mediante el parámetro reverse=True\n",
        "\n",
        "m = [10, 30, 20]\n",
        "\n",
        "print(sorted(m))\n",
        "\n",
        "print(m)\n",
        "\n",
        "\n",
        "# 2) +    permite concatenar o unir dos listas diferentes en nueva lista.\n",
        "\n",
        "w = [40, 50, 60]\n",
        "\n",
        "\n",
        "print(m + w)\n",
        "\n",
        "# 3) * \n",
        "\n",
        "# 4) min\n",
        "\n",
        "# 5) max\n",
        "\n",
        "# 6) index\n",
        "\n",
        "# 7) count\n",
        "\n",
        "# 8) sum\n",
        "\n",
        "# 9) in"
      ],
      "metadata": {
        "id": "rA5UNhm-lRAG"
      },
      "execution_count": null,
      "outputs": []
    },
    {
      "cell_type": "code",
      "source": [],
      "metadata": {
        "id": "z4_ERlq-kwmu"
      },
      "execution_count": null,
      "outputs": []
    },
    {
      "cell_type": "markdown",
      "source": [
        "#Listas por compresión "
      ],
      "metadata": {
        "id": "8VBGzUdJeR_r"
      }
    },
    {
      "cell_type": "markdown",
      "source": [
        "La lista por comprensión es una construcción sintáctica disponible en Python con la que se pueden crear lista a partir de otros elementos iterables. Siendo una de las contracciones más elegantes del lenguaje. A continuación, se mostrará la sintaxis básica para trabajar con las listas por comprensión."
      ],
      "metadata": {
        "id": "0AkgjJSieiEv"
      }
    },
    {
      "cell_type": "code",
      "execution_count": null,
      "metadata": {
        "id": "pCu98DTBePY9"
      },
      "outputs": [],
      "source": [
        "#Los tipos de datos mutables son todos aquellos a los que es posible cambiar, modificar o actualizar su contenido. \n",
        "#Los objetos mutables más comunes son las listas, diccionarios y conjuntos que sirven para guardar colecciones de datos.\n",
        "\n",
        "#SINTAXIS DE LISTAS POR COMPRENSIÓN \n",
        "\n",
        "nueva_lista=[expresion bucle_for condiciones]\n",
        "\n",
        "\n",
        "#Entre corchetes se escribe una expresión seguida de un bucle for sobre el que se itera, para finalmente escribir unas condiciones\n",
        "\n"
      ]
    },
    {
      "cell_type": "code",
      "source": [
        "#EJEMPLO\n",
        "\n",
        "\n",
        "numbers = [1, 2, 3, 4]\n",
        "results = []\n",
        "for n in numbers:\n",
        "    results.append(n + 1)\n",
        "    \n",
        "results"
      ],
      "metadata": {
        "colab": {
          "base_uri": "https://localhost:8080/"
        },
        "id": "fHzZXm5JiLWN",
        "outputId": "d98e4cef-a07f-4011-c81a-f982fdaf4097"
      },
      "execution_count": 1,
      "outputs": [
        {
          "output_type": "execute_result",
          "data": {
            "text/plain": [
              "[2, 3, 4, 5]"
            ]
          },
          "metadata": {},
          "execution_count": 1
        }
      ]
    },
    {
      "cell_type": "markdown",
      "source": [
        "**Condiciones en las listas por comprensión:**\n",
        "\n",
        "Es posible añadir condiciones a las listas por comprensión en Python. Para lo que se tiene que agregar un **if** al final con la condición. "
      ],
      "metadata": {
        "id": "AxfCdDvYjFRh"
      }
    },
    {
      "cell_type": "code",
      "source": [
        "numbers = [1, 2, 3, 4]\n",
        "results = [n + 1 for n in numbers if n < 5]\n",
        "results"
      ],
      "metadata": {
        "colab": {
          "base_uri": "https://localhost:8080/"
        },
        "id": "3TTYvUHyiSaE",
        "outputId": "4f866389-2047-40e0-b9c0-11c34111105e"
      },
      "execution_count": 2,
      "outputs": [
        {
          "output_type": "execute_result",
          "data": {
            "text/plain": [
              "[2, 3, 4, 5]"
            ]
          },
          "metadata": {},
          "execution_count": 2
        }
      ]
    }
  ]
}