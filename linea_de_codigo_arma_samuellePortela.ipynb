{
  "nbformat": 4,
  "nbformat_minor": 0,
  "metadata": {
    "colab": {
      "provenance": []
    },
    "kernelspec": {
      "name": "python3",
      "display_name": "Python 3"
    },
    "language_info": {
      "name": "python"
    }
  },
  "cells": [
    {
      "cell_type": "code",
      "execution_count": null,
      "metadata": {
        "id": "DcqVaG6jSCKL"
      },
      "outputs": [],
      "source": [
        "int N[1] = {1};\n",
        "int P[1] = {A1};\n",
        "\n",
        "void setup() {\n",
        "  for (int i = 0; i < 1; i++) {\n",
        "    pinMode(P[i], OUTPUT);\n",
        "  }\n",
        "  for (int i = 0; i < 1; i++) {\n",
        "    pinMode(N[i], OUTPUT);\n",
        "  }\n",
        "}\n",
        "\n",
        "void loop() {\n",
        "// Primer patrón \"apagado lento\"\n",
        "  for (int i = 0; i < 5; i++{\n",
        "      digitalWrite(N[1], 0);\n",
        "      delay(700);\n",
        "      digitalWrite(N[1], 1);\n",
        "  }\n",
        "\n",
        "//Segundo patrón \"linea de carga\"\n",
        "  for (int i = 0; i < 15; i++{\n",
        "    \n",
        "    digitalWrite(P[1], 0);\n",
        "    delay(100);\n",
        "    digitalWrite(P[1], 1);\n",
        "  }\n",
        "  \n",
        "//Tercer patrón \"combinación\"\n",
        "  for (int i = 0; i < 10; i++{\n",
        "    digitalWrite(N[1], 0);\n",
        "    digitalWrite(P[1], 0);\n",
        "    delay(500);\n",
        "    digitalWrite(N[1], 1);\n",
        "    digitalWrite(P[1], 1);\n",
        "  }\n",
        "}"
      ]
    }
  ]
}