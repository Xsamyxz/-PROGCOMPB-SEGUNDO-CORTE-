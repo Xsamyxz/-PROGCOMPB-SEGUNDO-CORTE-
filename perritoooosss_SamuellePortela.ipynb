{
  "nbformat": 4,
  "nbformat_minor": 0,
  "metadata": {
    "colab": {
      "provenance": []
    },
    "kernelspec": {
      "name": "python3",
      "display_name": "Python 3"
    },
    "language_info": {
      "name": "python"
    }
  },
  "cells": [
    {
      "cell_type": "code",
      "execution_count": 2,
      "metadata": {
        "id": "HOpbxtvmgm9m"
      },
      "outputs": [],
      "source": [
        "class Perros():\n",
        "  def ladrar(self):\n",
        "    print(\"GUAU GUAAU\")\n",
        "\n",
        "  def grunir(self):\n",
        "    print(\"GRRRRR GRRRRR\")"
      ]
    },
    {
      "cell_type": "code",
      "source": [
        "class Caniches(Perros):\n",
        "  def ladrar(self):\n",
        "    print(\"guauu guauu guauu guauuu guuauuu guuauu guuauu\")\n",
        "\n",
        "  def grunir(self):\n",
        "    print(\"gñiiiii gñiiii gñliiiii gñiii\")\n",
        "\n"
      ],
      "metadata": {
        "id": "rSUad6MyhFVD"
      },
      "execution_count": 3,
      "outputs": []
    },
    {
      "cell_type": "code",
      "source": [
        "class Pastor_Aleman(Perros):\n",
        "  def ladrar(self):\n",
        "    print(\"GuuaUU GGuaUUU GUAUUUUU\")\n",
        "  def grunir(self):\n",
        "    print(\"Agrrrrrgrrf aargrrarrr\")"
      ],
      "metadata": {
        "id": "0ke0az9rhfhK"
      },
      "execution_count": 4,
      "outputs": []
    },
    {
      "cell_type": "code",
      "source": [
        "class Shepadoodle(Caniches,Pastor_Aleman):\n",
        "  def Xladrar(self,veces):\n",
        "    for cuantas in range(veces):\n",
        "      super(Shepadoodle,self).ladrar()"
      ],
      "metadata": {
        "id": "s7j2Amc3h_05"
      },
      "execution_count": 6,
      "outputs": []
    },
    {
      "cell_type": "code",
      "source": [
        "Tommy=Pastor_Aleman()\n",
        "lulu=Caniches()\n",
        "milu=Shepadoodle()\n",
        "milu.Xladrar(2)"
      ],
      "metadata": {
        "colab": {
          "base_uri": "https://localhost:8080/"
        },
        "id": "j3jDhDdTigaZ",
        "outputId": "8240ea71-3d70-43fa-8bc0-9c284477dbe7"
      },
      "execution_count": 9,
      "outputs": [
        {
          "output_type": "stream",
          "name": "stdout",
          "text": [
            "guauu guauu guauu guauuu guuauuu guuauu guuauu\n",
            "guauu guauu guauu guauuu guuauuu guuauu guuauu\n"
          ]
        }
      ]
    },
    {
      "cell_type": "code",
      "source": [
        "class Asignar(list):\n",
        "  pass"
      ],
      "metadata": {
        "id": "gED0u6M6kTDy"
      },
      "execution_count": 11,
      "outputs": []
    },
    {
      "cell_type": "code",
      "source": [
        "a=Asignar()"
      ],
      "metadata": {
        "id": "u4g5d8s3kd75"
      },
      "execution_count": 13,
      "outputs": []
    },
    {
      "cell_type": "code",
      "source": [
        "a.append(4)"
      ],
      "metadata": {
        "id": "BVZ_n58qklgw"
      },
      "execution_count": 14,
      "outputs": []
    },
    {
      "cell_type": "code",
      "source": [
        "class Padre():\n",
        "  def __init__(self,ojos,cejas) -> None:\n",
        "    self.ojos=ojos\n",
        "    self.cejas=cejas \n",
        "class Hijo(Padre):\n",
        "  def __init__(self, ojos, cejas,cara) -> None:\n",
        "    self.ojos=ojos\n",
        "    self.cejas=cejas\n",
        "    self.cara=cara\n",
        "    "
      ],
      "metadata": {
        "id": "J8NCxfPjkoH4"
      },
      "execution_count": 22,
      "outputs": []
    },
    {
      "cell_type": "code",
      "source": [
        "manuel=Padre(\"marrón\",\"miel\")\n",
        "Tomas=Hijo(\"rubio\",\"verdes\",\"larga\")\n",
        "print(Tomas.ojos,Tomas.cejas,Tomas.cara)"
      ],
      "metadata": {
        "colab": {
          "base_uri": "https://localhost:8080/"
        },
        "id": "y1SRt_welOen",
        "outputId": "96ec9b13-cd38-4fdc-a710-a7cb2cc96dd5"
      },
      "execution_count": 25,
      "outputs": [
        {
          "output_type": "stream",
          "name": "stdout",
          "text": [
            "rubio verdes larga\n"
          ]
        }
      ]
    },
    {
      "cell_type": "code",
      "source": [
        "class Abuelo():\n",
        "  def __init__(self,ojos,cejas):\n",
        "    self.ojos=ojos\n",
        "    self.cejas=cejas\n",
        "\n",
        "class Hijo2(Abuelo):\n",
        "  def __init__(self,ojos,cejas,cara):\n",
        "    super().__init__(ojos,cejas)  #super ordena del primero al último del mas dominante al mas pasivo\n",
        "    self.cara=cara"
      ],
      "metadata": {
        "id": "TbDOs165mCPu"
      },
      "execution_count": 31,
      "outputs": []
    },
    {
      "cell_type": "code",
      "source": [
        "Abuelo=Abuelo(\"negro\",\"marrón\")\n",
        "Mateo=Hijo2(\"marrón\",\"marrón\",\"gordita\")\n",
        "Mateo.__dict__"
      ],
      "metadata": {
        "colab": {
          "base_uri": "https://localhost:8080/"
        },
        "id": "ioqMTbD7mYqF",
        "outputId": "e5d7e54f-6b1a-4a52-b279-2b4058eea061"
      },
      "execution_count": 30,
      "outputs": [
        {
          "output_type": "execute_result",
          "data": {
            "text/plain": [
              "{'ojos': 'marrón', 'cejas': 'marrón', 'cara': 'gordita'}"
            ]
          },
          "metadata": {},
          "execution_count": 30
        }
      ]
    }
  ]
}