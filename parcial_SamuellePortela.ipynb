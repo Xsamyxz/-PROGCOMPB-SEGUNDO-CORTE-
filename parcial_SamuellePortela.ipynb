{
  "cells": [
    {
      "cell_type": "code",
      "execution_count": 1,
      "metadata": {
        "id": "DA4pqnyMk8FX"
      },
      "outputs": [],
      "source": [
        "import pandas as pd\n",
        "class Producto():\n",
        "  def __init__(self,producto,precio,unidad):\n",
        "    self.producto=producto\n",
        "    self.precio=precio\n",
        "    self.unidad=unidad\n",
        "\n",
        "class Carrito():\n",
        "   def __init__(self,lista=[]):\n",
        "     self.lista=[]\n",
        "   def carro(self,a):\n",
        "     for b in self.lista:\n",
        "       if b.producto==a.producto:\n",
        "         self.lista.remove(b)\n",
        "     self.lista.append(a)\n",
        "   def revisar(self):\n",
        "     tot=0\n",
        "     for a in self.lista:\n",
        "       print(f\"{a.producto} por {a.unidad} c/u, valor: ${a.precio} por unidad\")  \n",
        "       tot=tot+a.precio*a.unidad\n",
        "     print(f\"Total: {tot}\")\n",
        "     return tot\n",
        "class Factura(Carrito):\n",
        "  def factura(self,compra1):\n",
        "    print(\" FACTURA \")\n",
        "    tot=compra1.revisar()\n",
        "    print(\"le agregamos el 19% de iva\")\n",
        "    print(f\"TOTAL : {round(tot*1.19,2)}\")\n",
        "\n",
        "\n",
        "\n",
        "\n",
        "\n",
        "\n",
        "\n"
      ]
    },
    {
      "cell_type": "code",
      "source": [
        "\n",
        "prod={\"cafe con crema\":4.900,\"sorbete\":7.000,\"mostaccino\":4.600,\"milki\":4.900,\"torta de zanahoria\":2.500,\"torta de manzana\":4.600,\"galletas \":6.100,\"papas \":2.600}\n",
        "Leches={\"leche coco\":1.500,\"leche de almendras\":2.500,\"leche avena\":3.000,\"leche de soja\":2.000}\n",
        "Tamaños={\"normal\":800,\"mediano\":1.000,\"gigante\":1.200}\n",
        "p=None\n",
        "t=None\n",
        "tam=None\n",
        "o=\"s\"\n",
        "compra1=Carrito()\n",
        "\n",
        "while o.lower()[0]!=\"no\":\n",
        " if o.lower()==\"comprobar\":\n",
        "   compra1.revisar()\n",
        " else:\n",
        "  p=None\n",
        "  t=None\n",
        "  tam=None\n",
        "  while (p in prod)==False:\n",
        "   p=input(\"Carta\\n\\nBEBIDAS                   COMIDA\\n \\nCafe con crema  $4.900    torta de zanahoria $2.500\\nsorbete  $7.000            Torta de manzana $4.600\\nMostaccino $4.600          Galletas $6.100 \\nmilki $4.900       Papas $2.600\\n¿Que llevaras?: \")\n",
        "   if (p in prod)==False:\n",
        "     print(\"No tenemos dicho producto a la venta\")\n",
        "  cash=prod[p.lower()]\n",
        "  if p.lower()==\"cafe con crema\" or p.lower()==\"sorbete\" or p.lower()==\"Mostaccino\" or p.lower()==\"milki\":\n",
        "    while (t in Leches)==False:\n",
        "     t=input(\"Leches:\\nLeche coco $1.500\\nLeche de almendra $2.500\\nLeche avena $3.000\\nleche de soja $2.000\\n¿Que leche desea en su bebida?: \")\n",
        "     if (t in Leches)==False:\n",
        "      print(\"No tenemos dicho producto a la venta\")\n",
        "    while (tam in Tamaños)==False:\n",
        "     tam=input(\"normal\\nmediano\\ngigante\\n¿De que tamaño quiere su bebida?:\")\n",
        "     if (tam in Tamaños)==False:\n",
        "      print(\"Ese tamaño no está registrado en nuestra tienda\")\n",
        "    cash=(cash+Leches[t.lower()])*Tamaños[tam.lower()]\n",
        "    p=p+\" con \"+t+\" de tamaño \"+tam\n",
        " \n",
        "\n",
        "  print(f\"{p}: ${round(cash,2)}\")\n",
        "  n=int(input(f\"¿Cuantos {p} quieres llevar?: \"))\n",
        "  compra=Producto(p.capitalize(),cash,n)\n",
        "  compra1.carro(compra)\n",
        " o=input(\"¿Deseas agregar algo más?\")\n",
        "if o==no:\n",
        "   return Factura\n",
        "          \n",
        "\n",
        "factura=Factura(compra1)\n",
        "factura.factura(compra1)"
      ],
      "metadata": {
        "id": "cm8ucRynSIwa",
        "colab": {
          "base_uri": "https://localhost:8080/"
        },
        "outputId": "e2dfcce6-a42e-47b6-bf96-77d89becac82"
      },
      "execution_count": null,
      "outputs": [
        {
          "name": "stdout",
          "output_type": "stream",
          "text": [
            "Carta\n",
            "\n",
            "BEBIDAS                   COMIDA\n",
            " \n",
            "Cafe con crema  $4.900    torta de zanahoria $2.500\n",
            "sorbete  $7.000            Torta de manzana $4.600\n",
            "Mostaccino $4.600          Galletas $6.100 \n",
            "milki $4.900       Papas $2.600\n",
            "¿Que llevaras?: milki\n",
            "Leches:\n",
            "Leche coco $1.500\n",
            "Leche de almendra $2.500\n",
            "Leche avena $3.000\n",
            "leche de soja $2.000\n",
            "¿Que leche desea en su bebida?: leche coco\n",
            "normal\n",
            "mediano\n",
            "gigante\n",
            "¿De que tamaño quiere su bebida?:normal\n",
            "milki con leche coco de tamaño normal: $5120.0\n",
            "¿Cuantos milki con leche coco de tamaño normal quieres llevar?: 1\n",
            "¿Deseas agregar algo más?no\n"
          ]
        }
      ]
    }
  ],
  "metadata": {
    "colab": {
      "collapsed_sections": [],
      "provenance": []
    },
    "kernelspec": {
      "display_name": "Python 3",
      "name": "python3"
    },
    "language_info": {
      "name": "python"
    }
  },
  "nbformat": 4,
  "nbformat_minor": 0
}