{
  "nbformat": 4,
  "nbformat_minor": 0,
  "metadata": {
    "colab": {
      "provenance": []
    },
    "kernelspec": {
      "name": "python3",
      "display_name": "Python 3"
    },
    "language_info": {
      "name": "python"
    }
  },
  "cells": [
    {
      "cell_type": "markdown",
      "source": [
        "#PROGRAMACIÓN ORIENTADA A OBJETOS (POO)(OOP)\n",
        "\n",
        "Las variables se llaman a atributos\n",
        "POO\n",
        "- enfoque ascendente\n",
        "- el programa se divide en objetos\n",
        "- Modificadores de acceso:\n",
        "   \"público\",\"privado\" y \"Protegido\" (más seguro).\n",
        "- los objetos pueden moverse libremente entre funciones\n",
        "- soporta herencia\n",
        "\n",
        "POP (programación orientada al procedimiento)\n",
        "\n",
        "\n",
        "molde ---> clase ------> los mismos atributos pero tienen identidades diferentes\n",
        "\n",
        "clase= plantilla\n",
        "atributos = variables\n",
        "métodos=funciones\n",
        "relaciones\n",
        "\n",
        "class Empleado():\n",
        "  def __init__(self,nombre,edad,id,salario)\n",
        "  self.nombre=nombre\n",
        "  self.edad=edad\n",
        "  self.id=id\n",
        "  self.salario=salario\n"
      ],
      "metadata": {
        "id": "u4r_UGgwYUrY"
      }
    },
    {
      "cell_type": "code",
      "execution_count": null,
      "metadata": {
        "id": "uyuN2VYGYST-"
      },
      "outputs": [],
      "source": [
        "class Empleado: #Esto es una clase\n",
        "#__init__función constructor\n",
        "  def __init__(self,nombre,edad,id,salario): \n",
        "    self.nombre=nombre \n",
        "    self.edad=edad \n",
        "    self.id=id \n",
        "    self.salario=salario\n",
        "\n",
        "\n",
        "  def __repr__(self) -> str:\n",
        "    return f\"Nombre:{self.nombre}, Edad:{self.edad}, ID: {self.id},salario:{self.salario}\"\n",
        "  "
      ]
    },
    {
      "cell_type": "code",
      "source": [
        "class Empleado:\n",
        "  def __init__(self):\n",
        "    pass"
      ],
      "metadata": {
        "id": "J6LaaS2wdJs0"
      },
      "execution_count": null,
      "outputs": []
    },
    {
      "cell_type": "code",
      "source": [
        "sonia=Empleado(\"María\",27,\"NOSE\",1200000)"
      ],
      "metadata": {
        "id": "VT24VE0dddHw"
      },
      "execution_count": null,
      "outputs": []
    },
    {
      "cell_type": "code",
      "source": [
        "print(sonia)"
      ],
      "metadata": {
        "colab": {
          "base_uri": "https://localhost:8080/"
        },
        "id": "TaQw5pTVjqS7",
        "outputId": "60497db0-e74b-4485-e55d-45e58909a655"
      },
      "execution_count": null,
      "outputs": [
        {
          "output_type": "stream",
          "name": "stdout",
          "text": [
            "Nombre:María, Edad:27, ID: NOSE,salario:1200000\n"
          ]
        }
      ]
    },
    {
      "cell_type": "code",
      "source": [
        "type(sonia)"
      ],
      "metadata": {
        "colab": {
          "base_uri": "https://localhost:8080/"
        },
        "id": "uxzrvtREdgCY",
        "outputId": "fa699a6b-9c26-4807-e952-1f955b7e0fe0"
      },
      "execution_count": null,
      "outputs": [
        {
          "output_type": "execute_result",
          "data": {
            "text/plain": [
              "__main__.Empleado"
            ]
          },
          "metadata": {},
          "execution_count": 26
        }
      ]
    },
    {
      "cell_type": "code",
      "source": [
        "sonia.nombre"
      ],
      "metadata": {
        "colab": {
          "base_uri": "https://localhost:8080/",
          "height": 35
        },
        "id": "zqAcpzfqeyQc",
        "outputId": "6cadd2f8-933c-4ea0-e4d0-e855278908be"
      },
      "execution_count": null,
      "outputs": [
        {
          "output_type": "execute_result",
          "data": {
            "text/plain": [
              "'María'"
            ],
            "application/vnd.google.colaboratory.intrinsic+json": {
              "type": "string"
            }
          },
          "metadata": {},
          "execution_count": 27
        }
      ]
    },
    {
      "cell_type": "code",
      "source": [
        "sonia.salario"
      ],
      "metadata": {
        "colab": {
          "base_uri": "https://localhost:8080/"
        },
        "id": "04sWnd8dfCnE",
        "outputId": "b1392270-6748-481d-fcb2-9dd5cc486a8a"
      },
      "execution_count": null,
      "outputs": [
        {
          "output_type": "execute_result",
          "data": {
            "text/plain": [
              "1200000"
            ]
          },
          "metadata": {},
          "execution_count": 28
        }
      ]
    },
    {
      "cell_type": "code",
      "source": [
        "sonia.salario=1250000"
      ],
      "metadata": {
        "id": "fo5mOeXzfEsU"
      },
      "execution_count": null,
      "outputs": []
    },
    {
      "cell_type": "code",
      "source": [
        "sonia.salario"
      ],
      "metadata": {
        "colab": {
          "base_uri": "https://localhost:8080/"
        },
        "id": "xKEbeutdfL-E",
        "outputId": "02992a0d-62a1-40f6-8aeb-52311f744461"
      },
      "execution_count": null,
      "outputs": [
        {
          "output_type": "execute_result",
          "data": {
            "text/plain": [
              "1250000"
            ]
          },
          "metadata": {},
          "execution_count": 30
        }
      ]
    },
    {
      "cell_type": "code",
      "source": [
        "sonia.id=\"U001585\""
      ],
      "metadata": {
        "id": "WpUfVlqDfk9r"
      },
      "execution_count": null,
      "outputs": []
    },
    {
      "cell_type": "code",
      "source": [
        "sonia.__dict__ #para ver los atributos del constructor"
      ],
      "metadata": {
        "colab": {
          "base_uri": "https://localhost:8080/"
        },
        "id": "UfiC8iAyfrJb",
        "outputId": "e5610344-1632-4d89-bd63-61c3d440a57b"
      },
      "execution_count": null,
      "outputs": [
        {
          "output_type": "execute_result",
          "data": {
            "text/plain": [
              "{'nombre': 'María', 'edad': 27, 'id': 'U001585', 'salario': 1250000}"
            ]
          },
          "metadata": {},
          "execution_count": 32
        }
      ]
    },
    {
      "cell_type": "code",
      "source": [
        "class Tienda:\n",
        "  def __init__ (self,producto,precio,unidad)  ->None:\n",
        "    self.producto=producto\n",
        "    self.precio=precio\n",
        "    self.unidad=unidad\n",
        "    "
      ],
      "metadata": {
        "id": "yjh6MZjJikBc"
      },
      "execution_count": null,
      "outputs": []
    },
    {
      "cell_type": "code",
      "source": [],
      "metadata": {
        "id": "ywxvOAGyjFVj"
      },
      "execution_count": null,
      "outputs": []
    },
    {
      "cell_type": "code",
      "source": [
        "protudc"
      ],
      "metadata": {
        "id": "Iyua6J0gjFwT"
      },
      "execution_count": null,
      "outputs": []
    },
    {
      "cell_type": "code",
      "source": [
        "empleado2=Empleado(\"Victor\",38,\"1\",2000000)"
      ],
      "metadata": {
        "id": "-hXNPZP5kDaK"
      },
      "execution_count": null,
      "outputs": []
    },
    {
      "cell_type": "code",
      "source": [
        "if empleado2.salario>sonia.salario:\n",
        "  print(f\"{empleado2.nombre} gana más que {sonia.nombre}\")\n",
        "elif empleado2.nombre<sonia.salario:\n",
        "  print(f\"{empleado2.nombre} gana menos que {sonia.nombre}\")\n",
        "else:\n",
        "  print(f\"{empleado2.nombre} gana lo mismo {sonia.nombre}\")"
      ],
      "metadata": {
        "colab": {
          "base_uri": "https://localhost:8080/"
        },
        "id": "9cUzkj0ykYag",
        "outputId": "4f5e4429-36e4-4702-cc17-ec3c2085c37e"
      },
      "execution_count": null,
      "outputs": [
        {
          "output_type": "stream",
          "name": "stdout",
          "text": [
            "Victor gana más que María\n"
          ]
        }
      ]
    },
    {
      "cell_type": "code",
      "source": [
        "class Fraccion:\n",
        "  #atributos de clase\n",
        "  num=0\n",
        "  den=1\n",
        "  def __init__(self,num=0,den=1) -> None:\n",
        "    self.num=num\n",
        "    self.den=den\n",
        "    if self.den==0: print('zero error')\n",
        "  \n",
        "  def multiplica(self,b):\n",
        "    num=self.num*b.num\n",
        "    den=self.den*b.den\n",
        "    r=Fraccion(num,den)\n",
        "    return r\n",
        "\n",
        "  def suma(self,s):\n",
        "    num=(self.num*s.den)+(s.num*self.den)\n",
        "    den=self.den*s.den\n",
        "    h=Fraccion(num,den)\n",
        "    return h\n",
        "\n",
        "  def division(self,d):\n",
        "    num=self.num*d.den\n",
        "    den=self.den*d.num\n",
        "    p=Fraccion(num,den)\n",
        "    return p\n",
        "\n",
        "  def potencia(self,m):\n",
        "    num=self.num**m\n",
        "    den=self.den**m\n",
        "    L=Fraccion(num,den)\n",
        "    return L\n",
        "\n",
        "  def imprimir(self):\n",
        "    print(self.num,\"/\",self.den)"
      ],
      "metadata": {
        "id": "7M_x6J30lQuT"
      },
      "execution_count": 32,
      "outputs": []
    },
    {
      "cell_type": "code",
      "source": [
        "sama=Fraccion(8,0)\n",
        "sama.imprimir()"
      ],
      "metadata": {
        "colab": {
          "base_uri": "https://localhost:8080/"
        },
        "id": "RbIRBtrBcbDg",
        "outputId": "46b1ab74-472c-450f-81b2-4ba4a9f92bb9"
      },
      "execution_count": 33,
      "outputs": [
        {
          "output_type": "stream",
          "name": "stdout",
          "text": [
            "zero error\n",
            "8 / 0\n"
          ]
        }
      ]
    },
    {
      "cell_type": "code",
      "source": [
        "a=Fraccion(4,5)\n",
        "a.imprimir()"
      ],
      "metadata": {
        "colab": {
          "base_uri": "https://localhost:8080/"
        },
        "id": "KyLPt-lUmAnq",
        "outputId": "5bbe170a-cea6-4cfb-f015-0a6a7cb2ebad"
      },
      "execution_count": 4,
      "outputs": [
        {
          "output_type": "stream",
          "name": "stdout",
          "text": [
            "4 / 5\n"
          ]
        }
      ]
    },
    {
      "cell_type": "code",
      "source": [
        "c=Fraccion(7,4)\n",
        "r=a.multiplica(c)"
      ],
      "metadata": {
        "id": "3ybo4eOUmFpx"
      },
      "execution_count": 5,
      "outputs": []
    },
    {
      "cell_type": "code",
      "source": [
        "r.imprimir()"
      ],
      "metadata": {
        "colab": {
          "base_uri": "https://localhost:8080/"
        },
        "id": "RyZZcQGLoLJU",
        "outputId": "2819cda6-d91c-4d55-d1d7-6e70051743c3"
      },
      "execution_count": 6,
      "outputs": [
        {
          "output_type": "stream",
          "name": "stdout",
          "text": [
            "28 / 20\n"
          ]
        }
      ]
    },
    {
      "cell_type": "code",
      "source": [
        "o=Fraccion(8,5)\n",
        "h=a.suma(o)"
      ],
      "metadata": {
        "id": "fDc8BneLUR1D"
      },
      "execution_count": 16,
      "outputs": []
    },
    {
      "cell_type": "code",
      "source": [
        "h.imprimir()"
      ],
      "metadata": {
        "colab": {
          "base_uri": "https://localhost:8080/"
        },
        "id": "ssZYxQWTVEfR",
        "outputId": "03f7dead-fd06-4176-97da-3244bde53b86"
      },
      "execution_count": 17,
      "outputs": [
        {
          "output_type": "stream",
          "name": "stdout",
          "text": [
            "60 / 25\n"
          ]
        }
      ]
    },
    {
      "cell_type": "code",
      "source": [
        "P=Fraccion(10,3)\n",
        "p=o.division(P)"
      ],
      "metadata": {
        "id": "FuuPThENZVfg"
      },
      "execution_count": 24,
      "outputs": []
    },
    {
      "cell_type": "code",
      "source": [
        "p.imprimir()"
      ],
      "metadata": {
        "colab": {
          "base_uri": "https://localhost:8080/"
        },
        "id": "jADZ3yyPZWYC",
        "outputId": "b3902082-8bec-40b0-f1f0-120c8ad9f6bb"
      },
      "execution_count": 25,
      "outputs": [
        {
          "output_type": "stream",
          "name": "stdout",
          "text": [
            "24 / 50\n"
          ]
        }
      ]
    },
    {
      "cell_type": "code",
      "source": [
        "z=Fraccion(42,13)"
      ],
      "metadata": {
        "id": "tjGIurpfblrX"
      },
      "execution_count": 29,
      "outputs": []
    },
    {
      "cell_type": "code",
      "source": [
        "m=2\n",
        "L=P.potencia(m)"
      ],
      "metadata": {
        "id": "9CMpqSzQZWKm"
      },
      "execution_count": 27,
      "outputs": []
    },
    {
      "cell_type": "code",
      "source": [
        "n=3\n",
        "L=z.potencia(n)"
      ],
      "metadata": {
        "id": "HaiLKmTWbrOW"
      },
      "execution_count": 30,
      "outputs": []
    },
    {
      "cell_type": "code",
      "source": [
        "L.imprimir()"
      ],
      "metadata": {
        "colab": {
          "base_uri": "https://localhost:8080/"
        },
        "id": "WPKq-cUkb0Pt",
        "outputId": "0a1398c2-68d3-4829-a1b3-2883ca8bb4cd"
      },
      "execution_count": 31,
      "outputs": [
        {
          "output_type": "stream",
          "name": "stdout",
          "text": [
            "74088 / 2197\n"
          ]
        }
      ]
    },
    {
      "cell_type": "code",
      "source": [
        "L.imprimir()"
      ],
      "metadata": {
        "colab": {
          "base_uri": "https://localhost:8080/"
        },
        "id": "7bk2LsaHZV60",
        "outputId": "82d29b15-bab5-432d-b9cb-649a8782c5de"
      },
      "execution_count": 28,
      "outputs": [
        {
          "output_type": "stream",
          "name": "stdout",
          "text": [
            "100 / 9\n"
          ]
        }
      ]
    },
    {
      "cell_type": "code",
      "source": [
        "type(h)"
      ],
      "metadata": {
        "colab": {
          "base_uri": "https://localhost:8080/"
        },
        "id": "cfPKkaMWnhvf",
        "outputId": "fc2bbed8-67c7-4e99-ade3-c7d49f518b8f"
      },
      "execution_count": 9,
      "outputs": [
        {
          "output_type": "execute_result",
          "data": {
            "text/plain": [
              "__main__.Fraccion"
            ]
          },
          "metadata": {},
          "execution_count": 9
        }
      ]
    },
    {
      "cell_type": "code",
      "source": [
        "#crear suma, división y potencia\n",
        "#cuando denominador es cero"
      ],
      "metadata": {
        "id": "kfA4gF-CpH9a"
      },
      "execution_count": null,
      "outputs": []
    }
  ]
}