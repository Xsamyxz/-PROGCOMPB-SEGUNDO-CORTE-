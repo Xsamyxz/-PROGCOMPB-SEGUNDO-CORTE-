{
  "nbformat": 4,
  "nbformat_minor": 0,
  "metadata": {
    "colab": {
      "provenance": []
    },
    "kernelspec": {
      "name": "python3",
      "display_name": "Python 3"
    },
    "language_info": {
      "name": "python"
    }
  },
  "cells": [
    {
      "cell_type": "code",
      "execution_count": null,
      "metadata": {
        "id": "csNdNuHK8Q5_"
      },
      "outputs": [],
      "source": []
    },
    {
      "cell_type": "markdown",
      "source": [
        "#CLASE DE FUNCIONES \n",
        "\n",
        "usamos def para definir nuestras funciones, cualquier función tendrá un nombre, unos argumentos o parametros de entrada, un código a ejecutar y unos parámetros de salida.\n"
      ],
      "metadata": {
        "id": "cyFw6hel-7DH"
      }
    },
    {
      "cell_type": "code",
      "source": [
        "def nombre_función('argumentos/parametros'):\n",
        "  #código\n",
        "  return #retorno"
      ],
      "metadata": {
        "id": "-1WFI42N_Noh"
      },
      "execution_count": null,
      "outputs": []
    },
    {
      "cell_type": "markdown",
      "source": [
        "se pasa"
      ],
      "metadata": {
        "id": "T9g0DgpS_WZu"
      }
    },
    {
      "cell_type": "code",
      "source": [
        "def multiplica_por_5(número):\n",
        "  print(f'{número} * 5 ={número*5}')\n",
        "\n",
        "print('comienzo del programa')\n",
        "multiplica_por_5(7)\n",
        "print('siguiente')\n",
        "multiplica_por_5(113)\n",
        "print('Fin')"
      ],
      "metadata": {
        "colab": {
          "base_uri": "https://localhost:8080/"
        },
        "id": "VT2aJUWM__sA",
        "outputId": "aa200c7e-a87d-46d4-cb9e-43ecd280036c"
      },
      "execution_count": 7,
      "outputs": [
        {
          "output_type": "stream",
          "name": "stdout",
          "text": [
            "comienzo del programa\n",
            "7 * 5 =35\n",
            "siguiente\n",
            "113 * 5 =565\n",
            "Fin\n"
          ]
        }
      ]
    },
    {
      "cell_type": "code",
      "source": [
        "val1= int(input('ingrese el primer número'))\n",
        "val2= int(input('ingrese el segundo número'))\n",
        "operador=input('ingrese la operacion')\n",
        "\n",
        "\n",
        "#hay tres parametros\n",
        "\n",
        "def calculadora(a,b,c):\n",
        "  if c == '+':\n",
        "    resultado = a+b\n",
        "  if c == '-':\n",
        "    resultado = a-b\n",
        "  if c == '*':\n",
        "    resultado = a*b\n",
        "  if c == '/':\n",
        "    resultado = a/b\n",
        "\n",
        "  print('el restuldado es: ', resultado)\n",
        "\n",
        "calculadora(val1,val2,operador)\n",
        "  "
      ],
      "metadata": {
        "colab": {
          "base_uri": "https://localhost:8080/",
          "height": 391
        },
        "id": "hly-gzaICKHA",
        "outputId": "53d43007-1eb2-43ad-9b0f-fbbb8e78f8c5"
      },
      "execution_count": 15,
      "outputs": [
        {
          "name": "stdout",
          "output_type": "stream",
          "text": [
            "ingrese el primer número45\n",
            "ingrese el segundo número0\n",
            "ingrese la operacion/\n"
          ]
        },
        {
          "output_type": "error",
          "ename": "ZeroDivisionError",
          "evalue": "ignored",
          "traceback": [
            "\u001b[0;31m---------------------------------------------------------------------------\u001b[0m",
            "\u001b[0;31mZeroDivisionError\u001b[0m                         Traceback (most recent call last)",
            "\u001b[0;32m<ipython-input-15-afc1a58cfa5a>\u001b[0m in \u001b[0;36m<module>\u001b[0;34m\u001b[0m\n\u001b[1;32m     18\u001b[0m   \u001b[0mprint\u001b[0m\u001b[0;34m(\u001b[0m\u001b[0;34m'el restuldado es: '\u001b[0m\u001b[0;34m,\u001b[0m \u001b[0mresultado\u001b[0m\u001b[0;34m)\u001b[0m\u001b[0;34m\u001b[0m\u001b[0;34m\u001b[0m\u001b[0m\n\u001b[1;32m     19\u001b[0m \u001b[0;34m\u001b[0m\u001b[0m\n\u001b[0;32m---> 20\u001b[0;31m \u001b[0mcalculadora\u001b[0m\u001b[0;34m(\u001b[0m\u001b[0mval1\u001b[0m\u001b[0;34m,\u001b[0m\u001b[0mval2\u001b[0m\u001b[0;34m,\u001b[0m\u001b[0moperador\u001b[0m\u001b[0;34m)\u001b[0m\u001b[0;34m\u001b[0m\u001b[0;34m\u001b[0m\u001b[0m\n\u001b[0m\u001b[1;32m     21\u001b[0m \u001b[0;34m\u001b[0m\u001b[0m\n",
            "\u001b[0;32m<ipython-input-15-afc1a58cfa5a>\u001b[0m in \u001b[0;36mcalculadora\u001b[0;34m(a, b, c)\u001b[0m\n\u001b[1;32m     14\u001b[0m     \u001b[0mresultado\u001b[0m \u001b[0;34m=\u001b[0m \u001b[0ma\u001b[0m\u001b[0;34m*\u001b[0m\u001b[0mb\u001b[0m\u001b[0;34m\u001b[0m\u001b[0;34m\u001b[0m\u001b[0m\n\u001b[1;32m     15\u001b[0m   \u001b[0;32mif\u001b[0m \u001b[0mc\u001b[0m \u001b[0;34m==\u001b[0m \u001b[0;34m'/'\u001b[0m\u001b[0;34m:\u001b[0m\u001b[0;34m\u001b[0m\u001b[0;34m\u001b[0m\u001b[0m\n\u001b[0;32m---> 16\u001b[0;31m     \u001b[0mresultado\u001b[0m \u001b[0;34m=\u001b[0m \u001b[0ma\u001b[0m\u001b[0;34m/\u001b[0m\u001b[0mb\u001b[0m\u001b[0;34m\u001b[0m\u001b[0;34m\u001b[0m\u001b[0m\n\u001b[0m\u001b[1;32m     17\u001b[0m \u001b[0;34m\u001b[0m\u001b[0m\n\u001b[1;32m     18\u001b[0m   \u001b[0mprint\u001b[0m\u001b[0;34m(\u001b[0m\u001b[0;34m'el restuldado es: '\u001b[0m\u001b[0;34m,\u001b[0m \u001b[0mresultado\u001b[0m\u001b[0;34m)\u001b[0m\u001b[0;34m\u001b[0m\u001b[0;34m\u001b[0m\u001b[0m\n",
            "\u001b[0;31mZeroDivisionError\u001b[0m: division by zero"
          ]
        }
      ]
    },
    {
      "cell_type": "code",
      "source": [
        "print('hola mundo','me moli', end=\"**\", sep='\\n')"
      ],
      "metadata": {
        "colab": {
          "base_uri": "https://localhost:8080/"
        },
        "id": "NpaI_nB5C_t9",
        "outputId": "05f7199c-12ed-4684-ac34-1c6d4ddab5f8"
      },
      "execution_count": 13,
      "outputs": [
        {
          "output_type": "stream",
          "name": "stdout",
          "text": [
            "hola mundo\n",
            "me moli**"
          ]
        }
      ]
    },
    {
      "cell_type": "code",
      "source": [
        "print(end='**', 'hola mundo','me moli', sep='\\n')"
      ],
      "metadata": {
        "colab": {
          "base_uri": "https://localhost:8080/",
          "height": 130
        },
        "id": "LAzkTYS7D1ID",
        "outputId": "da1f57ac-e2da-4dcf-e281-712cd960154e"
      },
      "execution_count": 14,
      "outputs": [
        {
          "output_type": "error",
          "ename": "SyntaxError",
          "evalue": "ignored",
          "traceback": [
            "\u001b[0;36m  File \u001b[0;32m\"<ipython-input-14-5693da7eb3bf>\"\u001b[0;36m, line \u001b[0;32m1\u001b[0m\n\u001b[0;31m    print(end='**', 'hola mundo','me moli', sep='\\n')\u001b[0m\n\u001b[0m                   ^\u001b[0m\n\u001b[0;31mSyntaxError\u001b[0m\u001b[0;31m:\u001b[0m positional argument follows keyword argument\n"
          ]
        }
      ]
    },
    {
      "cell_type": "code",
      "source": [
        "def llamamundo ():\n",
        "  for inicio in range (6):\n",
        "    print ('hola mundo')\n",
        "\n",
        "llamamundo ()"
      ],
      "metadata": {
        "colab": {
          "base_uri": "https://localhost:8080/"
        },
        "id": "J0MKVFrjJqm2",
        "outputId": "99d1f063-3f2b-43cf-cf83-5365fa70a489"
      },
      "execution_count": 16,
      "outputs": [
        {
          "output_type": "stream",
          "name": "stdout",
          "text": [
            "hola mundo\n",
            "hola mundo\n",
            "hola mundo\n",
            "hola mundo\n",
            "hola mundo\n",
            "hola mundo\n"
          ]
        }
      ]
    },
    {
      "cell_type": "code",
      "source": [
        "def verificar(correo,contraseña):\n",
        "  if (correo == 'cportela656@unab.edu.co' and contraseña=='123456789'):\n",
        "    return True\n",
        "  else:\n",
        "    return False\n",
        "\n",
        "def principal():\n",
        "  correo=input('correo: ')\n",
        "  contraseña=input('contraseña')\n",
        "  login=verificar(correo, contraseña)\n",
        "  if(login == True):\n",
        "    print('bienvenido al sistema')\n",
        "  else:\n",
        "    print('usuario incorrecto')\n",
        "\n",
        "principal()"
      ],
      "metadata": {
        "id": "l81MnXS4J83e"
      },
      "execution_count": null,
      "outputs": []
    },
    {
      "cell_type": "markdown",
      "source": [
        "funciones con parametos con retorno"
      ],
      "metadata": {
        "id": "rznLXV5JMCEs"
      }
    },
    {
      "cell_type": "code",
      "source": [
        "#parametros con retorno\n",
        "#aparte que recibe parametros envia un rsultado\n",
        "\n",
        "def suma(a,b,c):\n",
        "  x=a+b+c\n",
        "\n",
        "#para regresal al resultado se utiliza el return\n",
        "   \n",
        "  return x\n",
        "\n",
        "#para mandar a llamar suma hay que almacenarlo en un valor\n",
        "resultado=suma(31,45,5)\n",
        "#hacemos que nos imprima el resultado\n",
        "print(resultado)"
      ],
      "metadata": {
        "colab": {
          "base_uri": "https://localhost:8080/"
        },
        "id": "uiQG279tLSNa",
        "outputId": "c03ddd3b-4c69-4d91-9fde-d0588d5a5983"
      },
      "execution_count": 17,
      "outputs": [
        {
          "output_type": "stream",
          "name": "stdout",
          "text": [
            "81\n"
          ]
        }
      ]
    },
    {
      "cell_type": "code",
      "source": [
        "#la función 'calcularedad' calcula la edad de una persona \n",
        "#lo hace restando el año actual menos el año de naciemiento\n",
        "\n",
        "def calcularedad(añoactual, añodenacimiento):\n",
        "  edad=(añoactual - añodenacimiento)\n",
        "  return edad\n",
        "\n",
        "#agregar una linea en la función que devalua la variable 'edad'\n",
        "#luego, afuera de la función, llamala con el año actual y tu año de nacimiento\n",
        "#guardar el valor de llamar a esa función en la variable 'miedad'\n",
        "#vuelve a llamar la función con el año actual y el año de nacimiento de tu mejor amigo\n",
        "\n",
        "#guardar el valor de llamar a esta funcion en la variable 'edadmiamigo'\n",
        "\n",
        "#imprime el siguiente texto:\n",
        "\n",
        "#  ' Tengo X años y mi mejor amigo tiene Y años '\n",
        "#donde X es tu edad guardada en la variable 'miedad'\n",
        "#donde Y es la edad de tu mejor amigo en la variable 'edaddemiamigo'\n",
        "\n",
        "añoactual= int(input('año actual: '))\n",
        "añodenacimiento= int(input('año de nacimiento: '))\n",
        "añoactual1= int(input('año actual: '))\n",
        "añodenacimiento2= int(input('año de nacimiento: '))\n",
        "\n",
        "miedad=calcularedad(añoactual, añodenacimiento)\n",
        "\n",
        "edaddemiamigo=calcularedad(añoactual1, añodenacimiento2)\n",
        "print('Tengo', miedad,  'años y mi mejor amigo tiene ', edaddemiamigo,  'años')\n"
      ],
      "metadata": {
        "colab": {
          "base_uri": "https://localhost:8080/"
        },
        "id": "-ry7bWlnMveE",
        "outputId": "55e368a4-2ba0-4dc7-9a0d-04c5006a8def"
      },
      "execution_count": 27,
      "outputs": [
        {
          "output_type": "stream",
          "name": "stdout",
          "text": [
            "año actual: 2022\n",
            "año de nacimiento: 1994\n",
            "año actual: 2022\n",
            "año de nacimiento: 2000\n",
            "Tengo 28 años y mi mejor amigo tiene  22 años\n"
          ]
        }
      ]
    },
    {
      "cell_type": "code",
      "source": [
        "#la función 'informaciónpersonal' recoge la información personal de una persona\n",
        "\n",
        "def informaciónpersonal():\n",
        "    nombre='Juana de Arco'\n",
        "    edad=19\n",
        "    país='Francia'\n",
        "\n",
        "    return (nombre,edad,país)\n",
        "\n",
        "(nombre,edad,país)=informaciónpersonal()\n",
        "\n",
        "print(nombre+',tiene' + país +',tiene' + str(edad) + 'años de edad.')\n",
        "\n",
        "#agrega una linea en la función que devuelva las variables 'nombre','edad', 'país'.\n",
        "\n",
        "#luego, afuera de la función, en la linea 8, llámala\n",
        "\n",
        "#guarda el valor de llamar a esa función en las variables 'nombre', 'edad', 'país'.\n",
        "\n",
        "#corre el programa. Debería  imprimir el siguiente texto:\n",
        "\n",
        "#Juana de Arco, de Francia, tiene 20 años de edad."
      ],
      "metadata": {
        "colab": {
          "base_uri": "https://localhost:8080/"
        },
        "id": "HHHUmGg4STPY",
        "outputId": "8c353ce2-8547-45f3-ac2c-69deed935da7"
      },
      "execution_count": 35,
      "outputs": [
        {
          "output_type": "stream",
          "name": "stdout",
          "text": [
            "Juana de Arco,tieneFrancia,tiene19años de edad.\n"
          ]
        }
      ]
    }
  ]
}