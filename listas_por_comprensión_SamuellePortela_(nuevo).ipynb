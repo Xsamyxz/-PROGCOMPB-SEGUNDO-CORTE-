{
  "nbformat": 4,
  "nbformat_minor": 0,
  "metadata": {
    "colab": {
      "provenance": [],
      "collapsed_sections": [
        "vhCU42RUk0Bs"
      ]
    },
    "kernelspec": {
      "name": "python3",
      "display_name": "Python 3"
    },
    "language_info": {
      "name": "python"
    }
  },
  "cells": [
    {
      "cell_type": "markdown",
      "source": [
        "#Operaciones por listas\n"
      ],
      "metadata": {
        "id": "vhCU42RUk0Bs"
      }
    },
    {
      "cell_type": "markdown",
      "source": [
        "las listas pueden contener una combinación de tipos de datos como strings, tuplas, listas, dictionarios, funciones, objetos, etc."
      ],
      "metadata": {
        "id": "QPwEsOCyl2CM"
      }
    },
    {
      "cell_type": "code",
      "source": [
        "from re import M\n",
        "#operaciones aplicables a una lista\n",
        "\n",
        "\n",
        "#Operaciones de definición  --->  []  \n",
        "\n",
        "x=[]\n",
        "\n",
        "\n",
        "#Operaciones mutables:\n",
        "\n",
        "#-Estas operaciones nos permiten trabajar con listas alterando o modificando su definición previa.\n",
        "\n",
        "# append ---> lista.append     Añade un único elemento al final de la lista.\n",
        "\n",
        "x = [1, 2]\n",
        "\n",
        "x.append('h')\n",
        "\n",
        "print(x)\n",
        "\n",
        "\n",
        "#  2) extend  ----> lista.extend    Añade otra lista al final de una lista.\n",
        "\n",
        "\n",
        "x.extend([3, 4])\n",
        "\n",
        "print(x)\n",
        "\n",
        "\n",
        "# 3) insert ----> lista.insert     Inserta un nuevo elemento en una posición determinada de la lista\n",
        "\n",
        "x.insert(0, 'y')\n",
        "\n",
        "\n",
        "\n",
        "# 4)  del      Elimina el elemento ubicado en el indice descrito     ['y'] o [:2]\n",
        "\n",
        "del x['y']\n",
        "\n",
        "\n",
        "\n",
        "# 5)  remove ----> lista.remove    Remueve la primer coincidencia del elemento especificado.\n",
        "\n",
        "x.remove(3)\n",
        "\n",
        "\n",
        "\n",
        "# 6) reverse ---->  lista.reverse     Invierte el orden de los elementos de la lista\n",
        "\n",
        "x.reverse()\n",
        "\n",
        "\n",
        "\n",
        "\n",
        "# 7) sort ------> lista.sort     ordena los elementos de la lista de menor a mayor\n",
        "\n",
        "x.sort()\n",
        "\n",
        "y = ['R', 'C', 'Python', 'Java', 'R']\n",
        "\n",
        "y.sort(reverse=True)\n",
        "\n",
        "\n",
        "\n",
        "#OPERACIONES INMUTABLES: Estas operaciones nos permiten trabajar con listas sin alterar o modificar su definición previa.\n",
        "\n",
        "# 1) sorted       rdenar los elementos de una lista de menor a mayor, al igual que el método sort, este comportamiento puede modificarse mediante el parámetro reverse=True\n",
        "\n",
        "m = [10, 30, 20]\n",
        "\n",
        "print(sorted(m))\n",
        "\n",
        "print(m)\n",
        "\n",
        "\n",
        "# 2) +    permite concatenar o unir dos listas diferentes en nueva lista.\n",
        "\n",
        "w = [40, 50, 60]\n",
        "\n",
        "\n",
        "print(m + w)\n",
        "\n",
        "# 3) * \n",
        "\n",
        "# 4) min\n",
        "\n",
        "# 5) max\n",
        "\n",
        "# 6) index\n",
        "\n",
        "# 7) count\n",
        "\n",
        "# 8) sum\n",
        "\n",
        "# 9) in"
      ],
      "metadata": {
        "id": "rA5UNhm-lRAG"
      },
      "execution_count": null,
      "outputs": []
    },
    {
      "cell_type": "code",
      "source": [],
      "metadata": {
        "id": "z4_ERlq-kwmu"
      },
      "execution_count": null,
      "outputs": []
    },
    {
      "cell_type": "markdown",
      "source": [
        "#Listas por compresión "
      ],
      "metadata": {
        "id": "8VBGzUdJeR_r"
      }
    },
    {
      "cell_type": "markdown",
      "source": [
        "La lista por comprensión es una construcción sintáctica disponible en Python con la que se pueden crear lista a partir de otros elementos iterables. Siendo una de las contracciones más elegantes del lenguaje. A continuación, se mostrará la sintaxis básica para trabajar con las listas por comprensión."
      ],
      "metadata": {
        "id": "0AkgjJSieiEv"
      }
    },
    {
      "cell_type": "code",
      "execution_count": null,
      "metadata": {
        "id": "pCu98DTBePY9"
      },
      "outputs": [],
      "source": [
        "#Los tipos de datos mutables son todos aquellos a los que es posible cambiar, modificar o actualizar su contenido. \n",
        "#Los objetos mutables más comunes son las listas, diccionarios y conjuntos que sirven para guardar colecciones de datos.\n",
        "\n",
        "#SINTAXIS DE LISTAS POR COMPRENSIÓN \n",
        "\n",
        "nueva_lista=[expresion bucle_for condiciones]\n",
        "\n",
        "\n",
        "#Entre corchetes se escribe una expresión seguida de un bucle for sobre el que se itera, para finalmente escribir unas condiciones\n",
        "\n"
      ]
    },
    {
      "cell_type": "code",
      "source": [
        "#EJEMPLO\n",
        "\n",
        "\n",
        "numbers = [1, 2, 3, 4]\n",
        "results = []\n",
        "for n in numbers:\n",
        "    results.append(n + 1)\n",
        "    \n",
        "results"
      ],
      "metadata": {
        "colab": {
          "base_uri": "https://localhost:8080/"
        },
        "id": "fHzZXm5JiLWN",
        "outputId": "5f91de2f-68cb-418f-d0d6-2b76a74c9911"
      },
      "execution_count": null,
      "outputs": [
        {
          "output_type": "execute_result",
          "data": {
            "text/plain": [
              "[2, 3, 4, 5]"
            ]
          },
          "metadata": {},
          "execution_count": 7
        }
      ]
    },
    {
      "cell_type": "markdown",
      "source": [
        "**Condiciones en las listas por comprensión:**\n",
        "\n",
        "Es posible añadir condiciones a las listas por comprensión en Python. Para lo que se tiene que agregar un **if** al final con la condición. "
      ],
      "metadata": {
        "id": "AxfCdDvYjFRh"
      }
    },
    {
      "cell_type": "code",
      "source": [
        "numbers = [1, 2, 3, 4]\n",
        "results = [n + 1 for n in numbers if n < 5]\n",
        "results"
      ],
      "metadata": {
        "colab": {
          "base_uri": "https://localhost:8080/"
        },
        "id": "3TTYvUHyiSaE",
        "outputId": "c805601e-a1e5-4bca-9850-d27b33f205c1"
      },
      "execution_count": null,
      "outputs": [
        {
          "output_type": "execute_result",
          "data": {
            "text/plain": [
              "[2, 3, 4, 5]"
            ]
          },
          "metadata": {},
          "execution_count": 3
        }
      ]
    },
    {
      "cell_type": "code",
      "source": [
        "results2=lambda numbers:results\n",
        "print(results2(numbers))"
      ],
      "metadata": {
        "colab": {
          "base_uri": "https://localhost:8080/"
        },
        "id": "pweV8x7YXHIW",
        "outputId": "22ff92c1-a675-43ef-d26e-dbac782ad86d"
      },
      "execution_count": null,
      "outputs": [
        {
          "output_type": "stream",
          "name": "stdout",
          "text": [
            "[2, 3, 4, 5]\n"
          ]
        }
      ]
    },
    {
      "cell_type": "code",
      "source": [
        "n=int(input(\"Hasta que número quieres imprimir los pares e impares: \"))\n",
        "pares=[número for número in range(0,n+1) if número%2==0]\n",
        "print(pares)\n",
        "impares=[número for número in range(0,n+1) if número%2!=0]\n",
        "print(impares)"
      ],
      "metadata": {
        "colab": {
          "base_uri": "https://localhost:8080/"
        },
        "id": "vBRZC7Q_hwq9",
        "outputId": "46221ab0-3446-475c-e209-4695d9662006"
      },
      "execution_count": null,
      "outputs": [
        {
          "output_type": "stream",
          "name": "stdout",
          "text": [
            "Hasta que número quieres imprimir los pares e impares: 20\n",
            "[0, 2, 4, 6, 8, 10, 12, 14, 16, 18, 20]\n",
            "[1, 3, 5, 7, 9, 11, 13, 15, 17, 19]\n"
          ]
        }
      ]
    },
    {
      "cell_type": "code",
      "source": [
        "num=int(input(\"Hasta que número quieres imprimir los pares e impares: \"))\n",
        "def hola(n):\n",
        "  pares=[número for número in range(0,n+1) if número%2==0]\n",
        "  print(pares)\n",
        "  impares=[número for número in range(0,n+1) if número%2!=0]\n",
        "  print(impares)\n",
        "hola(num)"
      ],
      "metadata": {
        "colab": {
          "base_uri": "https://localhost:8080/"
        },
        "id": "DAdEyuMfiO_U",
        "outputId": "3a3f9b02-086b-40cc-faf6-e36cb2b4772e"
      },
      "execution_count": null,
      "outputs": [
        {
          "output_type": "stream",
          "name": "stdout",
          "text": [
            "Hasta que número quieres imprimir los pares e impares: 20\n",
            "[0, 2, 4, 6, 8, 10, 12, 14, 16, 18, 20]\n",
            "[1, 3, 5, 7, 9, 11, 13, 15, 17, 19]\n"
          ]
        }
      ]
    },
    {
      "cell_type": "code",
      "source": [
        "num=int(input(\"Hasta que número quieres imprimir los pares e impares: \"))\n",
        "mi_lista=[n for n in range(0,num+1)]\n",
        "impares=list(filter(lambda num:num%2!=0,mi_lista))\n",
        "print(impares)\n",
        "pares=list(filter(lambda num:num%2==0,mi_lista))\n",
        "print(pares)"
      ],
      "metadata": {
        "colab": {
          "base_uri": "https://localhost:8080/"
        },
        "id": "xT3oT9lKidqE",
        "outputId": "0e6445c8-6bee-45af-9048-a4fc022bda0f"
      },
      "execution_count": null,
      "outputs": [
        {
          "output_type": "stream",
          "name": "stdout",
          "text": [
            "Hasta que número quieres imprimir los pares e impares: 20\n",
            "[1, 3, 5, 7, 9, 11, 13, 15, 17, 19]\n",
            "[0, 2, 4, 6, 8, 10, 12, 14, 16, 18, 20]\n"
          ]
        }
      ]
    },
    {
      "cell_type": "code",
      "source": [
        "#numero perfecto\n",
        "\n",
        "def perfecto(numero):\n",
        "  perf=0\n",
        "  for i in range (1,numero):\n",
        "    if numero %i==0:\n",
        "      perf+=i\n",
        "  if perf ==numero:\n",
        "    print('es numero perfecto')\n",
        "    return True\n",
        "  else:\n",
        "     print('no es numero perfecto')\n",
        "numero=6\n",
        "perfecto (numero)\n"
      ],
      "metadata": {
        "colab": {
          "base_uri": "https://localhost:8080/"
        },
        "id": "qWsjNWqglr3i",
        "outputId": "15780c26-6a3b-425e-9869-ecf8be4161da"
      },
      "execution_count": null,
      "outputs": [
        {
          "output_type": "stream",
          "name": "stdout",
          "text": [
            "es numero perfecto\n"
          ]
        },
        {
          "output_type": "execute_result",
          "data": {
            "text/plain": [
              "True"
            ]
          },
          "metadata": {},
          "execution_count": 1
        }
      ]
    },
    {
      "cell_type": "code",
      "source": [
        "def numeros():\n",
        "  a=int(input('ingresa un número'))\n",
        "  b=int(input('ingresa un número'))\n",
        "  c=int(input('ingresa un número'))\n",
        "  d=int(input('ingresa un número'))\n",
        "  perfect=[a,b,c,d]\n",
        "\n",
        "  perfect1=[elemento for elemento in perfect if perfecto(elemento)==True ]\n",
        "numeros()\n"
      ],
      "metadata": {
        "colab": {
          "base_uri": "https://localhost:8080/"
        },
        "id": "Z3FnCX_3lrwT",
        "outputId": "90d52c8e-ba0c-4aad-9445-d07844825a35"
      },
      "execution_count": null,
      "outputs": [
        {
          "output_type": "stream",
          "name": "stdout",
          "text": [
            "ingresa un número1\n",
            "ingresa un número2\n",
            "ingresa un número3\n",
            "ingresa un número6\n",
            "no es numero perfecto\n",
            "no es numero perfecto\n",
            "no es numero perfecto\n",
            "es numero perfecto\n"
          ]
        }
      ]
    },
    {
      "cell_type": "code",
      "source": [
        "lista=[2,3,6,4]\n",
        "#lambda y map\n",
        "perfect2=list(map(lambda elemento:perfecto(elemento)==True,lista))\n",
        "perfect2\n"
      ],
      "metadata": {
        "colab": {
          "base_uri": "https://localhost:8080/"
        },
        "id": "fmaYHk46lroU",
        "outputId": "8f18edc5-b2fe-43de-c907-155742433ca5"
      },
      "execution_count": null,
      "outputs": [
        {
          "output_type": "stream",
          "name": "stdout",
          "text": [
            "no es numero perfecto\n",
            "no es numero perfecto\n",
            "es numero perfecto\n",
            "no es numero perfecto\n"
          ]
        },
        {
          "output_type": "execute_result",
          "data": {
            "text/plain": [
              "[False, False, True, False]"
            ]
          },
          "metadata": {},
          "execution_count": 3
        }
      ]
    },
    {
      "cell_type": "code",
      "source": [
        "##metodo clasico by juandivox\n",
        "numero1= [random.randint(0,2000) for x in range(100)]\n",
        "numero2= [random.randint(0,2000) for x in range(100)]\n",
        "comun=[]\n",
        "for a in numero1:\n",
        "  for b in numero2:\n",
        "    if a == b:\n",
        "      comun.append(a)\n",
        "print(comun)"
      ],
      "metadata": {
        "colab": {
          "base_uri": "https://localhost:8080/"
        },
        "id": "zk35BloTpWBs",
        "outputId": "617eb763-0868-4046-843b-c301558a71f0"
      },
      "execution_count": null,
      "outputs": [
        {
          "output_type": "stream",
          "name": "stdout",
          "text": [
            "[538, 624, 624, 949, 1666, 483]\n"
          ]
        }
      ]
    },
    {
      "cell_type": "code",
      "source": [
        "##lamdba y filter by juandivox\n",
        "import random\n",
        "numero1= [random.randint(0,2000) for x in range(100)]\n",
        "numero2= [random.randint(0,2000) for x in range(100)]\n",
        "comun=[]\n",
        "comun=list(filter(lambda num:num in numero1,numero2))\n",
        "print(comun)"
      ],
      "metadata": {
        "colab": {
          "base_uri": "https://localhost:8080/"
        },
        "id": "XrRthgYfniEg",
        "outputId": "adb0be88-4403-439e-ce5f-3d91e82bed1d"
      },
      "execution_count": null,
      "outputs": [
        {
          "output_type": "stream",
          "name": "stdout",
          "text": [
            "[1457, 1457]\n"
          ]
        }
      ]
    },
    {
      "cell_type": "code",
      "source": [
        "##metodo comprension by juandivox\n",
        "import random\n",
        "numero1= [random.randint(0,2000) for x in range(100)]\n",
        "numero2= [random.randint(0,2000) for x in range(100)]\n",
        "comun=[x for x in numero1 for y in numero2 if x==y]\n",
        "print(comun)"
      ],
      "metadata": {
        "colab": {
          "base_uri": "https://localhost:8080/"
        },
        "id": "y8HxA3tzmudK",
        "outputId": "0e8e5c8d-bb4f-44c4-b811-34f6a1155869"
      },
      "execution_count": null,
      "outputs": [
        {
          "output_type": "stream",
          "name": "stdout",
          "text": [
            "[153, 1230, 317, 1042]\n",
            "[153, 1230, 317, 1042, 153, 1230, 317, 1042]\n"
          ]
        }
      ]
    },
    {
      "cell_type": "code",
      "source": [
        "#lambda\n",
        "lambda_func = lambda x: x**2 \n",
        "lambda_func(3)"
      ],
      "metadata": {
        "id": "TVCUNlNMp1kH"
      },
      "execution_count": null,
      "outputs": []
    },
    {
      "cell_type": "code",
      "source": [
        "#tradicional\n",
        "def square1(num):\n",
        "  return num **2\n",
        "print(square1(5))"
      ],
      "metadata": {
        "id": "VCmsU-JRqD6A"
      },
      "execution_count": null,
      "outputs": []
    },
    {
      "cell_type": "code",
      "source": [
        "#comprensión\n",
        "L = [2,4,6,8]\n",
        "L2 = [n**2 for n in L]\n",
        "print(L2)"
      ],
      "metadata": {
        "colab": {
          "base_uri": "https://localhost:8080/"
        },
        "id": "1aVarTLmqTK2",
        "outputId": "c90c2e8f-84f0-40a0-f640-7584d01dec11"
      },
      "execution_count": null,
      "outputs": [
        {
          "output_type": "stream",
          "name": "stdout",
          "text": [
            "[4, 16, 36, 64]\n"
          ]
        }
      ]
    },
    {
      "cell_type": "code",
      "source": [
        "nom1 = [\"Samuelle\" ,\"Angie\" ,\"Valentina\" ,\"Alejandro\" ,\"Jonsito\"]\n",
        "nom2 = [\"Samuelle\" ,\"Andrea\" ,\"Sandra\" ,\"Anderson\" ,\"Jonsito\"]"
      ],
      "metadata": {
        "id": "NtwK7wHfvEMi"
      },
      "execution_count": null,
      "outputs": []
    },
    {
      "cell_type": "code",
      "source": [
        "#Comprensión\n",
        "common={a for a in nom1 for b in nom2 if a == b}\n",
        "common"
      ],
      "metadata": {
        "colab": {
          "base_uri": "https://localhost:8080/"
        },
        "id": "VRCvg0TsvLNx",
        "outputId": "be796fbb-d131-4937-d560-ee0a90166f0f"
      },
      "execution_count": null,
      "outputs": [
        {
          "output_type": "execute_result",
          "data": {
            "text/plain": [
              "{'Jonsito', 'Samuelle'}"
            ]
          },
          "metadata": {},
          "execution_count": 11
        }
      ]
    },
    {
      "cell_type": "code",
      "source": [
        "#Lambda\n",
        "common1=lambda nom1,nom2:common\n",
        "print(common1(nom1,nom2))"
      ],
      "metadata": {
        "colab": {
          "base_uri": "https://localhost:8080/"
        },
        "id": "TMJZJac6vOFp",
        "outputId": "80a91ef9-6dce-4d3d-8709-b7b73d3bd2d4"
      },
      "execution_count": null,
      "outputs": [
        {
          "output_type": "stream",
          "name": "stdout",
          "text": [
            "{'Jonsito', 'Samuelle'}\n"
          ]
        }
      ]
    },
    {
      "cell_type": "code",
      "source": [
        "#Tradicional\n",
        "def common(nom1,nom2):\n",
        "  return nom1,nom2"
      ],
      "metadata": {
        "id": "58PM9Ie8vRex"
      },
      "execution_count": null,
      "outputs": []
    },
    {
      "cell_type": "code",
      "source": [
        "nom1,nom2"
      ],
      "metadata": {
        "colab": {
          "base_uri": "https://localhost:8080/"
        },
        "id": "sBSVl-p9vUQJ",
        "outputId": "7b2f77d9-dd55-4159-c89c-22d5e7ed858c"
      },
      "execution_count": null,
      "outputs": [
        {
          "output_type": "execute_result",
          "data": {
            "text/plain": [
              "(['Samuelle', 'Angie', 'Valentina', 'Alejandro', 'Jonsito'],\n",
              " ['Samuelle', 'Andrea', 'Sandra', 'Anderson', 'Jonsito'])"
            ]
          },
          "metadata": {},
          "execution_count": 14
        }
      ]
    },
    {
      "cell_type": "code",
      "source": [
        "#Tradicional\n",
        "def listaIMC(usuarios):\n",
        "  sis = []\n",
        "  imc=[]\n",
        "  b=0\n",
        "  a2=0\n",
        "  for n in range (usuarios):\n",
        "    w=input(\"¿Cuál es tu nombre?  \")\n",
        "    b=int(input(\"Ingresa el peso  \"))\n",
        "    a2=int(input(\"Ingresa la altura  \"))\n",
        "    sis.append((w,b/a2**2))\n",
        "    imc.append(b/a2**2)\n",
        "  return sis,imc\n",
        "\n",
        "\n",
        "user=int(input(\"¿Cuántos usuarios hay? \"))\n",
        "\n",
        "sis,imc=listaIMC(user)\n"
      ],
      "metadata": {
        "colab": {
          "base_uri": "https://localhost:8080/"
        },
        "id": "1ifzhgBEvChi",
        "outputId": "7ee02f01-9325-4a9a-d09e-f2b3f6a68208"
      },
      "execution_count": null,
      "outputs": [
        {
          "name": "stdout",
          "output_type": "stream",
          "text": [
            "¿Cuántos usuarios hay? 2\n",
            "¿Cuál es tu nombre?  ju\n",
            "Ingresa el peso  89\n",
            "Ingresa la altura  170\n",
            "¿Cuál es tu nombre?  hu\n",
            "Ingresa el peso  67\n",
            "Ingresa la altura  190\n"
          ]
        }
      ]
    },
    {
      "cell_type": "code",
      "source": [
        "imc"
      ],
      "metadata": {
        "colab": {
          "base_uri": "https://localhost:8080/"
        },
        "id": "Ik0LcrPOvaEZ",
        "outputId": "e46c7e99-a32a-4a8a-d3ba-5e9211fd0816"
      },
      "execution_count": null,
      "outputs": [
        {
          "output_type": "execute_result",
          "data": {
            "text/plain": [
              "[0.003079584775086505, 0.0018559556786703602]"
            ]
          },
          "metadata": {},
          "execution_count": 17
        }
      ]
    },
    {
      "cell_type": "code",
      "source": [
        "#Comprensión\n",
        "sis=listaIMC(user)\n",
        "sis2=[n for n in imc if n>= 18.5]\n",
        "print(sis2)"
      ],
      "metadata": {
        "colab": {
          "base_uri": "https://localhost:8080/"
        },
        "id": "0JQDO4Lnvf05",
        "outputId": "941cf79a-4163-4e48-820b-c189bddac150"
      },
      "execution_count": null,
      "outputs": [
        {
          "output_type": "stream",
          "name": "stdout",
          "text": [
            "¿Cuál es tu nombre?  ju\n",
            "Ingresa el peso  89\n",
            "Ingresa la altura  150\n",
            "¿Cuál es tu nombre?  67\n",
            "Ingresa el peso  190\n",
            "Ingresa la altura  200\n",
            "[]\n"
          ]
        }
      ]
    },
    {
      "cell_type": "code",
      "source": [
        "sis"
      ],
      "metadata": {
        "colab": {
          "base_uri": "https://localhost:8080/"
        },
        "id": "ydAQaz-pvidr",
        "outputId": "531bfc01-b075-48d2-bb49-0faf9bddeea2"
      },
      "execution_count": null,
      "outputs": [
        {
          "output_type": "execute_result",
          "data": {
            "text/plain": [
              "([('ju', 0.003955555555555556), ('67', 0.00475)],\n",
              " [0.003955555555555556, 0.00475])"
            ]
          },
          "metadata": {},
          "execution_count": 19
        }
      ]
    },
    {
      "cell_type": "code",
      "source": [
        "#Lambda\n",
        "sis3=list(map(lambda x: \"peso insuficiente\" if x<18.5 else \"peso normal\" if (x>=18.5 and x<24.9) else \"sobrepeso\" if (x>=24.9 and x<30) else \"obesidad\",imc))\n",
        "sis3"
      ],
      "metadata": {
        "colab": {
          "base_uri": "https://localhost:8080/"
        },
        "id": "3dF4Jqycvkry",
        "outputId": "337025a7-d6bb-45c9-fb60-d68829290190"
      },
      "execution_count": null,
      "outputs": [
        {
          "output_type": "execute_result",
          "data": {
            "text/plain": [
              "['peso insuficiente', 'peso insuficiente']"
            ]
          },
          "metadata": {},
          "execution_count": 20
        }
      ]
    },
    {
      "cell_type": "markdown",
      "source": [
        "##Ejercicio Luis Miguel"
      ],
      "metadata": {
        "id": "_-cQ2cTjxCLZ"
      }
    },
    {
      "cell_type": "code",
      "source": [
        "#normal\n",
        "print(\"Ingrese su codigo \")\n",
        "caracter=input()\n",
        "if len(caracter)==8:\n",
        "  if caracter[0]=='u':\n",
        "    print(\"Eres estudiante Unab\")\n",
        "  elif(caracter.startswith('a000')):\n",
        "    print(\"Eres estudiante de los andes\")\n",
        "  else:\n",
        "    if(int(caracter)>=1950):\n",
        "      print(\"Eres estudiante UIS\")\n",
        "\n",
        "else:\n",
        "  print(\"su código no corresponde a ninguna universidad\")"
      ],
      "metadata": {
        "colab": {
          "base_uri": "https://localhost:8080/"
        },
        "id": "gZ18EzutxEGI",
        "outputId": "367bc4ea-0367-41ee-aaec-d8fbd3d6cd8d"
      },
      "execution_count": null,
      "outputs": [
        {
          "output_type": "stream",
          "name": "stdout",
          "text": [
            "Ingrese su codigo \n",
            "a0001548\n",
            "Eres estudiante de los andes\n"
          ]
        }
      ]
    },
    {
      "cell_type": "code",
      "source": [
        "#Por comprensión\n",
        "universidad=[\"unab\",\"uis\",\"andes\"]\n",
        "codigo=[\"u0123456\",\"198562\",\"a0005645\"]\n",
        "u=[cod for cod in codigo if (cod[0]=='u'and len(cod)==8)]\n",
        "print(u)"
      ],
      "metadata": {
        "colab": {
          "base_uri": "https://localhost:8080/"
        },
        "id": "PIGRX6tHx774",
        "outputId": "8f052531-94a0-4106-8645-72cbdb63cef5"
      },
      "execution_count": null,
      "outputs": [
        {
          "output_type": "stream",
          "name": "stdout",
          "text": [
            "['u0123456']\n"
          ]
        }
      ]
    },
    {
      "cell_type": "code",
      "source": [
        "y=list(map(lambda x:\"unab\" if (x[0]==\"U\" or x[0]==\"u\") else None, codigo))"
      ],
      "metadata": {
        "id": "gt9VfAOIykrG"
      },
      "execution_count": null,
      "outputs": []
    },
    {
      "cell_type": "markdown",
      "source": [
        "##Ejercicio Cristhian Caballero"
      ],
      "metadata": {
        "id": "NP1cDvQH0QBW"
      }
    },
    {
      "cell_type": "code",
      "source": [
        "#normal\n",
        "lista=[]\n",
        "x = 0\n",
        "while x==0:\n",
        "  entrada = input(\"Ingresa un codigo\")\n",
        "  lista.append(entrada)\n",
        "  a = int(input(\"¿Deseas ingresar otro?, ingresa 0 si lo deseas, sino ingresa 1\"))\n",
        "  if (a==1):\n",
        "    x=x+1\n",
        "\n",
        "clasificacion = [a for a in lista if a.startswith('U00') and len(a)==9]\n",
        "print(f'Hay {len(clasificacion)} estudiante(s) de la Unab y sus codigo(s) son {clasificacion}')\n",
        "\n",
        "clasificacion = [a for a in lista if a.startswith('A000') and len(a)==9]\n",
        "print(f'Hay {len(clasificacion)} estudiante(s) de los Andes y sus codigo(s) son {clasificacion}')"
      ],
      "metadata": {
        "colab": {
          "base_uri": "https://localhost:8080/"
        },
        "id": "_wPgC8YR0SUO",
        "outputId": "d39a33d6-1134-4e01-f2ec-b5836648f35e"
      },
      "execution_count": null,
      "outputs": [
        {
          "output_type": "stream",
          "name": "stdout",
          "text": [
            "Ingresa un codigoU00158478\n",
            "¿Deseas ingresar otro?, ingresa 0 si lo deseas, sino ingresa 11\n",
            "Hay 1 estudiante(s) de la Unab y sus codigo(s) son ['U00158478']\n",
            "Hay 0 estudiante(s) de los Andes y sus codigo(s) son []\n"
          ]
        }
      ]
    },
    {
      "cell_type": "code",
      "source": [
        "#con def\n",
        "def funcion(lista, numDigitos, Universidad, clasCodigo):\n",
        "  clasificacion = [a for a in lista if a.startswith(clasCodigo) and len(a)==numDigitos]\n",
        "  print(f'Hay {len(clasificacion)} estudiante(s) de {Universidad} y sus codigo(s) son {clasificacion}')\n",
        "\n",
        "x=0\n",
        "while x==0:\n",
        "  entrada = input(\"Ingresa un codigo\")\n",
        "  lista.append(entrada)\n",
        "  a = int(input(\"¿Deseas ingresar otro?, ingresa 0 si lo deseas, sino ingresa 1\"))\n",
        "  if (a==1):\n",
        "    x=x+1\n",
        "\n",
        "funcion(lista, 9, 'la Unab', 'U00')\n",
        "funcion(lista, 9, 'los Andes', 'A000')"
      ],
      "metadata": {
        "colab": {
          "base_uri": "https://localhost:8080/"
        },
        "id": "_tfBft2K19De",
        "outputId": "13f1ab5c-6453-483f-bb9a-78ca324d6263"
      },
      "execution_count": null,
      "outputs": [
        {
          "output_type": "stream",
          "name": "stdout",
          "text": [
            "Ingresa un codigoU00158478\n",
            "¿Deseas ingresar otro?, ingresa 0 si lo deseas, sino ingresa 11\n",
            "Hay 2 estudiante(s) de la Unab y sus codigo(s) son ['U00158478', 'U00158478']\n",
            "Hay 0 estudiante(s) de los Andes y sus codigo(s) son []\n"
          ]
        }
      ]
    },
    {
      "cell_type": "code",
      "source": [
        "#con lambda\n",
        "x=0\n",
        "lista=[]\n",
        "while x==0:\n",
        "  entrada = input(\"Ingresa un codigo\")\n",
        "  lista.append(entrada)\n",
        "  a = int(input(\"¿Deseas ingresar otro?, ingresa 0 si lo deseas, sino ingresa 1\"))\n",
        "  if (a==1):\n",
        "    x=x+1\n",
        "\n",
        "clasificacion = list(map(lambda a:'UNAB' if a.startswith('U00') else 'Los Andes' if a.startswith('A00') else None, lista))\n",
        "clasificacion"
      ],
      "metadata": {
        "colab": {
          "base_uri": "https://localhost:8080/"
        },
        "id": "u0YiUVHA2mdN",
        "outputId": "ef3f75c2-718c-4170-9e6c-fdf8038efb19"
      },
      "execution_count": null,
      "outputs": [
        {
          "name": "stdout",
          "output_type": "stream",
          "text": [
            "Ingresa un codigoU00158478\n",
            "¿Deseas ingresar otro?, ingresa 0 si lo deseas, sino ingresa 11\n"
          ]
        },
        {
          "output_type": "execute_result",
          "data": {
            "text/plain": [
              "['UNAB']"
            ]
          },
          "metadata": {},
          "execution_count": 40
        }
      ]
    },
    {
      "cell_type": "code",
      "source": [
        "#Armith\n",
        "#Tradicional\n",
        "num=[1,2,3,4,5,6,7,8,9,10]\n",
        "exp=int(input(\"Escriba su exponenete: \"))\n",
        "x=len(num)\n",
        "for n in range(1,(x)):\n",
        "  num[n]=num[n]**exp\n",
        "print(num)\n",
        "def imprimir(num):\n",
        "  s=1\n",
        "  for i in num:\n",
        "    print(f\"\\nEl resultado del elemento {s} de la lista es {i}\")\n",
        "    s+=1\n",
        "\n",
        "imprimir(num)"
      ],
      "metadata": {
        "id": "jRWB2T2i4d6t"
      },
      "execution_count": null,
      "outputs": []
    },
    {
      "cell_type": "code",
      "source": [
        "#Por comprension\n",
        "num=[1,2,3,4,5,6,7,8,9,10]\n",
        "exp=int(input(\"Escriba su exponenete: \"))\n",
        "numeros=[n**exp for n in num]\n",
        "numeros\n",
        "imprimir(numeros)"
      ],
      "metadata": {
        "id": "XHU1XiGd4xuU"
      },
      "execution_count": null,
      "outputs": []
    },
    {
      "cell_type": "code",
      "source": [
        "#Lambda\n",
        "num=list(range(1,11))\n",
        "exp=int(input(\"Escriba su exponenete: \"))\n",
        "numeros=lambda num,exp:(n**exp for n in num)\n",
        "numero1=numeros(num,exp)\n",
        "imprimir(list(numero1))"
      ],
      "metadata": {
        "id": "yT6TrpoI401c"
      },
      "execution_count": null,
      "outputs": []
    }
  ]
}