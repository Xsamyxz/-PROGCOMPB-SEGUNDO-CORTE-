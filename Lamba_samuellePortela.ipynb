{
  "nbformat": 4,
  "nbformat_minor": 0,
  "metadata": {
    "colab": {
      "provenance": []
    },
    "kernelspec": {
      "name": "python3",
      "display_name": "Python 3"
    },
    "language_info": {
      "name": "python"
    }
  },
  "cells": [
    {
      "cell_type": "markdown",
      "source": [
        "#FUNCIONES LAMBDA O FUNCIONES ANÓNIMAS\n",
        "\n",
        "\n",
        "* fÁCIL ACCESO, SON rápidas\n",
        "* Portque no necesita la palabra clave def\n",
        "*  **se pueden emplear n parámetros pero sólo una función\n",
        "\n",
        "listas por compresión lista_nueva=[ Función for parametro lista_angitua(condición)*<-opcional]\n",
        "\n",
        "una variable=lambda (n parametros: función)"
      ],
      "metadata": {
        "id": "9EdJwU00F2H9"
      }
    },
    {
      "cell_type": "code",
      "execution_count": 1,
      "metadata": {
        "id": "4HvZ_LVpFz2z"
      },
      "outputs": [],
      "source": [
        "#Tradicional\n",
        "\n",
        "def cuadrado(num):\n",
        "  return num**2"
      ]
    },
    {
      "cell_type": "code",
      "source": [
        "cuadrado(2)"
      ],
      "metadata": {
        "colab": {
          "base_uri": "https://localhost:8080/"
        },
        "id": "8mbSi2kiGw5F",
        "outputId": "e40d335f-c5c3-4e58-e31b-2a8fd2861235"
      },
      "execution_count": 2,
      "outputs": [
        {
          "output_type": "execute_result",
          "data": {
            "text/plain": [
              "4"
            ]
          },
          "metadata": {},
          "execution_count": 2
        }
      ]
    },
    {
      "cell_type": "code",
      "source": [
        "#tradicional\n",
        "def cuadrado(num,elevado):\n",
        "  return num**elevado"
      ],
      "metadata": {
        "id": "d83fNLUSG1IM"
      },
      "execution_count": 3,
      "outputs": []
    },
    {
      "cell_type": "code",
      "source": [
        "#por lambda \n",
        "cuadrado1=lambda num:num**2\n",
        "print(cuadrado1(2))"
      ],
      "metadata": {
        "colab": {
          "base_uri": "https://localhost:8080/"
        },
        "id": "HMrxwu2wG8Tz",
        "outputId": "9f491df0-483e-47cd-91e7-f5ac70c4ca20"
      },
      "execution_count": 5,
      "outputs": [
        {
          "output_type": "stream",
          "name": "stdout",
          "text": [
            "4\n"
          ]
        }
      ]
    },
    {
      "cell_type": "code",
      "source": [
        "#por lambda \n",
        "cuadrado2=lambda num, elevado:num**elevado\n",
        "print(cuadrado(2,5))"
      ],
      "metadata": {
        "colab": {
          "base_uri": "https://localhost:8080/"
        },
        "id": "47NvC-lyHHvL",
        "outputId": "49fab258-37cd-4f21-a7de-23a64cc9be3d"
      },
      "execution_count": 6,
      "outputs": [
        {
          "output_type": "stream",
          "name": "stdout",
          "text": [
            "32\n"
          ]
        }
      ]
    },
    {
      "cell_type": "code",
      "source": [
        "#Imprimir si un número elevado al cuadrado es mayore que 10\n",
        "#Tradicional\n",
        "\n",
        "def mayor(num):\n",
        "  if num**2>10:\n",
        "    return True\n",
        "  else: \n",
        "    return False\n",
        "    "
      ],
      "metadata": {
        "id": "FH0anECpHcBY"
      },
      "execution_count": 7,
      "outputs": []
    },
    {
      "cell_type": "code",
      "source": [
        "mayor(3)"
      ],
      "metadata": {
        "colab": {
          "base_uri": "https://localhost:8080/"
        },
        "id": "RhtIlEEhH83V",
        "outputId": "b0771699-c31b-4df6-e793-3a8f4176dc8a"
      },
      "execution_count": 8,
      "outputs": [
        {
          "output_type": "execute_result",
          "data": {
            "text/plain": [
              "False"
            ]
          },
          "metadata": {},
          "execution_count": 8
        }
      ]
    },
    {
      "cell_type": "code",
      "source": [
        "mayor1=lambda num:True if num**2>10 else False\n",
        "mayor1(4)"
      ],
      "metadata": {
        "colab": {
          "base_uri": "https://localhost:8080/"
        },
        "id": "39s9F5K7H-9m",
        "outputId": "a4093214-5ff1-4cfa-96c0-9a8bc9114af8"
      },
      "execution_count": 9,
      "outputs": [
        {
          "output_type": "execute_result",
          "data": {
            "text/plain": [
              "True"
            ]
          },
          "metadata": {},
          "execution_count": 9
        }
      ]
    },
    {
      "cell_type": "code",
      "source": [
        "mi_lista=[n for n in range(1,11)]\n",
        "mi_lista\n",
        "impares=[n for n in mi_lista if n%2!=0]\n",
        "impares "
      ],
      "metadata": {
        "colab": {
          "base_uri": "https://localhost:8080/"
        },
        "id": "nsh-M872IOvj",
        "outputId": "99aa715f-bb7c-4797-8a92-9e3d7916056c"
      },
      "execution_count": 11,
      "outputs": [
        {
          "output_type": "execute_result",
          "data": {
            "text/plain": [
              "[1, 3, 5, 7, 9]"
            ]
          },
          "metadata": {},
          "execution_count": 11
        }
      ]
    },
    {
      "cell_type": "code",
      "source": [
        "impares2=[lambda num: n%2!=0]\n",
        "impares2(5)"
      ],
      "metadata": {
        "colab": {
          "base_uri": "https://localhost:8080/",
          "height": 183
        },
        "id": "GVnwC3SqJA5T",
        "outputId": "949280e4-0b03-4a82-bfee-4df3f980e0d8"
      },
      "execution_count": 14,
      "outputs": [
        {
          "output_type": "error",
          "ename": "TypeError",
          "evalue": "ignored",
          "traceback": [
            "\u001b[0;31m---------------------------------------------------------------------------\u001b[0m",
            "\u001b[0;31mTypeError\u001b[0m                                 Traceback (most recent call last)",
            "\u001b[0;32m<ipython-input-14-0ee2a2cff9f9>\u001b[0m in \u001b[0;36m<module>\u001b[0;34m\u001b[0m\n\u001b[1;32m      1\u001b[0m \u001b[0mimpares2\u001b[0m\u001b[0;34m=\u001b[0m\u001b[0;34m[\u001b[0m\u001b[0;32mlambda\u001b[0m \u001b[0mnum\u001b[0m\u001b[0;34m:\u001b[0m \u001b[0mn\u001b[0m\u001b[0;34m%\u001b[0m\u001b[0;36m2\u001b[0m\u001b[0;34m!=\u001b[0m\u001b[0;36m0\u001b[0m\u001b[0;34m]\u001b[0m\u001b[0;34m\u001b[0m\u001b[0;34m\u001b[0m\u001b[0m\n\u001b[0;32m----> 2\u001b[0;31m \u001b[0mimpares2\u001b[0m\u001b[0;34m(\u001b[0m\u001b[0;36m5\u001b[0m\u001b[0;34m)\u001b[0m\u001b[0;34m\u001b[0m\u001b[0;34m\u001b[0m\u001b[0m\n\u001b[0m",
            "\u001b[0;31mTypeError\u001b[0m: 'list' object is not callable"
          ]
        }
      ]
    },
    {
      "cell_type": "markdown",
      "source": [
        "##FUNCIONES MAYORES\n",
        "### 1. MAP\n",
        "\n",
        "Una función cuyo objetivo es iteral a cada elemento de la lista\n",
        "\n",
        "Declara map \n",
        "\n",
        "map(función,lista)"
      ],
      "metadata": {
        "id": "pTbqeTRoJZ9a"
      }
    },
    {
      "cell_type": "code",
      "source": [
        "enteros=[1,2,4,7]\n",
        "\n",
        "def cuadra(lista):\n",
        "  for i in lista:\n",
        "    print(i**2)\n",
        "\n",
        "\n",
        "a=cuadra(enteros)\n",
        "a"
      ],
      "metadata": {
        "colab": {
          "base_uri": "https://localhost:8080/"
        },
        "id": "EDD-ugZ4JOrq",
        "outputId": "4443a255-be14-4bcd-82f9-097bce1ae9a4"
      },
      "execution_count": 35,
      "outputs": [
        {
          "output_type": "stream",
          "name": "stdout",
          "text": [
            "1\n",
            "4\n",
            "16\n",
            "49\n"
          ]
        }
      ]
    },
    {
      "cell_type": "code",
      "source": [
        "def cuadra2(lista):\n",
        "  lista2=[]\n",
        "  for i in lista:  #indexación, valor\n",
        "    lista[i]=i**2\n",
        "    #lista2.append(i**2)\n",
        "  return lista\n",
        "\n",
        "cuadra2(enteros)"
      ],
      "metadata": {
        "colab": {
          "base_uri": "https://localhost:8080/",
          "height": 321
        },
        "id": "HsjDCEHfKmyn",
        "outputId": "ef38cdc6-356c-481b-d55d-b8aaa327a4d1"
      },
      "execution_count": 36,
      "outputs": [
        {
          "output_type": "error",
          "ename": "IndexError",
          "evalue": "ignored",
          "traceback": [
            "\u001b[0;31m---------------------------------------------------------------------------\u001b[0m",
            "\u001b[0;31mIndexError\u001b[0m                                Traceback (most recent call last)",
            "\u001b[0;32m<ipython-input-36-4d2cb4d9c613>\u001b[0m in \u001b[0;36m<module>\u001b[0;34m\u001b[0m\n\u001b[1;32m      6\u001b[0m   \u001b[0;32mreturn\u001b[0m \u001b[0mlista\u001b[0m\u001b[0;34m\u001b[0m\u001b[0;34m\u001b[0m\u001b[0m\n\u001b[1;32m      7\u001b[0m \u001b[0;34m\u001b[0m\u001b[0m\n\u001b[0;32m----> 8\u001b[0;31m \u001b[0mcuadra2\u001b[0m\u001b[0;34m(\u001b[0m\u001b[0menteros\u001b[0m\u001b[0;34m)\u001b[0m\u001b[0;34m\u001b[0m\u001b[0;34m\u001b[0m\u001b[0m\n\u001b[0m",
            "\u001b[0;32m<ipython-input-36-4d2cb4d9c613>\u001b[0m in \u001b[0;36mcuadra2\u001b[0;34m(lista)\u001b[0m\n\u001b[1;32m      2\u001b[0m   \u001b[0mlista2\u001b[0m\u001b[0;34m=\u001b[0m\u001b[0;34m[\u001b[0m\u001b[0;34m]\u001b[0m\u001b[0;34m\u001b[0m\u001b[0;34m\u001b[0m\u001b[0m\n\u001b[1;32m      3\u001b[0m   \u001b[0;32mfor\u001b[0m \u001b[0mi\u001b[0m \u001b[0;32min\u001b[0m \u001b[0mlista\u001b[0m\u001b[0;34m:\u001b[0m  \u001b[0;31m#indexación, valor\u001b[0m\u001b[0;34m\u001b[0m\u001b[0;34m\u001b[0m\u001b[0m\n\u001b[0;32m----> 4\u001b[0;31m     \u001b[0mlista\u001b[0m\u001b[0;34m[\u001b[0m\u001b[0mi\u001b[0m\u001b[0;34m]\u001b[0m\u001b[0;34m=\u001b[0m\u001b[0mi\u001b[0m\u001b[0;34m**\u001b[0m\u001b[0;36m2\u001b[0m\u001b[0;34m\u001b[0m\u001b[0;34m\u001b[0m\u001b[0m\n\u001b[0m\u001b[1;32m      5\u001b[0m     \u001b[0;31m#lista2.append(i**2)\u001b[0m\u001b[0;34m\u001b[0m\u001b[0;34m\u001b[0m\u001b[0;34m\u001b[0m\u001b[0m\n\u001b[1;32m      6\u001b[0m   \u001b[0;32mreturn\u001b[0m \u001b[0mlista\u001b[0m\u001b[0;34m\u001b[0m\u001b[0;34m\u001b[0m\u001b[0m\n",
            "\u001b[0;31mIndexError\u001b[0m: list assignment index out of range"
          ]
        }
      ]
    },
    {
      "cell_type": "code",
      "source": [
        "enteros=[1,2,4,7]"
      ],
      "metadata": {
        "id": "v6ozJ-wiPIwu"
      },
      "execution_count": 1,
      "outputs": []
    },
    {
      "cell_type": "code",
      "source": [
        "def cuadra2(lista):\n",
        "  lista2=[]\n",
        "  for i in lista:  #indexación, valor\n",
        "    lista2.append(i**2)\n",
        "    #lista2.append(i**2)\n",
        "  return lista2\n",
        "\n",
        "lista2=cuadra2(enteros)\n",
        "lista2"
      ],
      "metadata": {
        "colab": {
          "base_uri": "https://localhost:8080/"
        },
        "id": "Glufg_AAMk87",
        "outputId": "185fd46d-3c92-483b-b473-432d620a1cbf"
      },
      "execution_count": 2,
      "outputs": [
        {
          "output_type": "execute_result",
          "data": {
            "text/plain": [
              "[1, 4, 16, 49]"
            ]
          },
          "metadata": {},
          "execution_count": 2
        }
      ]
    },
    {
      "cell_type": "code",
      "source": [
        "def cuadra2(lista):\n",
        "  lista2=[]\n",
        "  for i in range(len(lista)):  #indexación, valor\n",
        "    lista[i]=listai**2\n",
        "    #lista2.append(i**2)\n",
        "  return lista\n",
        "\n",
        "cuadra2(enteros)"
      ],
      "metadata": {
        "colab": {
          "base_uri": "https://localhost:8080/",
          "height": 321
        },
        "id": "JynuvKrhNbEi",
        "outputId": "40995dd2-d50f-42dd-ac77-2f64ca234e7f"
      },
      "execution_count": 3,
      "outputs": [
        {
          "output_type": "error",
          "ename": "NameError",
          "evalue": "ignored",
          "traceback": [
            "\u001b[0;31m---------------------------------------------------------------------------\u001b[0m",
            "\u001b[0;31mNameError\u001b[0m                                 Traceback (most recent call last)",
            "\u001b[0;32m<ipython-input-3-7b57c9c39db6>\u001b[0m in \u001b[0;36m<module>\u001b[0;34m\u001b[0m\n\u001b[1;32m      6\u001b[0m   \u001b[0;32mreturn\u001b[0m \u001b[0mlista\u001b[0m\u001b[0;34m\u001b[0m\u001b[0;34m\u001b[0m\u001b[0m\n\u001b[1;32m      7\u001b[0m \u001b[0;34m\u001b[0m\u001b[0m\n\u001b[0;32m----> 8\u001b[0;31m \u001b[0mcuadra2\u001b[0m\u001b[0;34m(\u001b[0m\u001b[0menteros\u001b[0m\u001b[0;34m)\u001b[0m\u001b[0;34m\u001b[0m\u001b[0;34m\u001b[0m\u001b[0m\n\u001b[0m",
            "\u001b[0;32m<ipython-input-3-7b57c9c39db6>\u001b[0m in \u001b[0;36mcuadra2\u001b[0;34m(lista)\u001b[0m\n\u001b[1;32m      2\u001b[0m   \u001b[0mlista2\u001b[0m\u001b[0;34m=\u001b[0m\u001b[0;34m[\u001b[0m\u001b[0;34m]\u001b[0m\u001b[0;34m\u001b[0m\u001b[0;34m\u001b[0m\u001b[0m\n\u001b[1;32m      3\u001b[0m   \u001b[0;32mfor\u001b[0m \u001b[0mi\u001b[0m \u001b[0;32min\u001b[0m \u001b[0mrange\u001b[0m\u001b[0;34m(\u001b[0m\u001b[0mlen\u001b[0m\u001b[0;34m(\u001b[0m\u001b[0mlista\u001b[0m\u001b[0;34m)\u001b[0m\u001b[0;34m)\u001b[0m\u001b[0;34m:\u001b[0m  \u001b[0;31m#indexación, valor\u001b[0m\u001b[0;34m\u001b[0m\u001b[0;34m\u001b[0m\u001b[0m\n\u001b[0;32m----> 4\u001b[0;31m     \u001b[0mlista\u001b[0m\u001b[0;34m[\u001b[0m\u001b[0mi\u001b[0m\u001b[0;34m]\u001b[0m\u001b[0;34m=\u001b[0m\u001b[0mlistai\u001b[0m\u001b[0;34m**\u001b[0m\u001b[0;36m2\u001b[0m\u001b[0;34m\u001b[0m\u001b[0;34m\u001b[0m\u001b[0m\n\u001b[0m\u001b[1;32m      5\u001b[0m     \u001b[0;31m#lista2.append(i**2)\u001b[0m\u001b[0;34m\u001b[0m\u001b[0;34m\u001b[0m\u001b[0;34m\u001b[0m\u001b[0m\n\u001b[1;32m      6\u001b[0m   \u001b[0;32mreturn\u001b[0m \u001b[0mlista\u001b[0m\u001b[0;34m\u001b[0m\u001b[0;34m\u001b[0m\u001b[0m\n",
            "\u001b[0;31mNameError\u001b[0m: name 'listai' is not defined"
          ]
        }
      ]
    },
    {
      "cell_type": "code",
      "source": [
        "#comprensión\n",
        "lista3=[n**2 for n in enteros]\n",
        "lista3"
      ],
      "metadata": {
        "colab": {
          "base_uri": "https://localhost:8080/"
        },
        "id": "8w2twcjdN3EQ",
        "outputId": "835d6279-8263-4825-e6b3-282c7c6b0f5c"
      },
      "execution_count": 4,
      "outputs": [
        {
          "output_type": "execute_result",
          "data": {
            "text/plain": [
              "[1, 4, 16, 49]"
            ]
          },
          "metadata": {},
          "execution_count": 4
        }
      ]
    },
    {
      "cell_type": "code",
      "source": [
        "#lambda y map\n",
        "\n",
        "lista4=list(map(lambda no:no**2,enteros))\n",
        "print(lista4)"
      ],
      "metadata": {
        "colab": {
          "base_uri": "https://localhost:8080/"
        },
        "id": "895Db1NjOIFl",
        "outputId": "d7f74a55-7bce-4d7c-beb4-8229eb44369c"
      },
      "execution_count": 5,
      "outputs": [
        {
          "output_type": "stream",
          "name": "stdout",
          "text": [
            "[1, 4, 16, 49]\n"
          ]
        }
      ]
    },
    {
      "cell_type": "code",
      "source": [
        "tienda={\"A\":4500,\"B\":7000,\"C\":12000}\n",
        "compra=[\"A\",\"B\",\"Z\"]"
      ],
      "metadata": {
        "id": "IjrVSYTCPPgN"
      },
      "execution_count": 7,
      "outputs": []
    },
    {
      "cell_type": "code",
      "source": [
        "#POR COMPRENSIÓN\n",
        "\n",
        "tiquede={producto:tienda.get(producto) for producto in compra}\n",
        "tiquede"
      ],
      "metadata": {
        "colab": {
          "base_uri": "https://localhost:8080/"
        },
        "id": "dwumA9ePPvlV",
        "outputId": "e0e133b5-a371-4a8e-883f-887540e0fee3"
      },
      "execution_count": 8,
      "outputs": [
        {
          "output_type": "execute_result",
          "data": {
            "text/plain": [
              "{'A': 4500, 'B': 7000, 'Z': None}"
            ]
          },
          "metadata": {},
          "execution_count": 8
        }
      ]
    },
    {
      "cell_type": "code",
      "source": [
        "#lambda y map\n",
        "\n",
        "factura2=dict(map(lambda producto:(producto,tienda[producto]) if producto in tienda else (producto,None),compra ))\n",
        "factura2"
      ],
      "metadata": {
        "colab": {
          "base_uri": "https://localhost:8080/"
        },
        "id": "TLGzK4N_QWil",
        "outputId": "26ad6dfb-f9a4-4821-9534-60f8a80f6b27"
      },
      "execution_count": 11,
      "outputs": [
        {
          "output_type": "execute_result",
          "data": {
            "text/plain": [
              "{'A': 4500, 'B': 7000, 'Z': None}"
            ]
          },
          "metadata": {},
          "execution_count": 11
        }
      ]
    },
    {
      "cell_type": "markdown",
      "source": [
        "##2. FILTER\n",
        "\n",
        "Función de orden superior que sive para filtrar o clasificar\n",
        "\n",
        "se define: filter(función,lista)\n"
      ],
      "metadata": {
        "id": "hVa1eBbISF06"
      }
    },
    {
      "cell_type": "code",
      "source": [
        "valores=[n for n in range(1,10)]"
      ],
      "metadata": {
        "id": "-tV56pIjSFdT"
      },
      "execution_count": 12,
      "outputs": []
    },
    {
      "cell_type": "code",
      "source": [
        "def pares(num):    #num es lista local\n",
        "  pares=[]\n",
        "  for i in num:\n",
        "    if i%2==0: pares.append(i)\n",
        "  return pares\n",
        "pares(valores) # valores es lista global"
      ],
      "metadata": {
        "colab": {
          "base_uri": "https://localhost:8080/"
        },
        "id": "FxaGRuUvSfwg",
        "outputId": "4139c7aa-56e8-45ac-b198-14e963dfff94"
      },
      "execution_count": 13,
      "outputs": [
        {
          "output_type": "execute_result",
          "data": {
            "text/plain": [
              "[2, 4, 6, 8]"
            ]
          },
          "metadata": {},
          "execution_count": 13
        }
      ]
    },
    {
      "cell_type": "code",
      "source": [
        "#por comprensión\n",
        "\n",
        "pares2=[n for n in valores if n%2==0]\n",
        "pares2"
      ],
      "metadata": {
        "colab": {
          "base_uri": "https://localhost:8080/"
        },
        "id": "4DyMGddtTQnR",
        "outputId": "8eb2b7ab-68d6-4227-88fe-56f905e0edfa"
      },
      "execution_count": 14,
      "outputs": [
        {
          "output_type": "execute_result",
          "data": {
            "text/plain": [
              "[2, 4, 6, 8]"
            ]
          },
          "metadata": {},
          "execution_count": 14
        }
      ]
    },
    {
      "cell_type": "code",
      "source": [
        "#filter\n",
        "\n",
        "valor3=list(filter(lambda num:num%2==0, valores))\n",
        "valor3"
      ],
      "metadata": {
        "colab": {
          "base_uri": "https://localhost:8080/"
        },
        "id": "cv9edvViTfRX",
        "outputId": "6f2eff20-17d4-4fd4-8189-97e2341a750c"
      },
      "execution_count": 17,
      "outputs": [
        {
          "output_type": "execute_result",
          "data": {
            "text/plain": [
              "[2, 4, 6, 8]"
            ]
          },
          "metadata": {},
          "execution_count": 17
        }
      ]
    },
    {
      "cell_type": "markdown",
      "source": [
        "##3. REDUCE\n",
        "\n",
        "suma los elementos de una lista\n",
        "\n",
        "* Se debe llamar el módulo functools form functools import reduce\n",
        "\n",
        "* reduce(función,lista)"
      ],
      "metadata": {
        "id": "uQxzOMsYUMX3"
      }
    },
    {
      "cell_type": "code",
      "source": [
        "#TRADICIONAL\n",
        "\n",
        "def suma(lista):\n",
        "  suma=0\n",
        "  for i in lista:\n",
        "    suma=suma+i\n",
        "  return suma"
      ],
      "metadata": {
        "id": "fak8-PNAU-K_"
      },
      "execution_count": 24,
      "outputs": []
    },
    {
      "cell_type": "code",
      "source": [
        "suma(valores)"
      ],
      "metadata": {
        "colab": {
          "base_uri": "https://localhost:8080/"
        },
        "id": "cUwgovSSVlJe",
        "outputId": "297e95b8-0a72-4e16-ff56-1412835f3b6c"
      },
      "execution_count": 25,
      "outputs": [
        {
          "output_type": "execute_result",
          "data": {
            "text/plain": [
              "45"
            ]
          },
          "metadata": {},
          "execution_count": 25
        }
      ]
    },
    {
      "cell_type": "code",
      "source": [
        "\n",
        "#lambda \n",
        "\n",
        "from functools import reduce\n",
        "\n",
        "suma1=reduce(lambda mas,mas1:mas+mas1,valores)\n",
        "suma1"
      ],
      "metadata": {
        "colab": {
          "base_uri": "https://localhost:8080/"
        },
        "id": "sk3-zmszVnWz",
        "outputId": "6fbc8733-7eea-47eb-bc78-24f015344676"
      },
      "execution_count": 26,
      "outputs": [
        {
          "output_type": "execute_result",
          "data": {
            "text/plain": [
              "45"
            ]
          },
          "metadata": {},
          "execution_count": 26
        }
      ]
    },
    {
      "cell_type": "code",
      "source": [],
      "metadata": {
        "id": "ZlA3NcE-WO0l"
      },
      "execution_count": null,
      "outputs": []
    }
  ]
}