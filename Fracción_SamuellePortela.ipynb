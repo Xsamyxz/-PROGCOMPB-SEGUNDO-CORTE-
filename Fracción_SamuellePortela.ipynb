{
  "nbformat": 4,
  "nbformat_minor": 0,
  "metadata": {
    "colab": {
      "provenance": []
    },
    "kernelspec": {
      "name": "python3",
      "display_name": "Python 3"
    },
    "language_info": {
      "name": "python"
    }
  },
  "cells": [
    {
      "cell_type": "code",
      "execution_count": null,
      "metadata": {
        "id": "MDvBG6u6iMs5"
      },
      "outputs": [],
      "source": [
        "#Suma by samuelle\n",
        "\n",
        "class Fraccion: #clase Fracción\n",
        "  \n",
        "  #constructor\n",
        "\n",
        "\n",
        "  def __init__(self,num,den,pot):\n",
        "    self.num=num\n",
        "    self.den=den\n",
        "    self.pot=pot  \n",
        "  def potencia(self):\n",
        "   if self.den==0 or b.den==0:\n",
        "      print(\"No se puede dividir entre 0\") \n",
        "   else:\n",
        "    if self.pot==0:\n",
        "      num=1\n",
        "      den=1\n",
        "    elif self.pot<0:\n",
        "      self.num, self.den = self.den , self.num\n",
        "      self.pot=self.pot*-1\n",
        "      num=self.num**self.pot\n",
        "      den=self.den**self.pot\n",
        "    else:\n",
        "     num=self.num**self.pot\n",
        "     den=self.den**self.pot\n",
        "     pot=self.pot\n",
        "    c=Fraccion(num,den,pot)\n",
        "    print(f'{c.num} / {c.den}')\n",
        "    return c\n",
        "  def suma(self,s):\n",
        "    if self.den==0 or s.den==0:\n",
        "      print(\"No se puede dividir entre 0\") \n",
        "    else:\n",
        "      if self.den!=s.den:\n",
        "        num=(self.num*s.den)+(self.den*s.num)  \n",
        "        den=self.den*s.den\n",
        "      else:\n",
        "         num=(self.num*s.den)+(self.den*s.num)\n",
        "         den=self.den\n",
        "      f=Fraccion(num,den,1)\n",
        "      print(f'{f.num} / {f.den}')\n",
        "      return f    \n",
        "\n",
        "\n",
        "  def resta(self,s):\n",
        "    if self.den==0 or s.den==0:\n",
        "      print(\"No se puede dividir entre 0\") \n",
        "    else:\n",
        "     if self.den==0 or s.den==0:\n",
        "       print(\"No se puede dividir entre 0\") \n",
        "     else:\n",
        "       if self.den!=s.den:\n",
        "        num=(self.num*s.den)-(self.den*s.num)  \n",
        "        den=self.den*s.den\n",
        "       else:\n",
        "         num=(self.num*s.den)-(self.den*s.num)\n",
        "         den=self.den\n",
        "    f=Fraccion(num,den,1)\n",
        "    print(f'{f.num} / {f.den}')\n",
        "    return f\n",
        "  def producto(self,s):\n",
        "    if self.den==0 or s.den==0:\n",
        "      print(\"No se puede dividir entre 0\") \n",
        "    else:\n",
        "     num=self.num*s.num\n",
        "     den=self.den*s.den\n",
        "     fr=Fraccion(num,den,1)\n",
        "    return f\"{fr.num}/{fr.den}\"\n",
        "\n",
        "  def imprimir(self):\n",
        "    print(f'{self.num} / {self.den}')\n",
        "\n",
        "  def div(self,c):\n",
        "    if self.den==0 or s.den==0:\n",
        "      print(\"No se puede dividir entre 0\")\n",
        "    else:\n",
        "     num=self.num*c.den\n",
        "     den=self.den*c.num \n",
        "     frac=Fraccion(num,den,1)\n",
        "    return f'{frac.num}/{frac.den}' \n",
        "\n",
        "\n",
        "\n",
        "\n",
        "\n"
      ]
    },
    {
      "cell_type": "code",
      "source": [
        "s=Fraccion(3,5,8)\n"
      ],
      "metadata": {
        "id": "0P86UEkglIp5"
      },
      "execution_count": null,
      "outputs": []
    },
    {
      "cell_type": "code",
      "source": [
        "s.__dict__"
      ],
      "metadata": {
        "colab": {
          "base_uri": "https://localhost:8080/"
        },
        "id": "d-U9YoiOmNQJ",
        "outputId": "f6e19824-52c1-471c-a715-55f255ddc4e1"
      },
      "execution_count": null,
      "outputs": [
        {
          "output_type": "execute_result",
          "data": {
            "text/plain": [
              "{'num': 3, 'den': 5, 'pot': 8}"
            ]
          },
          "metadata": {},
          "execution_count": 43
        }
      ]
    },
    {
      "cell_type": "code",
      "source": [
        "s.potencia()"
      ],
      "metadata": {
        "colab": {
          "base_uri": "https://localhost:8080/"
        },
        "id": "45MxCVqXmiv_",
        "outputId": "c9244513-5ae4-430e-857b-3695b7e62e07"
      },
      "execution_count": null,
      "outputs": [
        {
          "output_type": "stream",
          "name": "stdout",
          "text": [
            "6561 / 390625\n"
          ]
        },
        {
          "output_type": "execute_result",
          "data": {
            "text/plain": [
              "<__main__.Fraccion at 0x7fc695752d90>"
            ]
          },
          "metadata": {},
          "execution_count": 23
        }
      ]
    },
    {
      "cell_type": "code",
      "source": [
        "t=Fraccion(4,5,1)\n"
      ],
      "metadata": {
        "id": "Eg-adxB5poAG"
      },
      "execution_count": null,
      "outputs": []
    },
    {
      "cell_type": "code",
      "source": [
        "yo=t.resta(s)"
      ],
      "metadata": {
        "colab": {
          "base_uri": "https://localhost:8080/"
        },
        "id": "zUrWbD5Rrjjz",
        "outputId": "fb984dcd-756e-4ddf-e1af-ec1e24057dd4"
      },
      "execution_count": null,
      "outputs": [
        {
          "output_type": "stream",
          "name": "stdout",
          "text": [
            "5 / 5\n"
          ]
        }
      ]
    },
    {
      "cell_type": "code",
      "source": [
        "t.suma(s)"
      ],
      "metadata": {
        "colab": {
          "base_uri": "https://localhost:8080/"
        },
        "id": "QKsz6lyxp2Xt",
        "outputId": "335d8578-36af-41f1-ea9b-8196a1d02f81"
      },
      "execution_count": null,
      "outputs": [
        {
          "output_type": "stream",
          "name": "stdout",
          "text": [
            "35 / 5\n"
          ]
        },
        {
          "output_type": "execute_result",
          "data": {
            "text/plain": [
              "<__main__.Fraccion at 0x7fc695698590>"
            ]
          },
          "metadata": {},
          "execution_count": 46
        }
      ]
    },
    {
      "cell_type": "code",
      "source": [
        "t.producto(yo)"
      ],
      "metadata": {
        "colab": {
          "base_uri": "https://localhost:8080/",
          "height": 35
        },
        "id": "0Q-ufaHGtcEr",
        "outputId": "a6a0968f-89ac-4010-b456-735267251dc0"
      },
      "execution_count": null,
      "outputs": [
        {
          "output_type": "execute_result",
          "data": {
            "text/plain": [
              "'20/25'"
            ],
            "application/vnd.google.colaboratory.intrinsic+json": {
              "type": "string"
            }
          },
          "metadata": {},
          "execution_count": 47
        }
      ]
    },
    {
      "cell_type": "code",
      "source": [
        "a=t.div(s)"
      ],
      "metadata": {
        "id": "JVzCOQ_ewBy0"
      },
      "execution_count": null,
      "outputs": []
    },
    {
      "cell_type": "code",
      "source": [
        "print(a)"
      ],
      "metadata": {
        "colab": {
          "base_uri": "https://localhost:8080/"
        },
        "id": "a1q5bi2pwWWv",
        "outputId": "871cd14f-781f-4150-db08-083e460091ab"
      },
      "execution_count": null,
      "outputs": [
        {
          "output_type": "stream",
          "name": "stdout",
          "text": [
            "20/15\n"
          ]
        }
      ]
    }
  ]
}