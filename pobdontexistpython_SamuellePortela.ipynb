{
  "nbformat": 4,
  "nbformat_minor": 0,
  "metadata": {
    "colab": {
      "provenance": []
    },
    "kernelspec": {
      "name": "python3",
      "display_name": "Python 3"
    },
    "language_info": {
      "name": "python"
    }
  },
  "cells": [
    {
      "cell_type": "markdown",
      "source": [
        "#estos POB no existen en pyhton \n",
        "\n"
      ],
      "metadata": {
        "id": "ToFtRMPyPhGu"
      }
    },
    {
      "cell_type": "code",
      "execution_count": 54,
      "metadata": {
        "id": "u9fMq7VjPHZG"
      },
      "outputs": [],
      "source": [
        "class Sayajin():\n",
        "  def __init__(self,colamono,nombre,estatura):\n",
        "    self.__colamono=True\n",
        "    self._ccabello=\"negro\"\n",
        "    self.cojos=\"negro\"\n",
        "    self.nombre=nombre\n",
        "    self.estatura=estatura\n",
        "\n",
        "  def cambio_color(self,putisteria):\n",
        "    if putisteria>=4000 and putisteria<100000:\n",
        "      self.ccabello=\"rubio\"\n",
        "      self.cojos=\"aguamarina\"\n",
        "    elif putisteria>=100000 and putisteria<200000:\n",
        "      self.ccabello=\"rojo\"\n",
        "      self.cojo=\"rosita\"\n",
        "    elif putisteria>=200000 and putisteria<500000:\n",
        "      self.ccabello=\"azul\"\n",
        "      self.cojo=\"azul azul\"\n",
        "    elif putisteria>=500000 and putisteria<1000000:\n",
        "      self.ccabello=\"cenizo\"\n",
        "      self.cojo=\"plateado\"\n",
        "    else:\n",
        "      self.ccabello=\"negro\"\n",
        "      self.cojo=\"negro\"\n",
        "\n",
        "    def trabajo(self,t):\n",
        "      if t==1: print(self.nombre, \" es guerrero\")\n",
        "      elif t==2: print(f\"{self.nombre} es liendra de freezer\")\n",
        "      elif t==3: print(f\"{self.nombre} es mercenacio\")\n",
        "      elif t==4: print(f\"{self.nombre} es dela realeza\")\n",
        "      else : print(f\"{self.nombre} es NiNi XD\")\n",
        "\n"
      ]
    },
    {
      "cell_type": "code",
      "source": [
        "saya1=Sayajin(False,\"jhonsito\",180)"
      ],
      "metadata": {
        "id": "DHFZSRxTUr9L"
      },
      "execution_count": 56,
      "outputs": []
    },
    {
      "cell_type": "code",
      "source": [
        "saya1.__dict__"
      ],
      "metadata": {
        "colab": {
          "base_uri": "https://localhost:8080/"
        },
        "id": "cEAyG2yPVFsT",
        "outputId": "b62f38d7-7d47-445f-ea5b-641546b89a2e"
      },
      "execution_count": 57,
      "outputs": [
        {
          "output_type": "execute_result",
          "data": {
            "text/plain": [
              "{'_Sayajin__colamono': True,\n",
              " '_ccabello': 'negro',\n",
              " 'cojos': 'negro',\n",
              " 'nombre': 'jhonsito',\n",
              " 'estatura': 180}"
            ]
          },
          "metadata": {},
          "execution_count": 57
        }
      ]
    },
    {
      "cell_type": "code",
      "source": [
        "saya1.ccabello=\"aguamarina\""
      ],
      "metadata": {
        "id": "C7Jj4SxEVP8j"
      },
      "execution_count": 31,
      "outputs": []
    },
    {
      "cell_type": "code",
      "source": [
        "saya1.ccabello=100000"
      ],
      "metadata": {
        "id": "nWUoRVuVcJ7J"
      },
      "execution_count": 43,
      "outputs": []
    },
    {
      "cell_type": "code",
      "source": [
        "saya1.__dict__"
      ],
      "metadata": {
        "colab": {
          "base_uri": "https://localhost:8080/"
        },
        "id": "czMCc0EWVVob",
        "outputId": "aa58729b-2746-4cd9-de95-b40d4e6947c5"
      },
      "execution_count": 44,
      "outputs": [
        {
          "output_type": "execute_result",
          "data": {
            "text/plain": [
              "{'_Sayajin__colamono': True,\n",
              " '_ccabello': 'amarill con brishitos',\n",
              " 'cojos': 'negro',\n",
              " 'nombre': 'jhonsito',\n",
              " 'estatura': 180,\n",
              " 'ccabello': 100000,\n",
              " '__colamono': False}"
            ]
          },
          "metadata": {},
          "execution_count": 44
        }
      ]
    },
    {
      "cell_type": "code",
      "source": [
        "saya1._ccabello=\"amarill con brishitos\""
      ],
      "metadata": {
        "id": "t1zDya7NWAYi"
      },
      "execution_count": 33,
      "outputs": []
    },
    {
      "cell_type": "code",
      "source": [
        "saya1.__dict__"
      ],
      "metadata": {
        "colab": {
          "base_uri": "https://localhost:8080/"
        },
        "id": "p1vZKDcuWTwy",
        "outputId": "398244d6-fc21-4329-f434-3a222aa72810"
      },
      "execution_count": 34,
      "outputs": [
        {
          "output_type": "execute_result",
          "data": {
            "text/plain": [
              "{'_Sayajin__colamono': True,\n",
              " '_ccabello': 'amarill con brishitos',\n",
              " 'cojos': 'negro',\n",
              " 'nombre': 'jhonsito',\n",
              " 'estatura': 180,\n",
              " 'ccabello': 'aguamarina'}"
            ]
          },
          "metadata": {},
          "execution_count": 34
        }
      ]
    },
    {
      "cell_type": "code",
      "source": [
        "saya1.__colamono=False"
      ],
      "metadata": {
        "id": "qInHSxmlWjap"
      },
      "execution_count": 35,
      "outputs": []
    },
    {
      "cell_type": "code",
      "source": [
        "saya1.__dict__"
      ],
      "metadata": {
        "colab": {
          "base_uri": "https://localhost:8080/"
        },
        "id": "42TjqAIZWs-q",
        "outputId": "e06cb885-1e23-4982-afec-36ad99460853"
      },
      "execution_count": 36,
      "outputs": [
        {
          "output_type": "execute_result",
          "data": {
            "text/plain": [
              "{'_Sayajin__colamono': True,\n",
              " '_ccabello': 'amarill con brishitos',\n",
              " 'cojos': 'negro',\n",
              " 'nombre': 'jhonsito',\n",
              " 'estatura': 180,\n",
              " 'ccabello': 'aguamarina',\n",
              " '__colamono': False}"
            ]
          },
          "metadata": {},
          "execution_count": 36
        }
      ]
    },
    {
      "cell_type": "code",
      "source": [
        "saya1_Sayajin__colamono=False"
      ],
      "metadata": {
        "id": "mWUzrvgrW5GR"
      },
      "execution_count": 37,
      "outputs": []
    },
    {
      "cell_type": "code",
      "source": [
        "saya1.__dict__"
      ],
      "metadata": {
        "colab": {
          "base_uri": "https://localhost:8080/"
        },
        "id": "HWpkPfVRW88Z",
        "outputId": "ac9d53dd-ebe3-4f62-eaef-727c31b9e730"
      },
      "execution_count": 38,
      "outputs": [
        {
          "output_type": "execute_result",
          "data": {
            "text/plain": [
              "{'_Sayajin__colamono': True,\n",
              " '_ccabello': 'amarill con brishitos',\n",
              " 'cojos': 'negro',\n",
              " 'nombre': 'jhonsito',\n",
              " 'estatura': 180,\n",
              " 'ccabello': 'aguamarina',\n",
              " '__colamono': False}"
            ]
          },
          "metadata": {},
          "execution_count": 38
        }
      ]
    },
    {
      "cell_type": "code",
      "source": [
        "#encapsulamiento\n",
        "\n"
      ],
      "metadata": {
        "id": "A0cjn5mAVkqK"
      },
      "execution_count": null,
      "outputs": []
    },
    {
      "cell_type": "code",
      "source": [
        "class Humano():\n",
        "  def __init__(self,ccabello,cojos,nombre,estatura):\n",
        "    \n",
        "    self._ccabello=ccabello\n",
        "    self.cojos=cojos\n",
        "    self.nombre=nombre\n",
        "    self.estatura=estatura\n",
        "\n",
        "  def cambio_color(self,tinte):\n",
        "    if tinte==1:\n",
        "      self.ccabello=\"rubio\"\n",
        "      self.cojos=\"aguamarina\"\n",
        "    elif tinte==2:\n",
        "      self.ccabello=\"rojo\"\n",
        "      self.cojo=\"rosita\"\n",
        "    elif tinte==3:\n",
        "      self.ccabello=\"azul\"\n",
        "      self.cojo=\"azul azul\"\n",
        "    elif tinte==0:\n",
        "      self.ccabello=\"cenizo\"\n",
        "      self.cojo=\"plateado\"\n",
        "    else:\n",
        "      self.ccabello=\"ocre\"\n",
        "      self.cojo=\"miel\"\n",
        "\n",
        "    def trabajo(self,t):\n",
        "      if t==1: print(self.nombre, \" es periodista\")\n",
        "      elif t==2: print(f\"{self.nombre} es político\")\n",
        "      elif t==3: print(f\"{self.nombre} es de la patrulla roja\")\n",
        "      elif t==4: print(f\"{self.nombre} trabaja en capsule corps\")\n",
        "      elif t==5: print(f\"{self.nombre} es policía\")\n",
        "      elif t==6: print(f\"{self.nombre} es granjero\")\n",
        "      else : print(f\"{self.nombre} es NiNi XD\")\n"
      ],
      "metadata": {
        "id": "5eXGsfGJaSct"
      },
      "execution_count": 53,
      "outputs": []
    },
    {
      "cell_type": "code",
      "source": [
        "class Hibrido(Sayajin,Humano):\n",
        "  def __init__(self,ccabello,cojos,colamono,nombre,estatura):\n",
        "    super().__init__(colamono,nombre,estatura)\n",
        "    self.ccabello=ccabello\n",
        "    self.cojos=cojos\n",
        "\n",
        "  def cambio_color(self,a):\n",
        "    super().cambio_color(a)\n",
        "    if a>=10000000000 and a<1000000000000000000:\n",
        "      self.ccabello=\"blanco\"\n",
        "      self.cojo=\"rojos\"\n"
      ],
      "metadata": {
        "id": "FVfzxLQfbbhT"
      },
      "execution_count": 58,
      "outputs": []
    },
    {
      "cell_type": "code",
      "source": [
        "human=Humano(\"negro\",\"marron\",\"Carlitos\",170)"
      ],
      "metadata": {
        "id": "hvH99_f5blKj"
      },
      "execution_count": 41,
      "outputs": []
    },
    {
      "cell_type": "code",
      "source": [
        "saya1.ccabello=100000"
      ],
      "metadata": {
        "id": "PmG4NuLVcXxv"
      },
      "execution_count": 45,
      "outputs": []
    },
    {
      "cell_type": "code",
      "source": [
        "\n",
        "saya1.__dict__"
      ],
      "metadata": {
        "colab": {
          "base_uri": "https://localhost:8080/"
        },
        "id": "540n1t_KcftP",
        "outputId": "4befa3a4-5b56-4905-d974-b2b57f76dcd1"
      },
      "execution_count": 46,
      "outputs": [
        {
          "output_type": "execute_result",
          "data": {
            "text/plain": [
              "{'_Sayajin__colamono': True,\n",
              " '_ccabello': 'amarill con brishitos',\n",
              " 'cojos': 'negro',\n",
              " 'nombre': 'jhonsito',\n",
              " 'estatura': 180,\n",
              " 'ccabello': 100000,\n",
              " '__colamono': False}"
            ]
          },
          "metadata": {},
          "execution_count": 46
        }
      ]
    },
    {
      "cell_type": "code",
      "source": [
        "human.__dict__"
      ],
      "metadata": {
        "colab": {
          "base_uri": "https://localhost:8080/"
        },
        "id": "3sTK6Uxaby-R",
        "outputId": "2bb019d0-b0b5-4060-fc91-d12352d27bb7"
      },
      "execution_count": 42,
      "outputs": [
        {
          "output_type": "execute_result",
          "data": {
            "text/plain": [
              "{'_ccabello': 'negro',\n",
              " 'cojos': 'marron',\n",
              " 'nombre': 'Carlitos',\n",
              " 'estatura': 170}"
            ]
          },
          "metadata": {},
          "execution_count": 42
        }
      ]
    },
    {
      "cell_type": "code",
      "source": [
        "persona=Hibrido(False,\"Gohan\",185)\n",
        "persona.__dict__"
      ],
      "metadata": {
        "colab": {
          "base_uri": "https://localhost:8080/"
        },
        "id": "vVCk59_FcuFX",
        "outputId": "2cd0a610-6e01-42a0-b7c8-618dbdccb15c"
      },
      "execution_count": 50,
      "outputs": [
        {
          "output_type": "execute_result",
          "data": {
            "text/plain": [
              "{'_Sayajin__colamono': True,\n",
              " '_ccabello': 'negro',\n",
              " 'cojos': 'negro',\n",
              " 'nombre': 'Gohan',\n",
              " 'estatura': 185}"
            ]
          },
          "metadata": {},
          "execution_count": 50
        }
      ]
    },
    {
      "cell_type": "code",
      "source": [
        "human.cambio_color"
      ],
      "metadata": {
        "id": "jg90OxrId9ze"
      },
      "execution_count": null,
      "outputs": []
    }
  ]
}